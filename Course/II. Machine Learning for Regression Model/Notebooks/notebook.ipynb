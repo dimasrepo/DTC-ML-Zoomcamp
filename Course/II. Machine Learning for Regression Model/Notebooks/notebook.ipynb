{
 "cells": [
  {
   "cell_type": "markdown",
   "metadata": {},
   "source": [
    "## 2. Machine Learning for Regression\n"
   ]
  },
  {
   "cell_type": "code",
   "execution_count": 20,
   "metadata": {
    "scrolled": true
   },
   "outputs": [],
   "source": [
    "import pandas as pd\n",
    "import numpy as np"
   ]
  },
  {
   "cell_type": "markdown",
   "id": "33ce943c",
   "metadata": {},
   "source": [
    "Memanggil package pandas dan numpy"
   ]
  },
  {
   "cell_type": "markdown",
   "metadata": {},
   "source": [
    "## 2.2 Data preparation"
   ]
  },
  {
   "cell_type": "code",
   "execution_count": 21,
   "metadata": {},
   "outputs": [],
   "source": [
    "#data = 'https://raw.githubusercontent.com/alexeygrigorev/mlbookcamp-code/master/chapter-02-car-price/data.csv'"
   ]
  },
  {
   "cell_type": "markdown",
   "id": "b7290f7a",
   "metadata": {},
   "source": [
    "Menarik data dari source"
   ]
  },
  {
   "cell_type": "code",
   "execution_count": 22,
   "metadata": {},
   "outputs": [],
   "source": [
    "# !wget $data "
   ]
  },
  {
   "cell_type": "markdown",
   "id": "901a88bb",
   "metadata": {},
   "source": [
    "wget merupakan fungsi alat baris perintah yang populer digunakan untuk mengunduh file dari internet."
   ]
  },
  {
   "cell_type": "code",
   "execution_count": 23,
   "metadata": {},
   "outputs": [],
   "source": [
    "df = pd.read_csv('C:\\Dimas\\Docs\\Me\\Coding\\Self Learn Bootcamp\\Language\\Github Data\\Repo\\DTC-ML-Zoomcamp\\Course\\II. Machine Learning for Regression Model\\Dataset/data.csv')"
   ]
  },
  {
   "cell_type": "markdown",
   "id": "4c12a579",
   "metadata": {},
   "source": [
    "1. Menggunakan = untuk assign data yang sudah di read ke variable df\n",
    "2. `pd.read_csv()` = merupakan fungsi dari pandas untuk membaca data dalam format file csv"
   ]
  },
  {
   "cell_type": "code",
   "execution_count": 24,
   "metadata": {},
   "outputs": [],
   "source": [
    "df.columns = df.columns.str.lower().str.replace(' ', '_')"
   ]
  },
  {
   "cell_type": "markdown",
   "id": "55d9d604",
   "metadata": {},
   "source": [
    " `df.columns = df.columns.str.lower().str.replace(' ', '_')`\n",
    "1. `df.`fungsi untuk memanggil data frame\n",
    "2. `columns` fungsi untuk memanggil atribut kolom pada data framenya\n",
    "3. `str` fungsi untuk memilih data string pada kolom\n",
    "4. `lower()` fungsi untuk  mengubah semua huruf menjadi kecil\n",
    "5. `replace` fungsi untuk  mengganti karakter pada string\n"
   ]
  },
  {
   "cell_type": "code",
   "execution_count": 25,
   "metadata": {},
   "outputs": [
    {
     "data": {
      "text/plain": [
       "0            bmw\n",
       "1            bmw\n",
       "2            bmw\n",
       "3            bmw\n",
       "4            bmw\n",
       "          ...   \n",
       "11909      acura\n",
       "11910      acura\n",
       "11911      acura\n",
       "11912      acura\n",
       "11913    lincoln\n",
       "Name: make, Length: 11914, dtype: object"
      ]
     },
     "execution_count": 25,
     "metadata": {},
     "output_type": "execute_result"
    }
   ],
   "source": [
    "df['make'].str.lower().str.replace(' ', '_')"
   ]
  },
  {
   "cell_type": "markdown",
   "id": "cbeec3c1",
   "metadata": {},
   "source": [
    "`df['make'].str.lower().str.replace(' ', '_')`\n",
    "1. `df['make']` fungsi untuk memanggil data frame dengan nama kolom `make`.\n",
    "2. `.str.lower()` fungsi untuk mengubah semua karakter dalam kolom `make` menjadi huruf kecil.\n",
    "3. `.str.replace(' ', '_')` fungsi untuk menggantikan semua spasi (' ') dalam nilai kolom 'make' dengan garis bawah ('_')."
   ]
  },
  {
   "cell_type": "code",
   "execution_count": 26,
   "metadata": {},
   "outputs": [],
   "source": [
    "strings = list(df.dtypes[df.dtypes == 'object'].index)"
   ]
  },
  {
   "cell_type": "markdown",
   "id": "9bcc950f",
   "metadata": {},
   "source": [
    "`strings = list(df.dtypes[df.dtypes == 'object'].index)`\n",
    "1. `strings =` fungsi untuk assign  nilai ke variabel strings\n",
    "2. `list()` fungsi untuk mengubah hasil dari `df.dtypes[df.dtypes == 'object']`\n",
    "3. `df.dtypes()`  fungsi untuk mendapatkan tipe data dari setiap kolom dataframe\n",
    "4. `df.dtypes == 'object'` fungsi untuk memfilter kolom yang memiliki\n",
    "5. `.index` fungsi untuk mengambil index dari hasil diatas\n"
   ]
  },
  {
   "cell_type": "code",
   "execution_count": 27,
   "metadata": {},
   "outputs": [],
   "source": [
    "for col in strings:\n",
    "    df[col] = df[col].str.lower().str.replace(' ', '_')"
   ]
  },
  {
   "cell_type": "markdown",
   "id": "e7beb315",
   "metadata": {},
   "source": [
    "`for col in strings:\n",
    "    df[col] = df[col].str.lower().str.replace(' ', '_')`\n",
    "1. `for` fungsi  untuk mengulang kode yang sama untuk setiap kolom dalam data frame.\n",
    "2. `col` adalah variabel yang digunakan untuk mengacu pada setiap kolom\n",
    "3. `in` fungsi untuk  mengakses setiap kolom dalam data frame\n",
    "4. `strings` fungsi untuk  mengakses setiap kolom yang merupakan string\n",
    "5. `df[col]` mengacu pada kolom yang sedang diproses\n",
    "6. `.str.lower()` fungsi  untuk mengubah semua karakter dalam kolom menjadi huruf kecil\n",
    "7. `.str.replace(' ', '_')`  fungsi  untuk mengganti spasi dengan underscore dalam kolom\n",
    "\n"
   ]
  },
  {
   "cell_type": "code",
   "execution_count": 28,
   "metadata": {},
   "outputs": [
    {
     "data": {
      "text/plain": [
       "make                  object\n",
       "model                 object\n",
       "year                   int64\n",
       "engine_fuel_type      object\n",
       "engine_hp            float64\n",
       "engine_cylinders     float64\n",
       "transmission_type     object\n",
       "driven_wheels         object\n",
       "number_of_doors      float64\n",
       "market_category       object\n",
       "vehicle_size          object\n",
       "vehicle_style         object\n",
       "highway_mpg            int64\n",
       "city_mpg               int64\n",
       "popularity             int64\n",
       "msrp                   int64\n",
       "dtype: object"
      ]
     },
     "execution_count": 28,
     "metadata": {},
     "output_type": "execute_result"
    }
   ],
   "source": [
    "df.dtypes"
   ]
  },
  {
   "cell_type": "markdown",
   "id": "66d6f41c",
   "metadata": {},
   "source": [
    "`df.dtypes` fungsi untuk melihat tipe data dari masing masing kolom"
   ]
  },
  {
   "cell_type": "markdown",
   "metadata": {},
   "source": [
    "## 2.3 Exploratory data analysis"
   ]
  },
  {
   "cell_type": "code",
   "execution_count": 29,
   "metadata": {},
   "outputs": [
    {
     "name": "stdout",
     "output_type": "stream",
     "text": [
      "make\n",
      "['bmw' 'audi' 'fiat' 'mercedes-benz' 'chrysler']\n",
      "48\n",
      "\n",
      "model\n",
      "['1_series_m' '1_series' '100' '124_spider' '190-class']\n",
      "914\n",
      "\n",
      "year\n",
      "[2011 2012 2013 1992 1993]\n",
      "28\n",
      "\n",
      "engine_fuel_type\n",
      "['premium_unleaded_(required)' 'regular_unleaded'\n",
      " 'premium_unleaded_(recommended)' 'flex-fuel_(unleaded/e85)' 'diesel']\n",
      "10\n",
      "\n",
      "engine_hp\n",
      "[335. 300. 230. 320. 172.]\n",
      "356\n",
      "\n",
      "engine_cylinders\n",
      "[ 6.  4.  5.  8. 12.]\n",
      "9\n",
      "\n",
      "transmission_type\n",
      "['manual' 'automatic' 'automated_manual' 'direct_drive' 'unknown']\n",
      "5\n",
      "\n",
      "driven_wheels\n",
      "['rear_wheel_drive' 'front_wheel_drive' 'all_wheel_drive'\n",
      " 'four_wheel_drive']\n",
      "4\n",
      "\n",
      "number_of_doors\n",
      "[ 2.  4.  3. nan]\n",
      "3\n",
      "\n",
      "market_category\n",
      "['factory_tuner,luxury,high-performance' 'luxury,performance'\n",
      " 'luxury,high-performance' 'luxury' 'performance']\n",
      "71\n",
      "\n",
      "vehicle_size\n",
      "['compact' 'midsize' 'large']\n",
      "3\n",
      "\n",
      "vehicle_style\n",
      "['coupe' 'convertible' 'sedan' 'wagon' '4dr_hatchback']\n",
      "16\n",
      "\n",
      "highway_mpg\n",
      "[26 28 27 25 24]\n",
      "59\n",
      "\n",
      "city_mpg\n",
      "[19 20 18 17 16]\n",
      "69\n",
      "\n",
      "popularity\n",
      "[3916 3105  819  617 1013]\n",
      "48\n",
      "\n",
      "msrp\n",
      "[46135 40650 36350 29450 34500]\n",
      "6049\n",
      "\n"
     ]
    }
   ],
   "source": [
    "for col in df.columns:\n",
    "    print(col)\n",
    "    print(df[col].unique()[:5])\n",
    "    print(df[col].nunique())\n",
    "    print()"
   ]
  },
  {
   "cell_type": "markdown",
   "id": "5fce75bb",
   "metadata": {},
   "source": [
    "`for col in df.columns:\n",
    "    print(col)\n",
    "    print(df[col].unique()[:5])\n",
    "    print(df[col].nunique())\n",
    "    print()`\n",
    "1. `for` Fungsi ini digunakan untuk mengulang kode yang sama untuk setiap kolom dalam DataFrame df.\n",
    "2. `col` Ini adalah variabel yang digunakan untuk mengacu pada setiap kolom yang sedang diproses di dalam loop.\n",
    "3. `in` Kata kunci ini digunakan untuk mengiterasi (menjalankan loop) pada elemen-elemen dalam iterable, dalam hal ini, nama kolom dari DataFrame df.\n",
    "4. `df.columns` Ini mengacu pada daftar semua nama kolom dalam DataFrame df.\n",
    "\n",
    "5. `print(col)` Fungsi ini mencetak nama kolom saat ini yang sedang diproses dalam loop.\n",
    "\n",
    "6. `df[col].unique()` Metode ini mengembalikan nilai unik dari kolom yang sedang diproses. Ini berguna untuk melihat variasi data dalam kolom tersebut.\n",
    "\n",
    "7. `[:5]` Ini adalah slicing yang digunakan untuk menampilkan hanya lima nilai unik pertama dari kolom.\n",
    "\n",
    "8. `print(df[col].nunique())` Metode ini mengembalikan jumlah nilai unik dalam kolom yang sedang diproses dan mencetaknya. Ini memberikan informasi tentang variasi data dalam kolom tersebut.\n",
    "\n",
    "9. `print()` Fungsi ini mencetak baris kosong untuk memisahkan output dari setiap kolom yang dicetak, sehingga hasilnya lebih mudah dibaca."
   ]
  },
  {
   "cell_type": "code",
   "execution_count": 30,
   "metadata": {},
   "outputs": [
    {
     "data": {
      "text/html": [
       "<div>\n",
       "<style scoped>\n",
       "    .dataframe tbody tr th:only-of-type {\n",
       "        vertical-align: middle;\n",
       "    }\n",
       "\n",
       "    .dataframe tbody tr th {\n",
       "        vertical-align: top;\n",
       "    }\n",
       "\n",
       "    .dataframe thead th {\n",
       "        text-align: right;\n",
       "    }\n",
       "</style>\n",
       "<table border=\"1\" class=\"dataframe\">\n",
       "  <thead>\n",
       "    <tr style=\"text-align: right;\">\n",
       "      <th></th>\n",
       "      <th>make</th>\n",
       "      <th>model</th>\n",
       "      <th>year</th>\n",
       "      <th>engine_fuel_type</th>\n",
       "      <th>engine_hp</th>\n",
       "      <th>engine_cylinders</th>\n",
       "      <th>transmission_type</th>\n",
       "      <th>driven_wheels</th>\n",
       "      <th>number_of_doors</th>\n",
       "      <th>market_category</th>\n",
       "      <th>vehicle_size</th>\n",
       "      <th>vehicle_style</th>\n",
       "      <th>highway_mpg</th>\n",
       "      <th>city_mpg</th>\n",
       "      <th>popularity</th>\n",
       "      <th>msrp</th>\n",
       "    </tr>\n",
       "  </thead>\n",
       "  <tbody>\n",
       "    <tr>\n",
       "      <th>0</th>\n",
       "      <td>bmw</td>\n",
       "      <td>1_series_m</td>\n",
       "      <td>2011</td>\n",
       "      <td>premium_unleaded_(required)</td>\n",
       "      <td>335.0</td>\n",
       "      <td>6.0</td>\n",
       "      <td>manual</td>\n",
       "      <td>rear_wheel_drive</td>\n",
       "      <td>2.0</td>\n",
       "      <td>factory_tuner,luxury,high-performance</td>\n",
       "      <td>compact</td>\n",
       "      <td>coupe</td>\n",
       "      <td>26</td>\n",
       "      <td>19</td>\n",
       "      <td>3916</td>\n",
       "      <td>46135</td>\n",
       "    </tr>\n",
       "    <tr>\n",
       "      <th>1</th>\n",
       "      <td>bmw</td>\n",
       "      <td>1_series</td>\n",
       "      <td>2011</td>\n",
       "      <td>premium_unleaded_(required)</td>\n",
       "      <td>300.0</td>\n",
       "      <td>6.0</td>\n",
       "      <td>manual</td>\n",
       "      <td>rear_wheel_drive</td>\n",
       "      <td>2.0</td>\n",
       "      <td>luxury,performance</td>\n",
       "      <td>compact</td>\n",
       "      <td>convertible</td>\n",
       "      <td>28</td>\n",
       "      <td>19</td>\n",
       "      <td>3916</td>\n",
       "      <td>40650</td>\n",
       "    </tr>\n",
       "    <tr>\n",
       "      <th>2</th>\n",
       "      <td>bmw</td>\n",
       "      <td>1_series</td>\n",
       "      <td>2011</td>\n",
       "      <td>premium_unleaded_(required)</td>\n",
       "      <td>300.0</td>\n",
       "      <td>6.0</td>\n",
       "      <td>manual</td>\n",
       "      <td>rear_wheel_drive</td>\n",
       "      <td>2.0</td>\n",
       "      <td>luxury,high-performance</td>\n",
       "      <td>compact</td>\n",
       "      <td>coupe</td>\n",
       "      <td>28</td>\n",
       "      <td>20</td>\n",
       "      <td>3916</td>\n",
       "      <td>36350</td>\n",
       "    </tr>\n",
       "    <tr>\n",
       "      <th>3</th>\n",
       "      <td>bmw</td>\n",
       "      <td>1_series</td>\n",
       "      <td>2011</td>\n",
       "      <td>premium_unleaded_(required)</td>\n",
       "      <td>230.0</td>\n",
       "      <td>6.0</td>\n",
       "      <td>manual</td>\n",
       "      <td>rear_wheel_drive</td>\n",
       "      <td>2.0</td>\n",
       "      <td>luxury,performance</td>\n",
       "      <td>compact</td>\n",
       "      <td>coupe</td>\n",
       "      <td>28</td>\n",
       "      <td>18</td>\n",
       "      <td>3916</td>\n",
       "      <td>29450</td>\n",
       "    </tr>\n",
       "    <tr>\n",
       "      <th>4</th>\n",
       "      <td>bmw</td>\n",
       "      <td>1_series</td>\n",
       "      <td>2011</td>\n",
       "      <td>premium_unleaded_(required)</td>\n",
       "      <td>230.0</td>\n",
       "      <td>6.0</td>\n",
       "      <td>manual</td>\n",
       "      <td>rear_wheel_drive</td>\n",
       "      <td>2.0</td>\n",
       "      <td>luxury</td>\n",
       "      <td>compact</td>\n",
       "      <td>convertible</td>\n",
       "      <td>28</td>\n",
       "      <td>18</td>\n",
       "      <td>3916</td>\n",
       "      <td>34500</td>\n",
       "    </tr>\n",
       "    <tr>\n",
       "      <th>...</th>\n",
       "      <td>...</td>\n",
       "      <td>...</td>\n",
       "      <td>...</td>\n",
       "      <td>...</td>\n",
       "      <td>...</td>\n",
       "      <td>...</td>\n",
       "      <td>...</td>\n",
       "      <td>...</td>\n",
       "      <td>...</td>\n",
       "      <td>...</td>\n",
       "      <td>...</td>\n",
       "      <td>...</td>\n",
       "      <td>...</td>\n",
       "      <td>...</td>\n",
       "      <td>...</td>\n",
       "      <td>...</td>\n",
       "    </tr>\n",
       "    <tr>\n",
       "      <th>11909</th>\n",
       "      <td>acura</td>\n",
       "      <td>zdx</td>\n",
       "      <td>2012</td>\n",
       "      <td>premium_unleaded_(required)</td>\n",
       "      <td>300.0</td>\n",
       "      <td>6.0</td>\n",
       "      <td>automatic</td>\n",
       "      <td>all_wheel_drive</td>\n",
       "      <td>4.0</td>\n",
       "      <td>crossover,hatchback,luxury</td>\n",
       "      <td>midsize</td>\n",
       "      <td>4dr_hatchback</td>\n",
       "      <td>23</td>\n",
       "      <td>16</td>\n",
       "      <td>204</td>\n",
       "      <td>46120</td>\n",
       "    </tr>\n",
       "    <tr>\n",
       "      <th>11910</th>\n",
       "      <td>acura</td>\n",
       "      <td>zdx</td>\n",
       "      <td>2012</td>\n",
       "      <td>premium_unleaded_(required)</td>\n",
       "      <td>300.0</td>\n",
       "      <td>6.0</td>\n",
       "      <td>automatic</td>\n",
       "      <td>all_wheel_drive</td>\n",
       "      <td>4.0</td>\n",
       "      <td>crossover,hatchback,luxury</td>\n",
       "      <td>midsize</td>\n",
       "      <td>4dr_hatchback</td>\n",
       "      <td>23</td>\n",
       "      <td>16</td>\n",
       "      <td>204</td>\n",
       "      <td>56670</td>\n",
       "    </tr>\n",
       "    <tr>\n",
       "      <th>11911</th>\n",
       "      <td>acura</td>\n",
       "      <td>zdx</td>\n",
       "      <td>2012</td>\n",
       "      <td>premium_unleaded_(required)</td>\n",
       "      <td>300.0</td>\n",
       "      <td>6.0</td>\n",
       "      <td>automatic</td>\n",
       "      <td>all_wheel_drive</td>\n",
       "      <td>4.0</td>\n",
       "      <td>crossover,hatchback,luxury</td>\n",
       "      <td>midsize</td>\n",
       "      <td>4dr_hatchback</td>\n",
       "      <td>23</td>\n",
       "      <td>16</td>\n",
       "      <td>204</td>\n",
       "      <td>50620</td>\n",
       "    </tr>\n",
       "    <tr>\n",
       "      <th>11912</th>\n",
       "      <td>acura</td>\n",
       "      <td>zdx</td>\n",
       "      <td>2013</td>\n",
       "      <td>premium_unleaded_(recommended)</td>\n",
       "      <td>300.0</td>\n",
       "      <td>6.0</td>\n",
       "      <td>automatic</td>\n",
       "      <td>all_wheel_drive</td>\n",
       "      <td>4.0</td>\n",
       "      <td>crossover,hatchback,luxury</td>\n",
       "      <td>midsize</td>\n",
       "      <td>4dr_hatchback</td>\n",
       "      <td>23</td>\n",
       "      <td>16</td>\n",
       "      <td>204</td>\n",
       "      <td>50920</td>\n",
       "    </tr>\n",
       "    <tr>\n",
       "      <th>11913</th>\n",
       "      <td>lincoln</td>\n",
       "      <td>zephyr</td>\n",
       "      <td>2006</td>\n",
       "      <td>regular_unleaded</td>\n",
       "      <td>221.0</td>\n",
       "      <td>6.0</td>\n",
       "      <td>automatic</td>\n",
       "      <td>front_wheel_drive</td>\n",
       "      <td>4.0</td>\n",
       "      <td>luxury</td>\n",
       "      <td>midsize</td>\n",
       "      <td>sedan</td>\n",
       "      <td>26</td>\n",
       "      <td>17</td>\n",
       "      <td>61</td>\n",
       "      <td>28995</td>\n",
       "    </tr>\n",
       "  </tbody>\n",
       "</table>\n",
       "<p>11914 rows × 16 columns</p>\n",
       "</div>"
      ],
      "text/plain": [
       "          make       model  year                engine_fuel_type  engine_hp  \\\n",
       "0          bmw  1_series_m  2011     premium_unleaded_(required)      335.0   \n",
       "1          bmw    1_series  2011     premium_unleaded_(required)      300.0   \n",
       "2          bmw    1_series  2011     premium_unleaded_(required)      300.0   \n",
       "3          bmw    1_series  2011     premium_unleaded_(required)      230.0   \n",
       "4          bmw    1_series  2011     premium_unleaded_(required)      230.0   \n",
       "...        ...         ...   ...                             ...        ...   \n",
       "11909    acura         zdx  2012     premium_unleaded_(required)      300.0   \n",
       "11910    acura         zdx  2012     premium_unleaded_(required)      300.0   \n",
       "11911    acura         zdx  2012     premium_unleaded_(required)      300.0   \n",
       "11912    acura         zdx  2013  premium_unleaded_(recommended)      300.0   \n",
       "11913  lincoln      zephyr  2006                regular_unleaded      221.0   \n",
       "\n",
       "       engine_cylinders transmission_type      driven_wheels  number_of_doors  \\\n",
       "0                   6.0            manual   rear_wheel_drive              2.0   \n",
       "1                   6.0            manual   rear_wheel_drive              2.0   \n",
       "2                   6.0            manual   rear_wheel_drive              2.0   \n",
       "3                   6.0            manual   rear_wheel_drive              2.0   \n",
       "4                   6.0            manual   rear_wheel_drive              2.0   \n",
       "...                 ...               ...                ...              ...   \n",
       "11909               6.0         automatic    all_wheel_drive              4.0   \n",
       "11910               6.0         automatic    all_wheel_drive              4.0   \n",
       "11911               6.0         automatic    all_wheel_drive              4.0   \n",
       "11912               6.0         automatic    all_wheel_drive              4.0   \n",
       "11913               6.0         automatic  front_wheel_drive              4.0   \n",
       "\n",
       "                             market_category vehicle_size  vehicle_style  \\\n",
       "0      factory_tuner,luxury,high-performance      compact          coupe   \n",
       "1                         luxury,performance      compact    convertible   \n",
       "2                    luxury,high-performance      compact          coupe   \n",
       "3                         luxury,performance      compact          coupe   \n",
       "4                                     luxury      compact    convertible   \n",
       "...                                      ...          ...            ...   \n",
       "11909             crossover,hatchback,luxury      midsize  4dr_hatchback   \n",
       "11910             crossover,hatchback,luxury      midsize  4dr_hatchback   \n",
       "11911             crossover,hatchback,luxury      midsize  4dr_hatchback   \n",
       "11912             crossover,hatchback,luxury      midsize  4dr_hatchback   \n",
       "11913                                 luxury      midsize          sedan   \n",
       "\n",
       "       highway_mpg  city_mpg  popularity   msrp  \n",
       "0               26        19        3916  46135  \n",
       "1               28        19        3916  40650  \n",
       "2               28        20        3916  36350  \n",
       "3               28        18        3916  29450  \n",
       "4               28        18        3916  34500  \n",
       "...            ...       ...         ...    ...  \n",
       "11909           23        16         204  46120  \n",
       "11910           23        16         204  56670  \n",
       "11911           23        16         204  50620  \n",
       "11912           23        16         204  50920  \n",
       "11913           26        17          61  28995  \n",
       "\n",
       "[11914 rows x 16 columns]"
      ]
     },
     "execution_count": 30,
     "metadata": {},
     "output_type": "execute_result"
    }
   ],
   "source": [
    "df"
   ]
  },
  {
   "cell_type": "markdown",
   "metadata": {},
   "source": [
    "Distribution of price"
   ]
  },
  {
   "cell_type": "code",
   "execution_count": 31,
   "metadata": {},
   "outputs": [],
   "source": [
    "import matplotlib.pyplot as plt\n",
    "import seaborn as sns\n",
    "\n",
    "%matplotlib inline"
   ]
  },
  {
   "cell_type": "markdown",
   "id": "aff9e1f3",
   "metadata": {},
   "source": [
    "`%matplotlib inline` adalah perintah khusus yang digunakan dalam Jupyter Notebook untuk menampilkan grafik yang dihasilkan oleh Matplotlib langsung di dalam notebook itu sendiri, alih-alih membuka jendela terpisah untuk setiap plot.\n",
    "\n",
    "**Fungsi dan Manfaat**\n",
    "\n",
    "1. Menyematkan Grafik Perintah ini memungkinkan grafik yang dihasilkan oleh Matplotlib disematkan langsung di bawah sel kode, sehingga memudahkan untuk melihat dan menganalisis grafik tanpa harus berpindah jendela.\n",
    "\n",
    "2. Interaktivitas Walaupun grafik yang dihasilkan dengan `%matplotlib inline` tidak interaktif seperti yang dihasilkan oleh beberapa pustaka lainnya, hal ini tetap memungkinkan pengguna untuk dengan cepat melihat hasil visualisasi tanpa mengganggu alur kerja di dalam notebook.\n",
    "\n",
    "3. Penyajian Data Sangat berguna dalam konteks presentasi atau dokumentasi, di mana Anda ingin menampilkan grafik bersamaan dengan analisis atau penjelasan lainnya.\n"
   ]
  },
  {
   "cell_type": "code",
   "execution_count": 32,
   "metadata": {},
   "outputs": [
    {
     "data": {
      "text/plain": [
       "<Axes: xlabel='msrp', ylabel='Count'>"
      ]
     },
     "execution_count": 32,
     "metadata": {},
     "output_type": "execute_result"
    },
    {
     "data": {
      "image/png": "[encoded data removed]",
      "text/plain": [
       "<Figure size 640x480 with 1 Axes>"
      ]
     },
     "metadata": {},
     "output_type": "display_data"
    }
   ],
   "source": [
    "sns.histplot(df.msrp, bins=50)"
   ]
  },
  {
   "cell_type": "markdown",
   "id": "90b26655",
   "metadata": {},
   "source": [
    "`sns.histplot(df.msrp, bins=50)` adalah fungsi dari pustaka Seaborn yang digunakan untuk membuat histogram dari data yang ada dalam kolom `msrp` dari DataFrame `df`. Histogram adalah grafik yang menunjukkan distribusi frekuensi dari data.\n",
    "1. `sns`: Ini adalah alias untuk pustaka Seaborn, yang merupakan pustaka visualisasi data berbasis Matplotlib yang memberikan antarmuka yang lebih tinggi dan lebih mudah untuk membuat visualisasi statistik.\n",
    "\n",
    "2. `histplot`: Fungsi ini digunakan untuk membuat histogram. Histogram membagi rentang data menjadi interval (atau bin) dan menghitung jumlah observasi yang jatuh ke dalam setiap interval.\n",
    "\n",
    "3. `df.msrp`: Ini mengacu pada kolom `msrp` dari DataFrame `df`, yang berisi data yang akan digunakan untuk membuat histogram. Biasanya, `msrp` merujuk pada harga eceran yang disarankan oleh pabrikan (Manufacturer's Suggested Retail Price).\n",
    "\n",
    "4. `bins=50`: Parameter ini menentukan jumlah interval (atau bin) yang akan digunakan dalam histogram. Dalam hal ini, histogram akan dibagi menjadi 50 interval. Menentukan jumlah bin yang tepat penting untuk mendapatkan visualisasi yang jelas dan informatif, karena terlalu banyak atau terlalu sedikit bin dapat menyembunyikan pola dalam data."
   ]
  },
  {
   "cell_type": "code",
   "execution_count": 33,
   "metadata": {},
   "outputs": [
    {
     "data": {
      "text/plain": [
       "<Axes: xlabel='msrp', ylabel='Count'>"
      ]
     },
     "execution_count": 33,
     "metadata": {},
     "output_type": "execute_result"
    },
    {
     "data": {
      "image/png": "[encoded data removed]",
      "text/plain": [
       "<Figure size 640x480 with 1 Axes>"
      ]
     },
     "metadata": {},
     "output_type": "display_data"
    }
   ],
   "source": [
    "sns.histplot(df.msrp[df.msrp < 100000], bins=50)"
   ]
  },
  {
   "cell_type": "markdown",
   "id": "619cc2a9",
   "metadata": {},
   "source": [
    "`sns.histplot(df.msrp[df.msrp < 100000], bins=50)` adalah fungsi dari pustaka Seaborn yang digunakan untuk membuat histogram dari data dalam kolom `msrp` dari DataFrame `df`, tetapi hanya untuk nilai yang kurang dari 100.000. Ini membantu dalam memfokuskan analisis pada rentang harga tertentu.\n",
    "1. `sns`: Ini adalah alias untuk pustaka Seaborn, yang merupakan pustaka visualisasi data berbasis Matplotlib yang menyediakan antarmuka yang lebih tinggi untuk membuat visualisasi statistik yang informatif.\n",
    "2. `histplot`: Fungsi ini digunakan untuk membuat histogram, yang merupakan representasi grafis dari distribusi frekuensi dari data.\n",
    "3. `df.msrp[df.msrp < 100000]`: \n",
    "   - `df.msrp` mengacu pada kolom `msrp` dari DataFrame `df`.\n",
    "   - `[df.msrp < 100000]` adalah kondisi yang digunakan untuk menyaring data. Hanya nilai `msrp` yang kurang dari 100.000 yang akan digunakan untuk membuat histogram. Ini berguna untuk menghindari pengaruh nilai ekstrem atau outlier yang mungkin ada dalam dataset.\n",
    "4. `bins=50`: Parameter ini menentukan jumlah interval (atau bin) yang akan digunakan dalam histogram. Dalam hal ini, histogram akan dibagi menjadi 50 interval. Pemilihan jumlah bin yang tepat penting untuk visualisasi yang jelas dan informatif."
   ]
  },
  {
   "cell_type": "code",
   "execution_count": 34,
   "metadata": {},
   "outputs": [
    {
     "data": {
      "text/plain": [
       "array([ 0.        ,  0.69314718,  2.39789527,  6.90875478, 11.51293546])"
      ]
     },
     "execution_count": 34,
     "metadata": {},
     "output_type": "execute_result"
    }
   ],
   "source": [
    "np.log1p([0, 1, 10, 1000, 100000])"
   ]
  },
  {
   "cell_type": "markdown",
   "id": "ddf86004",
   "metadata": {},
   "source": [
    "`np.log1p([0, 1, 10, 1000, 100000])` adalah fungsi dari pustaka NumPy yang digunakan untuk menghitung logaritma natural (basis e) dari (1 + x) untuk setiap elemen x dalam array input. Fungsi ini sangat berguna untuk menghindari masalah numerik saat x memiliki nilai yang sangat kecil.\n",
    "\n",
    "1. `np`: Ini adalah alias untuk pustaka NumPy, yang merupakan pustaka Python yang digunakan untuk komputasi numerik dan manipulasi array.\n",
    "\n",
    "2. `log1p`: Fungsi ini menghitung logaritma natural dari (1 + x). Rumus matematisnya adalah:\n",
    "   [text{log1p}(x) = ln(1 + x)]\n",
    "   Fungsi ini memberikan hasil yang lebih akurat untuk nilai x yang mendekati 0 dibandingkan dengan menghitung (ln(x + 1)) secara langsung.\n",
    "\n",
    "3. `[0, 1, 10, 1000, 100000]`: Ini adalah list atau array yang berisi nilai-nilai yang akan diproses oleh fungsi `log1p`. Dalam hal ini, ada lima nilai: 0, 1, 10, 1000, dan 100000."
   ]
  },
  {
   "cell_type": "code",
   "execution_count": 35,
   "metadata": {},
   "outputs": [
    {
     "data": {
      "text/plain": [
       "array([ 0.        ,  0.69314718,  2.39789527,  6.90875478, 11.51292546])"
      ]
     },
     "execution_count": 35,
     "metadata": {},
     "output_type": "execute_result"
    }
   ],
   "source": [
    "np.log([0 + 1, 1+ 1, 10 + 1, 1000 + 1, 100000])"
   ]
  },
  {
   "cell_type": "markdown",
   "id": "9fc2762a",
   "metadata": {},
   "source": [
    "`np.log([0 + 1, 1 + 1, 10 + 1, 1000 + 1, 100000])` adalah fungsi dari pustaka NumPy yang digunakan untuk menghitung logaritma natural (basis e) dari setiap elemen dalam array input.\n",
    "1. `np`: Ini adalah alias untuk pustaka NumPy, yang merupakan pustaka Python yang populer untuk komputasi numerik dan manipulasi array.\n",
    "\n",
    "2. `log`: Fungsi ini menghitung logaritma natural (logaritma dengan basis e) dari nilai-nilai dalam array input. Logaritma natural adalah logaritma dengan basis konstanta Euler (e ≈ 2.718).\n",
    "\n",
    "3. `[0 + 1, 1 + 1, 10 + 1, 1000 + 1, 100000]`: Ini adalah list yang berisi nilai-nilai yang akan dihitung logaritmanya. Perhitungan di dalam list tersebut adalah:\n",
    "   - `0 + 1` = 1\n",
    "   - `1 + 1` = 2\n",
    "   - `10 + 1` = 11\n",
    "   - `1000 + 1` = 1001\n",
    "   - `100000` (tidak ada penambahan di sini)"
   ]
  },
  {
   "cell_type": "code",
   "execution_count": 36,
   "metadata": {},
   "outputs": [],
   "source": [
    "price_logs = np.log1p(df.msrp)"
   ]
  },
  {
   "cell_type": "markdown",
   "id": "a6037563",
   "metadata": {},
   "source": [
    "`price_logs = np.log1p(df.msrp)` digunakan untuk membuat array atau kolom baru yang berisi logaritma natural dari (1 + msrp) untuk setiap nilai dalam kolom `msrp` dari DataFrame `df`. Fungsi ini berguna untuk transformasi logaritmik, terutama dalam menangani data dengan nilai-nilai yang sangat kecil atau nol.\n",
    "1. `price_logs`: Ini adalah variabel baru yang menyimpan hasil dari transformasi logaritmik pada kolom `msrp`.\n",
    "2. `np`: Alias untuk pustaka NumPy, yang menyediakan berbagai fungsi untuk komputasi numerik, termasuk operasi logaritma.\n",
    "3. `log1p`: Fungsi dari NumPy yang menghitung logaritma natural dari (1 + x) untuk setiap elemen x dalam array atau kolom. Fungsi ini digunakan untuk menghindari masalah ketika x mendekati nol karena menghitung \\(\\ln(1 + x)\\) memberikan hasil yang lebih stabil secara numerik dibandingkan langsung menghitung \\(\\ln(x)\\) ketika x sangat kecil atau nol.\n",
    "4. `df.msrp`: Ini mengacu pada kolom `msrp` dalam DataFrame `df`, yang berisi harga-harga produk (dalam konteks tertentu, MSRP mengacu pada \"Manufacturer's Suggested Retail Price\")."
   ]
  },
  {
   "cell_type": "code",
   "execution_count": 37,
   "metadata": {},
   "outputs": [
    {
     "data": {
      "text/plain": [
       "<Axes: xlabel='msrp', ylabel='Count'>"
      ]
     },
     "execution_count": 37,
     "metadata": {},
     "output_type": "execute_result"
    },
    {
     "data": {
      "image/png": "[encoded data removed]",
      "text/plain": [
       "<Figure size 640x480 with 1 Axes>"
      ]
     },
     "metadata": {},
     "output_type": "display_data"
    }
   ],
   "source": [
    "\n",
    "sns.histplot(price_logs, bins=50)"
   ]
  },
  {
   "cell_type": "markdown",
   "id": "970b506f",
   "metadata": {},
   "source": [
    "`sns.histplot(price_logs, bins=50)` digunakan untuk membuat histogram dari data `price_logs` dengan menggunakan pustaka Seaborn. Histogram ini akan menunjukkan distribusi frekuensi dari nilai-nilai `price_logs`, yang merupakan hasil transformasi logaritmik dari harga (msrp).\n",
    "1. `sns`: Alias untuk pustaka Seaborn, yang digunakan untuk visualisasi data. Seaborn dibangun di atas Matplotlib dan menyediakan grafik statistik yang lebih informatif dan estetik.\n",
    "2. `histplot`: Fungsi dari Seaborn untuk membuat histogram. Histogram adalah jenis grafik yang menampilkan distribusi frekuensi dari data dalam bentuk bar.\n",
    "3. `price_logs`: Ini adalah array atau Series yang berisi nilai-nilai logaritma natural dari (1 + msrp), yang sebelumnya dihitung menggunakan fungsi `np.log1p(df.msrp)`.\n",
    "4. `bins=50`: Argumen `bins` menentukan jumlah bar atau kelompok yang digunakan untuk membagi data dalam histogram. Dalam hal ini, histogram akan memiliki 50 bin. Jumlah bin dapat memengaruhi cara distribusi data divisualisasikan; lebih banyak bin berarti histogram lebih terperinci, tetapi mungkin terlihat lebih \"berisik.\"\n"
   ]
  },
  {
   "cell_type": "markdown",
   "metadata": {},
   "source": [
    "Missing values"
   ]
  },
  {
   "cell_type": "code",
   "execution_count": 38,
   "metadata": {},
   "outputs": [
    {
     "data": {
      "text/plain": [
       "make                    0\n",
       "model                   0\n",
       "year                    0\n",
       "engine_fuel_type        3\n",
       "engine_hp              69\n",
       "engine_cylinders       30\n",
       "transmission_type       0\n",
       "driven_wheels           0\n",
       "number_of_doors         6\n",
       "market_category      3742\n",
       "vehicle_size            0\n",
       "vehicle_style           0\n",
       "highway_mpg             0\n",
       "city_mpg                0\n",
       "popularity              0\n",
       "msrp                    0\n",
       "dtype: int64"
      ]
     },
     "execution_count": 38,
     "metadata": {},
     "output_type": "execute_result"
    }
   ],
   "source": [
    "df.isnull().sum()"
   ]
  },
  {
   "cell_type": "markdown",
   "id": "89a43275",
   "metadata": {},
   "source": [
    "`df.isnull().sum()` digunakan untuk menghitung jumlah nilai yang hilang atau **null** (NaN) di setiap kolom dalam DataFrame `df`. Perintah ini sangat berguna dalam eksplorasi data untuk mengetahui apakah ada data yang tidak lengkap.\n",
    "1. `df`: Ini mengacu pada DataFrame tempat kita ingin memeriksa data yang hilang.\n",
    "2. `isnull()`: Fungsi dari pustaka **pandas** yang mengembalikan DataFrame Boolean di mana setiap nilai di DataFrame diganti dengan `True` jika nilai tersebut **null** (hilang/NaN), dan `False` jika nilai tersebut bukan null.\n",
    "3. `sum()`: Setelah mendapatkan DataFrame Boolean dari `isnull()`, fungsi `sum()` digunakan untuk menjumlahkan nilai `True` di sepanjang setiap kolom. Karena `True` dihitung sebagai 1 dan `False` dihitung sebagai 0, maka `sum()` akan menghasilkan jumlah nilai yang hilang di setiap kolom."
   ]
  },
  {
   "cell_type": "markdown",
   "metadata": {},
   "source": [
    "## 2.4 Setting up the validation framework"
   ]
  },
  {
   "cell_type": "markdown",
   "metadata": {},
   "source": [
    "Let's draw it"
   ]
  },
  {
   "cell_type": "code",
   "execution_count": 39,
   "metadata": {},
   "outputs": [],
   "source": [
    "n = len(df)\n",
    "\n",
    "n_val = int(n * 0.2)\n",
    "n_test = int(n * 0.2)\n",
    "n_train = n - n_val - n_test"
   ]
  },
  {
   "cell_type": "markdown",
   "id": "5d8ff663",
   "metadata": {},
   "source": [
    "`n = len(df)`\n",
    "\n",
    "`n_val = int(n * 0.2)`\n",
    "\n",
    "`n_test = int(n * 0.2)`\n",
    "\n",
    "`n_train = n - n_val - n_test`\n",
    "\n",
    "\n",
    "Perintah ini digunakan untuk membagi dataset menjadi tiga bagian: set pelatihan (train), validasi (validation), dan pengujian (test). Pembagian dataset ini penting dalam proses pengembangan model machine learning untuk memastikan bahwa model dilatih, divalidasi, dan diuji dengan data yang berbeda untuk menghindari overfitting dan untuk mengevaluasi kinerja model secara objektif.\n",
    "1. `n = len(df)`:\n",
    "   - `n` adalah jumlah total baris dalam DataFrame `df`.\n",
    "   - Fungsi `len(df)` digunakan untuk mendapatkan jumlah total baris dalam dataset.\n",
    "\n",
    "2. `n_val = int(n * 0.2)`:\n",
    "   - `n_val` adalah jumlah data yang akan dialokasikan untuk set validasi.\n",
    "   - Perhitungan ini menggunakan 20% dari total data (`n * 0.2`), kemudian diubah menjadi bilangan bulat dengan fungsi `int()`.\n",
    "\n",
    "3. `n_test = int(n * 0.2)`:\n",
    "   - `n_test` adalah jumlah data yang akan digunakan untuk set pengujian.\n",
    "   - Sama seperti validasi, pengujian juga mendapatkan 20% dari total data.\n",
    "\n",
    "4. `n_train = n - n_val - n_test`:\n",
    "   - `n_train` adalah jumlah data yang digunakan untuk set pelatihan.\n",
    "   - Ini adalah sisa data setelah dialokasikan untuk validasi dan pengujian, yaitu total data dikurangi data untuk validasi dan pengujian.\n"
   ]
  },
  {
   "cell_type": "code",
   "execution_count": 40,
   "metadata": {},
   "outputs": [
    {
     "data": {
      "text/plain": [
       "11914"
      ]
     },
     "execution_count": 40,
     "metadata": {},
     "output_type": "execute_result"
    }
   ],
   "source": [
    "n"
   ]
  },
  {
   "cell_type": "code",
   "execution_count": 41,
   "metadata": {},
   "outputs": [
    {
     "data": {
      "text/plain": [
       "(2382, 2382, 7150)"
      ]
     },
     "execution_count": 41,
     "metadata": {},
     "output_type": "execute_result"
    },
    {
     "ename": "",
     "evalue": "",
     "output_type": "error",
     "traceback": [
      "\u001b[1;31mThe Kernel crashed while executing code in the current cell or a previous cell. \n",
      "\u001b[1;31mPlease review the code in the cell(s) to identify a possible cause of the failure. \n",
      "\u001b[1;31mClick <a href='https://aka.ms/vscodeJupyterKernelCrash'>here</a> for more info. \n",
      "\u001b[1;31mView Jupyter <a href='command:jupyter.viewOutput'>log</a> for further details."
     ]
    }
   ],
   "source": [
    "n_val, n_test, n_train"
   ]
  },
  {
   "cell_type": "markdown",
   "id": "2524434d",
   "metadata": {},
   "source": [
    "`n_val` `n_test` `n_train`\n",
    "\n",
    "1. `n_val`:\n",
    "   - `n_val` adalah jumlah data yang akan dialokasikan untuk set validasi.\n",
    "   - Ini dihitung sebagai proporsi dari total data, dalam hal ini 20% dari dataset (`n * 0.2`).\n",
    "   - Fungsi `int()` digunakan untuk memastikan hasilnya adalah bilangan bulat.\n",
    "2. `n_test`:\n",
    "   - `n_test` adalah jumlah data yang akan dialokasikan untuk set pengujian.\n",
    "   - Sama seperti validasi, data pengujian juga dialokasikan sebesar 20% dari total dataset (`n * 0.2`).\n",
    "   - Fungsi `int()` juga digunakan untuk memastikan hasilnya adalah bilangan bulat.\n",
    "3. `n_train`:\n",
    "   - `n_train` adalah jumlah data yang dialokasikan untuk set pelatihan.\n",
    "   - Nilai `n_train` dihitung sebagai sisa data setelah dialokasikan untuk validasi dan pengujian, yaitu `n - n_val - n_test`."
   ]
  },
  {
   "cell_type": "code",
   "execution_count": 24,
   "metadata": {},
   "outputs": [
    {
     "data": {
      "text/html": [
       "<div>\n",
       "<style scoped>\n",
       "    .dataframe tbody tr th:only-of-type {\n",
       "        vertical-align: middle;\n",
       "    }\n",
       "\n",
       "    .dataframe tbody tr th {\n",
       "        vertical-align: top;\n",
       "    }\n",
       "\n",
       "    .dataframe thead th {\n",
       "        text-align: right;\n",
       "    }\n",
       "</style>\n",
       "<table border=\"1\" class=\"dataframe\">\n",
       "  <thead>\n",
       "    <tr style=\"text-align: right;\">\n",
       "      <th></th>\n",
       "      <th>make</th>\n",
       "      <th>model</th>\n",
       "      <th>year</th>\n",
       "      <th>engine_fuel_type</th>\n",
       "      <th>engine_hp</th>\n",
       "      <th>engine_cylinders</th>\n",
       "      <th>transmission_type</th>\n",
       "      <th>driven_wheels</th>\n",
       "      <th>number_of_doors</th>\n",
       "      <th>market_category</th>\n",
       "      <th>vehicle_size</th>\n",
       "      <th>vehicle_style</th>\n",
       "      <th>highway_mpg</th>\n",
       "      <th>city_mpg</th>\n",
       "      <th>popularity</th>\n",
       "      <th>msrp</th>\n",
       "    </tr>\n",
       "  </thead>\n",
       "  <tbody>\n",
       "    <tr>\n",
       "      <th>10</th>\n",
       "      <td>bmw</td>\n",
       "      <td>1_series</td>\n",
       "      <td>2013</td>\n",
       "      <td>premium_unleaded_(required)</td>\n",
       "      <td>300.0</td>\n",
       "      <td>6.0</td>\n",
       "      <td>manual</td>\n",
       "      <td>rear_wheel_drive</td>\n",
       "      <td>2.0</td>\n",
       "      <td>luxury,high-performance</td>\n",
       "      <td>compact</td>\n",
       "      <td>coupe</td>\n",
       "      <td>28</td>\n",
       "      <td>20</td>\n",
       "      <td>3916</td>\n",
       "      <td>39600</td>\n",
       "    </tr>\n",
       "    <tr>\n",
       "      <th>0</th>\n",
       "      <td>bmw</td>\n",
       "      <td>1_series_m</td>\n",
       "      <td>2011</td>\n",
       "      <td>premium_unleaded_(required)</td>\n",
       "      <td>335.0</td>\n",
       "      <td>6.0</td>\n",
       "      <td>manual</td>\n",
       "      <td>rear_wheel_drive</td>\n",
       "      <td>2.0</td>\n",
       "      <td>factory_tuner,luxury,high-performance</td>\n",
       "      <td>compact</td>\n",
       "      <td>coupe</td>\n",
       "      <td>26</td>\n",
       "      <td>19</td>\n",
       "      <td>3916</td>\n",
       "      <td>46135</td>\n",
       "    </tr>\n",
       "    <tr>\n",
       "      <th>3</th>\n",
       "      <td>bmw</td>\n",
       "      <td>1_series</td>\n",
       "      <td>2011</td>\n",
       "      <td>premium_unleaded_(required)</td>\n",
       "      <td>230.0</td>\n",
       "      <td>6.0</td>\n",
       "      <td>manual</td>\n",
       "      <td>rear_wheel_drive</td>\n",
       "      <td>2.0</td>\n",
       "      <td>luxury,performance</td>\n",
       "      <td>compact</td>\n",
       "      <td>coupe</td>\n",
       "      <td>28</td>\n",
       "      <td>18</td>\n",
       "      <td>3916</td>\n",
       "      <td>29450</td>\n",
       "    </tr>\n",
       "    <tr>\n",
       "      <th>5</th>\n",
       "      <td>bmw</td>\n",
       "      <td>1_series</td>\n",
       "      <td>2012</td>\n",
       "      <td>premium_unleaded_(required)</td>\n",
       "      <td>230.0</td>\n",
       "      <td>6.0</td>\n",
       "      <td>manual</td>\n",
       "      <td>rear_wheel_drive</td>\n",
       "      <td>2.0</td>\n",
       "      <td>luxury,performance</td>\n",
       "      <td>compact</td>\n",
       "      <td>coupe</td>\n",
       "      <td>28</td>\n",
       "      <td>18</td>\n",
       "      <td>3916</td>\n",
       "      <td>31200</td>\n",
       "    </tr>\n",
       "  </tbody>\n",
       "</table>\n",
       "</div>"
      ],
      "text/plain": [
       "   make       model  year             engine_fuel_type  engine_hp  \\\n",
       "10  bmw    1_series  2013  premium_unleaded_(required)      300.0   \n",
       "0   bmw  1_series_m  2011  premium_unleaded_(required)      335.0   \n",
       "3   bmw    1_series  2011  premium_unleaded_(required)      230.0   \n",
       "5   bmw    1_series  2012  premium_unleaded_(required)      230.0   \n",
       "\n",
       "    engine_cylinders transmission_type     driven_wheels  number_of_doors  \\\n",
       "10               6.0            manual  rear_wheel_drive              2.0   \n",
       "0                6.0            manual  rear_wheel_drive              2.0   \n",
       "3                6.0            manual  rear_wheel_drive              2.0   \n",
       "5                6.0            manual  rear_wheel_drive              2.0   \n",
       "\n",
       "                          market_category vehicle_size vehicle_style  \\\n",
       "10                luxury,high-performance      compact         coupe   \n",
       "0   factory_tuner,luxury,high-performance      compact         coupe   \n",
       "3                      luxury,performance      compact         coupe   \n",
       "5                      luxury,performance      compact         coupe   \n",
       "\n",
       "    highway_mpg  city_mpg  popularity   msrp  \n",
       "10           28        20        3916  39600  \n",
       "0            26        19        3916  46135  \n",
       "3            28        18        3916  29450  \n",
       "5            28        18        3916  31200  "
      ]
     },
     "execution_count": 24,
     "metadata": {},
     "output_type": "execute_result"
    }
   ],
   "source": [
    "df.iloc[[10, 0, 3, 5]]"
   ]
  },
  {
   "cell_type": "markdown",
   "id": "3ec226d7",
   "metadata": {},
   "source": [
    "`df.iloc[[10, 0, 3, 5]]`\n",
    "\n",
    "Perintah ini digunakan untuk memilih baris tertentu dari sebuah DataFrame `df` menggunakan index-based selection atau integer-location based indexing.\n",
    "\n",
    "1. `df.iloc[]`:\n",
    "   - Fungsi `iloc` digunakan untuk memilih baris atau kolom berdasarkan index atau posisi integer dalam DataFrame.\n",
    "   - Ini berbeda dengan `loc[]` yang menggunakan label atau nama kolom/baris.\n",
    "   \n",
    "2. `[10, 0, 3, 5]`:\n",
    "   - Di dalam tanda kurung siku `[]`, ini adalah daftar indeks integer dari baris yang ingin dipilih.\n",
    "   - Dalam contoh ini, baris ke-10, 0, 3, dan 5 akan dipilih dari DataFrame `df`.\n",
    "   - Urutan baris sesuai dengan yang diindeks di dalam list, meskipun tidak berurutan.\n",
    "\n",
    "- `df.iloc[[10, 0, 3, 5]]` akan mengembalikan baris ke-10, ke-0, ke-3, dan ke-5 dari DataFrame `df` dalam urutan yang diberikan.\n",
    "- Metode ini berguna saat ingin mengekstrak beberapa baris secara spesifik berdasarkan urutan indeksnya, bukan berdasarkan nilai atau kondisi tertentu.\n"
   ]
  },
  {
   "cell_type": "code",
   "execution_count": 25,
   "metadata": {},
   "outputs": [],
   "source": [
    "df_train = df.iloc[:n_train]\n",
    "df_val = df.iloc[n_train:n_train+n_val]\n",
    "df_test = df.iloc[n_train+n_val:]"
   ]
  },
  {
   "cell_type": "markdown",
   "id": "d7826a4e",
   "metadata": {},
   "source": [
    "`df_train = df.iloc[:n_train]`\n",
    "`df_val = df.iloc[n_train:n_train+n_val]`\n",
    "`df_test = df.iloc[n_train+n_val:]`\n",
    "\n",
    "Perintah ini digunakan untuk membagi DataFrame `df` menjadi tiga subset: set pelatihan (training set), set validasi (validation set), dan set pengujian (test set) berdasarkan indeks yang telah dihitung sebelumnya.\n",
    "1. `df_train`:\n",
    "   - `df_train = df.iloc[:n_train]` digunakan untuk memilih baris dari indeks 0 hingga `n_train - 1`.\n",
    "   - Ini berarti bahwa `df_train` berisi semua data untuk set pelatihan.\n",
    "   - Jika `n_train` adalah 600, maka `df_train` akan berisi baris dari 0 hingga 599.\n",
    "2. `df_val`:\n",
    "   - `df_val = df.iloc[n_train:n_train+n_val]` digunakan untuk memilih baris dari `n_train` hingga `n_train + n_val - 1`.\n",
    "   - Ini berarti bahwa `df_val` berisi data untuk set validasi.\n",
    "   - Jika `n_train` adalah 600 dan `n_val` adalah 200, maka `df_val` akan berisi baris dari 600 hingga 799.\n",
    "3. `df_test`:\n",
    "   - `df_test = df.iloc[n_train+n_val:]` digunakan untuk memilih semua baris mulai dari `n_train + n_val` hingga akhir DataFrame.\n",
    "   - Ini berarti bahwa `df_test` berisi data untuk set pengujian.\n",
    "   - Menggunakan contoh sebelumnya, jika `n_train` adalah 600 dan `n_val` adalah 200, maka `df_test` akan berisi baris dari 800 hingga akhir.\n",
    "- Pembagian ini penting dalam machine learning untuk memastikan bahwa model dapat dilatih, divalidasi, dan diuji dengan data yang berbeda.\n",
    "- Dengan membagi dataset menjadi tiga bagian, kita dapat melakukan tuning pada model menggunakan set validasi dan kemudian mengevaluasi kinerja model akhir pada set pengujian yang terpisah.\n"
   ]
  },
  {
   "cell_type": "code",
   "execution_count": 26,
   "metadata": {},
   "outputs": [],
   "source": [
    "idx = np.arange(n)"
   ]
  },
  {
   "cell_type": "markdown",
   "id": "e918f265",
   "metadata": {},
   "source": [
    "`idx = np.arange(n)`\n",
    "\n",
    "Perintah ini digunakan untuk membuat array NumPy yang berisi deretan angka dari 0 hingga `n - 1`.\n",
    "1. `np.arange(n)`:\n",
    "   - Fungsi `np.arange()` adalah fungsi dari library NumPy yang digunakan untuk menghasilkan array berisi angka dengan interval tertentu.\n",
    "   - Dalam hal ini, fungsi `np.arange(n)` menghasilkan array dengan nilai dari 0 hingga `n - 1`.\n",
    "\n",
    "2. `idx`:\n",
    "   - `idx` adalah variabel yang digunakan untuk menyimpan hasil dari fungsi `np.arange(n)`.\n",
    "   - Variabel ini dapat digunakan untuk indeksasi atau sebagai pengenal dalam berbagai operasi pada array atau DataFrame.\n"
   ]
  },
  {
   "cell_type": "code",
   "execution_count": 27,
   "metadata": {},
   "outputs": [],
   "source": [
    "np.random.seed(2)\n",
    "np.random.shuffle(idx)"
   ]
  },
  {
   "cell_type": "markdown",
   "id": "616706dc",
   "metadata": {},
   "source": [
    "`np.random.seed(2)` dan `np.random.shuffle(idx)`\n",
    "\n",
    "Perintah ini digunakan untuk mengatur pengacakan (randomness) dan melakukan pengacakan pada array `idx`.\n",
    "1. `np.random.seed(2)`:\n",
    "   - Fungsi `np.random.seed()` digunakan untuk mengatur \"seed\" atau benih dari generator angka acak NumPy.\n",
    "   - Dengan mengatur seed ke nilai tertentu, kita dapat memastikan bahwa hasil pengacakan yang dihasilkan dapat direproduksi. Artinya, setiap kali kita menjalankan kode ini dengan seed yang sama, kita akan mendapatkan urutan angka acak yang sama.\n",
    "   - Dalam contoh ini, seed diatur ke 2.\n",
    "2. `np.random.shuffle(idx)`:\n",
    "   - Fungsi `np.random.shuffle()` digunakan untuk mengacak urutan elemen dalam array `idx` secara in-place, artinya elemen dalam array akan diubah urutannya tanpa membuat salinan baru.\n",
    "   - Setelah menjalankan perintah ini, elemen dalam `idx` akan diacak.\n",
    "\n",
    "- Mengatur seed sebelum melakukan pengacakan berguna dalam konteks penelitian dan pengembangan model, di mana kita perlu hasil yang konsisten untuk tujuan evaluasi.\n",
    "- Mengacak indeks sering digunakan dalam pembagian dataset untuk pelatihan dan pengujian model machine learning, sehingga model tidak terlatih pada urutan data tertentu.\n"
   ]
  },
  {
   "cell_type": "code",
   "execution_count": 28,
   "metadata": {},
   "outputs": [],
   "source": [
    "df_train = df.iloc[idx[:n_train]]\n",
    "df_val = df.iloc[idx[n_train:n_train+n_val]]\n",
    "df_test = df.iloc[idx[n_train+n_val:]]"
   ]
  },
  {
   "cell_type": "markdown",
   "id": "39d047c3",
   "metadata": {},
   "source": [
    "`df_train`, `df_val`, dan `df_test`\n",
    "\n",
    "Perintah ini digunakan untuk membagi DataFrame `df` menjadi tiga subset: set pelatihan (training set), set validasi (validation set), dan set pengujian (test set) berdasarkan indeks yang telah diacak sebelumnya dengan menggunakan `idx`.\n",
    "1. `df_train`:\n",
    "   - `df_train = df.iloc[idx[:n_train]]` digunakan untuk memilih baris dari DataFrame `df` berdasarkan indeks acak yang disimpan dalam `idx`.\n",
    "   - Dengan menggunakan `idx[:n_train]`, kita memilih baris dari indeks acak yang akan digunakan untuk set pelatihan.\n",
    "   - Jika `n_train` adalah 600, maka `df_train` akan berisi semua data untuk set pelatihan dari indeks yang diacak.\n",
    "2. `df_val`:\n",
    "   - `df_val = df.iloc[idx[n_train:n_train+n_val]]` digunakan untuk memilih baris dari DataFrame `df` untuk set validasi.\n",
    "   - Dengan menggunakan `idx[n_train:n_train+n_val]`, kita memilih baris dari indeks acak yang berfungsi sebagai set validasi.\n",
    "   - Jika `n_train` adalah 600 dan `n_val` adalah 200, maka `df_val` akan berisi data dari indeks yang sesuai.\n",
    "3. `df_test`:\n",
    "   - `df_test = df.iloc[idx[n_train+n_val:]]` digunakan untuk memilih semua baris dari DataFrame `df` yang akan digunakan untuk set pengujian.\n",
    "   - Dengan menggunakan `idx[n_train+n_val:]`, kita memilih baris dari indeks acak untuk set pengujian.\n",
    "   - Menggunakan contoh sebelumnya, jika `n_train` adalah 600 dan `n_val` adalah 200, maka `df_test` akan berisi baris dari indeks yang tersisa.\n",
    "- Pembagian ini penting dalam machine learning untuk memastikan bahwa model dapat dilatih, divalidasi, dan diuji dengan data yang berbeda.\n",
    "- Menggunakan indeks acak memastikan bahwa pemilihan data untuk setiap subset adalah acak dan tidak terpengaruh oleh urutan data awal.\n"
   ]
  },
  {
   "cell_type": "code",
   "execution_count": 29,
   "metadata": {},
   "outputs": [
    {
     "data": {
      "text/html": [
       "<div>\n",
       "<style scoped>\n",
       "    .dataframe tbody tr th:only-of-type {\n",
       "        vertical-align: middle;\n",
       "    }\n",
       "\n",
       "    .dataframe tbody tr th {\n",
       "        vertical-align: top;\n",
       "    }\n",
       "\n",
       "    .dataframe thead th {\n",
       "        text-align: right;\n",
       "    }\n",
       "</style>\n",
       "<table border=\"1\" class=\"dataframe\">\n",
       "  <thead>\n",
       "    <tr style=\"text-align: right;\">\n",
       "      <th></th>\n",
       "      <th>make</th>\n",
       "      <th>model</th>\n",
       "      <th>year</th>\n",
       "      <th>engine_fuel_type</th>\n",
       "      <th>engine_hp</th>\n",
       "      <th>engine_cylinders</th>\n",
       "      <th>transmission_type</th>\n",
       "      <th>driven_wheels</th>\n",
       "      <th>number_of_doors</th>\n",
       "      <th>market_category</th>\n",
       "      <th>vehicle_size</th>\n",
       "      <th>vehicle_style</th>\n",
       "      <th>highway_mpg</th>\n",
       "      <th>city_mpg</th>\n",
       "      <th>popularity</th>\n",
       "      <th>msrp</th>\n",
       "    </tr>\n",
       "  </thead>\n",
       "  <tbody>\n",
       "    <tr>\n",
       "      <th>2735</th>\n",
       "      <td>chevrolet</td>\n",
       "      <td>cobalt</td>\n",
       "      <td>2008</td>\n",
       "      <td>regular_unleaded</td>\n",
       "      <td>148.0</td>\n",
       "      <td>4.0</td>\n",
       "      <td>manual</td>\n",
       "      <td>front_wheel_drive</td>\n",
       "      <td>2.0</td>\n",
       "      <td>NaN</td>\n",
       "      <td>compact</td>\n",
       "      <td>coupe</td>\n",
       "      <td>33</td>\n",
       "      <td>24</td>\n",
       "      <td>1385</td>\n",
       "      <td>14410</td>\n",
       "    </tr>\n",
       "    <tr>\n",
       "      <th>6720</th>\n",
       "      <td>toyota</td>\n",
       "      <td>matrix</td>\n",
       "      <td>2012</td>\n",
       "      <td>regular_unleaded</td>\n",
       "      <td>132.0</td>\n",
       "      <td>4.0</td>\n",
       "      <td>automatic</td>\n",
       "      <td>front_wheel_drive</td>\n",
       "      <td>4.0</td>\n",
       "      <td>hatchback</td>\n",
       "      <td>compact</td>\n",
       "      <td>4dr_hatchback</td>\n",
       "      <td>32</td>\n",
       "      <td>25</td>\n",
       "      <td>2031</td>\n",
       "      <td>19685</td>\n",
       "    </tr>\n",
       "    <tr>\n",
       "      <th>5878</th>\n",
       "      <td>subaru</td>\n",
       "      <td>impreza</td>\n",
       "      <td>2016</td>\n",
       "      <td>regular_unleaded</td>\n",
       "      <td>148.0</td>\n",
       "      <td>4.0</td>\n",
       "      <td>automatic</td>\n",
       "      <td>all_wheel_drive</td>\n",
       "      <td>4.0</td>\n",
       "      <td>hatchback</td>\n",
       "      <td>compact</td>\n",
       "      <td>4dr_hatchback</td>\n",
       "      <td>37</td>\n",
       "      <td>28</td>\n",
       "      <td>640</td>\n",
       "      <td>19795</td>\n",
       "    </tr>\n",
       "    <tr>\n",
       "      <th>11190</th>\n",
       "      <td>volkswagen</td>\n",
       "      <td>vanagon</td>\n",
       "      <td>1991</td>\n",
       "      <td>regular_unleaded</td>\n",
       "      <td>90.0</td>\n",
       "      <td>4.0</td>\n",
       "      <td>manual</td>\n",
       "      <td>rear_wheel_drive</td>\n",
       "      <td>3.0</td>\n",
       "      <td>NaN</td>\n",
       "      <td>large</td>\n",
       "      <td>passenger_minivan</td>\n",
       "      <td>18</td>\n",
       "      <td>16</td>\n",
       "      <td>873</td>\n",
       "      <td>2000</td>\n",
       "    </tr>\n",
       "    <tr>\n",
       "      <th>4554</th>\n",
       "      <td>ford</td>\n",
       "      <td>f-150</td>\n",
       "      <td>2017</td>\n",
       "      <td>flex-fuel_(unleaded/e85)</td>\n",
       "      <td>385.0</td>\n",
       "      <td>8.0</td>\n",
       "      <td>automatic</td>\n",
       "      <td>four_wheel_drive</td>\n",
       "      <td>4.0</td>\n",
       "      <td>flex_fuel</td>\n",
       "      <td>large</td>\n",
       "      <td>crew_cab_pickup</td>\n",
       "      <td>21</td>\n",
       "      <td>15</td>\n",
       "      <td>5657</td>\n",
       "      <td>56260</td>\n",
       "    </tr>\n",
       "  </tbody>\n",
       "</table>\n",
       "</div>"
      ],
      "text/plain": [
       "             make    model  year          engine_fuel_type  engine_hp  \\\n",
       "2735    chevrolet   cobalt  2008          regular_unleaded      148.0   \n",
       "6720       toyota   matrix  2012          regular_unleaded      132.0   \n",
       "5878       subaru  impreza  2016          regular_unleaded      148.0   \n",
       "11190  volkswagen  vanagon  1991          regular_unleaded       90.0   \n",
       "4554         ford    f-150  2017  flex-fuel_(unleaded/e85)      385.0   \n",
       "\n",
       "       engine_cylinders transmission_type      driven_wheels  number_of_doors  \\\n",
       "2735                4.0            manual  front_wheel_drive              2.0   \n",
       "6720                4.0         automatic  front_wheel_drive              4.0   \n",
       "5878                4.0         automatic    all_wheel_drive              4.0   \n",
       "11190               4.0            manual   rear_wheel_drive              3.0   \n",
       "4554                8.0         automatic   four_wheel_drive              4.0   \n",
       "\n",
       "      market_category vehicle_size      vehicle_style  highway_mpg  city_mpg  \\\n",
       "2735              NaN      compact              coupe           33        24   \n",
       "6720        hatchback      compact      4dr_hatchback           32        25   \n",
       "5878        hatchback      compact      4dr_hatchback           37        28   \n",
       "11190             NaN        large  passenger_minivan           18        16   \n",
       "4554        flex_fuel        large    crew_cab_pickup           21        15   \n",
       "\n",
       "       popularity   msrp  \n",
       "2735         1385  14410  \n",
       "6720         2031  19685  \n",
       "5878          640  19795  \n",
       "11190         873   2000  \n",
       "4554         5657  56260  "
      ]
     },
     "execution_count": 29,
     "metadata": {},
     "output_type": "execute_result"
    }
   ],
   "source": [
    "df_train.head()"
   ]
  },
  {
   "cell_type": "markdown",
   "id": "5d3524db",
   "metadata": {},
   "source": [
    "`df_train.head()`\n",
    "\n",
    "Perintah ini digunakan untuk menampilkan beberapa baris teratas dari DataFrame `df_train`.\n",
    "1. `df_train`:\n",
    "   - Merupakan subset DataFrame yang berisi data untuk set pelatihan. Subset ini dihasilkan dari pemisahan DataFrame asli `df` menggunakan indeks acak.  \n",
    "2. `.head()`:\n",
    "   - Fungsi `.head()` adalah metode dari pandas DataFrame yang digunakan untuk menampilkan sejumlah baris pertama dari DataFrame.\n",
    "   - Secara default, fungsi ini menampilkan 5 baris pertama, tetapi kita juga dapat memberikan argumen untuk menampilkan jumlah baris yang diinginkan.\n",
    "- Perintah ini berguna untuk melihat sekilas data yang terdapat dalam `df_train`, sehingga kita dapat memeriksa struktur, tipe data, dan nilai-nilai dalam set pelatihan.\n",
    "- Ini membantu dalam memverifikasi apakah pembagian dataset telah dilakukan dengan benar dan untuk memahami data yang akan digunakan dalam pelatihan model.\n"
   ]
  },
  {
   "cell_type": "code",
   "execution_count": 30,
   "metadata": {},
   "outputs": [
    {
     "data": {
      "text/plain": [
       "(7150, 2382, 2382)"
      ]
     },
     "execution_count": 30,
     "metadata": {},
     "output_type": "execute_result"
    }
   ],
   "source": [
    "len(df_train), len(df_val), len(df_test)"
   ]
  },
  {
   "cell_type": "markdown",
   "id": "62d29923",
   "metadata": {},
   "source": [
    "`len(df_train)`, `len(df_val)`, dan `len(df_test)`\n",
    "\n",
    "Perintah ini digunakan untuk menghitung jumlah baris dalam masing-masing subset DataFrame: `df_train`, `df_val`, dan `df_test`.\n",
    "1. `len(df_train)`:\n",
    "   - Fungsi `len()` digunakan untuk mendapatkan jumlah total baris dalam DataFrame `df_train`, yang merupakan set pelatihan.\n",
    "   - Ini memberikan informasi tentang seberapa banyak data yang tersedia untuk pelatihan model.\n",
    "\n",
    "2. `len(df_val)`:\n",
    "   - Fungsi `len()` juga digunakan untuk menghitung jumlah baris dalam DataFrame `df_val`, yang merupakan set validasi.\n",
    "   - Mengetahui jumlah data validasi penting untuk evaluasi model selama proses pelatihan.\n",
    "\n",
    "3. `len(df_test)`:\n",
    "   - Fungsi `len()` digunakan untuk mendapatkan jumlah baris dalam DataFrame `df_test`, yang merupakan set pengujian.\n",
    "   - Set pengujian digunakan untuk mengevaluasi kinerja akhir model setelah proses pelatihan dan validasi.\n",
    "- Menghitung jumlah baris dalam setiap subset membantu dalam memahami proporsi data yang dialokasikan untuk pelatihan, validasi, dan pengujian.\n",
    "- Memastikan bahwa pembagian data dilakukan dengan baik dan bahwa setiap subset memiliki jumlah data yang cukup untuk tujuan analisis dan model.\n"
   ]
  },
  {
   "cell_type": "code",
   "execution_count": 31,
   "metadata": {},
   "outputs": [],
   "source": [
    "df_train = df_train.reset_index(drop=True)\n",
    "df_val = df_val.reset_index(drop=True)\n",
    "df_test = df_test.reset_index(drop=True)"
   ]
  },
  {
   "cell_type": "markdown",
   "id": "b65d8638",
   "metadata": {},
   "source": [
    "`df_train`, `df_val`, dan `df_test`\n",
    "\n",
    "Perintah ini digunakan untuk mereset indeks dari DataFrame `df_train`, `df_val`, dan `df_test`, sehingga indeks akan diperbarui menjadi urutan yang baru dimulai dari 0.\n",
    "1. `df_train.reset_index(drop=True)`:\n",
    "   - Metode `reset_index()` digunakan untuk mereset indeks dari DataFrame `df_train`.\n",
    "   - Argumen `drop=True` mengindikasikan bahwa kolom indeks lama tidak akan disimpan sebagai kolom baru dalam DataFrame.\n",
    "   - Setelah pemanggilan metode ini, indeks `df_train` akan diperbarui sehingga menjadi berurutan dari 0 hingga jumlah baris dikurangi 1.\n",
    "2. `df_val.reset_index(drop=True)`:\n",
    "   - Metode `reset_index()` juga digunakan untuk mereset indeks dari DataFrame `df_val`, mengikuti penjelasan yang sama seperti pada `df_train`.\n",
    "   - Indeks baru akan dimulai dari 0, dan kolom indeks lama tidak akan disimpan.\n",
    "3. `df_test.reset_index(drop=True)`:\n",
    "   - Metode `reset_index()` digunakan untuk mereset indeks dari DataFrame `df_test`, dengan fungsi yang sama.\n",
    "   - Indeks akan diperbarui menjadi urutan baru yang berurutan dari 0 ke jumlah baris dikurangi 1.\n",
    "- Mereset indeks penting dilakukan setelah membagi DataFrame menjadi beberapa subset, karena indeks dari setiap subset mungkin tidak berurutan dan dapat menyebabkan kebingungan saat analisis lebih lanjut.\n",
    "- Dengan indeks yang teratur, kita dapat lebih mudah melacak dan mengakses data dalam setiap subset.\n"
   ]
  },
  {
   "cell_type": "code",
   "execution_count": 32,
   "metadata": {},
   "outputs": [],
   "source": [
    "y_train = np.log1p(df_train.msrp.values)\n",
    "y_val = np.log1p(df_val.msrp.values)\n",
    "y_test = np.log1p(df_test.msrp.values)"
   ]
  },
  {
   "cell_type": "markdown",
   "id": "a9892bdb",
   "metadata": {},
   "source": [
    "Transformasi Target dengan `np.log1p`\n",
    "\n",
    "Perintah ini digunakan untuk melakukan transformasi logaritma pada kolom `msrp` dari DataFrame `df_train`, `df_val`, dan `df_test` untuk menghasilkan variabel target `y_train`, `y_val`, dan `y_test`.\n",
    "1. `np.log1p(df_train.msrp.values)`:\n",
    "   - `np.log1p()` adalah fungsi dari NumPy yang menghitung logaritma natural dari `1 + x`, yang membantu menghindari masalah logaritma dari nilai nol.\n",
    "   - `df_train.msrp.values` mengakses nilai dari kolom `msrp` pada DataFrame `df_train`, yang merupakan harga yang akan ditransformasikan.\n",
    "   - Hasilnya adalah array yang berisi hasil transformasi logaritma untuk setiap nilai dalam kolom `msrp`.\n",
    "2. `y_train =`:\n",
    "   - Variabel `y_train` menyimpan hasil transformasi logaritma dari harga pada DataFrame `df_train`. Ini akan digunakan sebagai variabel target dalam model.\n",
    "3. `y_val = np.log1p(df_val.msrp.values)`:\n",
    "   - Proses yang sama diterapkan untuk DataFrame `df_val`. Ini menghasilkan array `y_val`, yang berisi harga yang telah ditransformasikan untuk set validasi.\n",
    "4. `y_test = np.log1p(df_test.msrp.values)`:\n",
    "   - Proses yang sama diterapkan untuk DataFrame `df_test`, menghasilkan array `y_test`, yang berisi harga yang telah ditransformasikan untuk set pengujian.\n",
    "- Transformasi logaritma sering digunakan dalam analisis data dan pemodelan untuk mengurangi skewness pada data, membuat distribusi lebih normal.\n",
    "- Dengan menggunakan `np.log1p()`, kita juga dapat menghindari masalah ketika ada nilai nol dalam kolom `msrp`, sehingga model dapat dilatih dengan lebih baik."
   ]
  },
  {
   "cell_type": "code",
   "execution_count": 33,
   "metadata": {},
   "outputs": [],
   "source": [
    "del df_train['msrp']\n",
    "del df_val['msrp']\n",
    "del df_test['msrp']"
   ]
  },
  {
   "cell_type": "markdown",
   "id": "dd4d3352",
   "metadata": {},
   "source": [
    "Menghapus Kolom `msrp` dari DataFrame\n",
    "\n",
    "Perintah ini digunakan untuk menghapus kolom `msrp` dari DataFrame `df_train`, `df_val`, dan `df_test`.\n",
    "1. `del df_train['msrp']`:\n",
    "   - Fungsi `del` digunakan untuk menghapus objek atau elemen dari namespace.\n",
    "   - `df_train['msrp']` merujuk pada kolom `msrp` dalam DataFrame `df_train`.\n",
    "   - Dengan menjalankan perintah ini, kolom `msrp` akan dihapus dari `df_train`, sehingga DataFrame tersebut tidak lagi memiliki kolom ini.\n",
    "2. `del df_val['msrp']`:\n",
    "   - Proses yang sama diterapkan pada DataFrame `df_val`.\n",
    "   - Kolom `msrp` akan dihapus dari DataFrame validasi, memastikan bahwa kolom ini tidak lagi tersedia untuk analisis lebih lanjut.\n",
    "3. `del df_test['msrp']`:\n",
    "   - Proses yang sama diterapkan pada DataFrame `df_test`.\n",
    "   - Kolom `msrp` dihapus dari DataFrame pengujian, yang berarti kolom ini tidak akan ada saat menguji model.\n",
    "- Menghapus kolom `msrp` mungkin diperlukan setelah kita telah mentransformasikan kolom ini menjadi variabel target (`y_train`, `y_val`, `y_test`).\n",
    "- Dengan menghapus kolom ini, kita memastikan bahwa DataFrame yang digunakan untuk pelatihan, validasi, dan pengujian hanya berisi fitur yang relevan, tidak termasuk target yang telah dipisahkan.\n"
   ]
  },
  {
   "cell_type": "code",
   "execution_count": 34,
   "metadata": {},
   "outputs": [
    {
     "data": {
      "text/plain": [
       "7150"
      ]
     },
     "execution_count": 34,
     "metadata": {},
     "output_type": "execute_result"
    }
   ],
   "source": [
    "len(y_train)"
   ]
  },
  {
   "cell_type": "markdown",
   "id": "858b5e32",
   "metadata": {},
   "source": [
    "`y_train`\n",
    "\n",
    "Perintah ini digunakan untuk menghitung jumlah elemen dalam array `y_train`.\n",
    "1. `len(y_train)`:\n",
    "   - Fungsi `len()` adalah fungsi bawaan dalam Python yang digunakan untuk mengembalikan jumlah elemen dalam objek yang dapat dihitung, seperti list, tuple, string, atau array.\n",
    "   - `y_train` adalah array yang berisi nilai-nilai target yang telah ditransformasikan dari kolom `msrp` pada DataFrame `df_train`.\n",
    "- Menghitung panjang `y_train` berguna untuk memahami ukuran set data pelatihan yang akan digunakan dalam model.\n",
    "- Informasi ini penting dalam konteks pembelajaran mesin untuk memastikan bahwa jumlah target sejalan dengan jumlah fitur yang digunakan dalam model.\n"
   ]
  },
  {
   "cell_type": "markdown",
   "metadata": {},
   "source": [
    "## 2.5 Linear regression"
   ]
  },
  {
   "cell_type": "markdown",
   "metadata": {},
   "source": [
    "draw"
   ]
  },
  {
   "cell_type": "code",
   "execution_count": 35,
   "metadata": {},
   "outputs": [
    {
     "data": {
      "text/plain": [
       "make                                 rolls-royce\n",
       "model                     phantom_drophead_coupe\n",
       "year                                        2015\n",
       "engine_fuel_type     premium_unleaded_(required)\n",
       "engine_hp                                  453.0\n",
       "engine_cylinders                            12.0\n",
       "transmission_type                      automatic\n",
       "driven_wheels                   rear_wheel_drive\n",
       "number_of_doors                              2.0\n",
       "market_category        exotic,luxury,performance\n",
       "vehicle_size                               large\n",
       "vehicle_style                        convertible\n",
       "highway_mpg                                   19\n",
       "city_mpg                                      11\n",
       "popularity                                    86\n",
       "Name: 10, dtype: object"
      ]
     },
     "execution_count": 35,
     "metadata": {},
     "output_type": "execute_result"
    }
   ],
   "source": [
    "df_train.iloc[10]"
   ]
  },
  {
   "cell_type": "markdown",
   "id": "795ff134",
   "metadata": {},
   "source": [
    " `df_train`\n",
    "\n",
    "Perintah ini digunakan untuk mengakses baris ke-11 (indeks 10) dari DataFrame `df_train`.\n",
    "1. `df_train.iloc[10]`:\n",
    "   - `df_train` adalah DataFrame yang berisi data pelatihan.\n",
    "   - `.iloc[]` adalah metode yang digunakan untuk mengakses baris dan kolom dalam DataFrame berdasarkan posisi integer (indeks).\n",
    "   - `10` adalah indeks yang menunjukkan baris ke-11 dalam DataFrame, karena pengindeksan di Python dimulai dari 0.\n",
    "- Mengakses baris tertentu dalam DataFrame dapat berguna untuk memeriksa nilai-nilai dari baris tersebut.\n",
    "- Dengan menggunakan `iloc`, kita dapat mendapatkan semua kolom yang ada pada baris yang ditentukan, sehingga kita dapat melihat semua data terkait.\n"
   ]
  },
  {
   "cell_type": "code",
   "execution_count": 36,
   "metadata": {},
   "outputs": [],
   "source": [
    "xi = [453, 11, 86]\n",
    "w0 = 7.17\n",
    "w = [0.01, 0.04, 0.002]"
   ]
  },
  {
   "cell_type": "markdown",
   "id": "be5800e6",
   "metadata": {},
   "source": [
    "Mendefinisikan Variabel untuk Model\n",
    "\n",
    "Perintah ini digunakan untuk mendefinisikan variabel yang akan digunakan dalam perhitungan model.\n",
    "1. `xi = [453, 11, 86]`:\n",
    "   - `xi` adalah sebuah list (daftar) yang berisi tiga nilai: 453, 11, dan 86.\n",
    "   - Nilai-nilai ini dapat merepresentasikan fitur atau parameter yang relevan untuk analisis atau model yang sedang dibangun.\n",
    "2. `w0 = 7.17`:\n",
    "   - `w0` adalah sebuah variabel yang menyimpan nilai skalar 7.17.\n",
    "   - Ini bisa jadi merupakan bias atau intercept dalam konteks model matematis atau statistik.\n",
    "3. `w = [0.01, 0.04, 0.002]`:\n",
    "   - `w` adalah sebuah list yang berisi tiga nilai bobot: 0.01, 0.04, dan 0.002.\n",
    "   - Bobot ini sering digunakan dalam model pembelajaran mesin untuk menunjukkan pengaruh dari masing-masing fitur (dalam `xi`) terhadap prediksi atau output model.\n",
    "- Variabel `xi`, `w0`, dan `w` dapat digunakan dalam perhitungan prediksi model, di mana `xi` adalah input fitur, `w` adalah bobot yang diaplikasikan pada fitur tersebut, dan `w0` adalah bias yang ditambahkan ke hasil akhir.\n",
    "- Contohnya, dalam model regresi linier, prediksi output \\(y\\) dapat dihitung dengan rumus:\n"
   ]
  },
  {
   "cell_type": "code",
   "execution_count": 37,
   "metadata": {},
   "outputs": [],
   "source": [
    "def linear_regression(xi):\n",
    "    n = len(xi)\n",
    "\n",
    "    pred = w0\n",
    "\n",
    "    for j in range(n):\n",
    "        pred = pred + w[j] * xi[j]\n",
    "\n",
    "    return pred"
   ]
  },
  {
   "cell_type": "markdown",
   "id": "df4879f9",
   "metadata": {},
   "source": [
    "`linear_regression(xi)`\n",
    "\n",
    "Fungsi ini digunakan untuk menghitung prediksi output dari model regresi linier berdasarkan input fitur.\n",
    "1. `def linear_regression(xi):`:\n",
    "   - Kata kunci `def` digunakan untuk mendefinisikan sebuah fungsi dengan nama `linear_regression`.\n",
    "   - `xi` adalah parameter yang diharapkan menjadi list atau array yang berisi nilai fitur untuk melakukan prediksi.\n",
    "2. `n = len(xi)`:\n",
    "   - Menghitung jumlah elemen dalam `xi` dan menyimpannya dalam variabel `n`. Ini digunakan untuk menentukan berapa banyak fitur yang akan diproses.\n",
    "3. `pred = w0`:\n",
    "   - Variabel `pred` diinisialisasi dengan nilai bias `w0`. Ini adalah langkah pertama dalam perhitungan output prediksi.\n",
    "4. `for j in range(n):`:\n",
    "   - Memulai sebuah loop yang akan berjalan dari 0 hingga `n-1`, untuk mengakses setiap fitur dalam `xi`.\n",
    "5. `pred = pred + w[j] * xi[j]`:\n",
    "   - Pada setiap iterasi, nilai `pred` diperbarui dengan menambahkan hasil kali bobot `w[j]` dengan fitur `xi[j]`. Ini adalah inti dari perhitungan regresi linier, di mana setiap fitur dikalikan dengan bobotnya dan ditambahkan ke hasil akhir.\n",
    "6. `return pred`:\n",
    "   - Setelah loop selesai, fungsi mengembalikan nilai `pred`, yang merupakan hasil prediksi output berdasarkan input fitur yang diberikan.\n",
    "- Fungsi `linear_regression` mengimplementasikan model regresi linier sederhana, di mana input `xi` dikombinasikan dengan bobot `w` dan bias `w0` untuk menghasilkan prediksi.\n",
    "- Ini berguna dalam berbagai aplikasi analisis data dan pembelajaran mesin di mana model regresi linier digunakan untuk memprediksi nilai kontinu berdasarkan fitur yang ada.\n"
   ]
  },
  {
   "cell_type": "code",
   "execution_count": 38,
   "metadata": {},
   "outputs": [],
   "source": [
    "xi = [453, 11, 86]\n",
    "w0 = 7.17\n",
    "w = [0.01, 0.04, 0.002]"
   ]
  },
  {
   "cell_type": "markdown",
   "id": "8a267401",
   "metadata": {},
   "source": [
    "Mendefinisikan Input dan Parameter Model\n",
    "\n",
    "Pernyataan ini digunakan untuk mendefinisikan variabel yang diperlukan dalam perhitungan model regresi linier.\n",
    "1. `xi = [453, 11, 86]`:\n",
    "   - `xi` adalah sebuah list yang berisi tiga nilai: 453, 11, dan 86.\n",
    "   - Nilai-nilai ini bisa merepresentasikan fitur atau parameter yang relevan dalam model. Masing-masing angka dapat berkaitan dengan variabel tertentu dalam konteks analisis yang lebih besar.\n",
    "2. `w0 = 7.17`:\n",
    "   - `w0` adalah variabel yang menyimpan nilai skalar 7.17.\n",
    "   - Ini sering dianggap sebagai **bias** atau **intercept** dalam model regresi linier, yang mewakili nilai prediksi ketika semua fitur (dalam `xi`) bernilai nol.\n",
    "3. `w = [0.01, 0.04, 0.002]`:\n",
    "   - `w` adalah sebuah list yang berisi tiga nilai bobot: 0.01, 0.04, dan 0.002.\n",
    "   - Bobot ini digunakan untuk mengatur pengaruh masing-masing fitur dalam `xi` terhadap hasil prediksi model. Bobot yang lebih besar menunjukkan bahwa fitur tersebut memiliki dampak yang lebih signifikan pada output model.\n",
    "- Ketiga variabel ini (`xi`, `w0`, dan `w`) akan digunakan dalam perhitungan prediksi model, di mana `xi` adalah input fitur, `w` adalah bobot yang mengatur pengaruh setiap fitur, dan `w0` adalah bias yang ditambahkan untuk memperbaiki model.\n",
    "- Dalam konteks model regresi linier, output \\( y \\) dapat dihitung menggunakan rumus:\n"
   ]
  },
  {
   "cell_type": "code",
   "execution_count": 39,
   "metadata": {},
   "outputs": [
    {
     "data": {
      "text/plain": [
       "12.312"
      ]
     },
     "execution_count": 39,
     "metadata": {},
     "output_type": "execute_result"
    }
   ],
   "source": [
    "linear_regression(xi)"
   ]
  },
  {
   "cell_type": "markdown",
   "id": "56eda933",
   "metadata": {},
   "source": [
    "`linear_regression(xi)`\n",
    "\n",
    "Pernyataan ini digunakan untuk memanggil fungsi `linear_regression` dengan parameter `xi`, yang berisi fitur-fitur yang diperlukan untuk menghitung prediksi output dari model regresi linier.\n",
    "1. `linear_regression`:\n",
    "   - Ini adalah nama fungsi yang telah didefinisikan sebelumnya. Fungsi ini bertanggung jawab untuk menghitung output prediksi berdasarkan input fitur dan bobot yang ditentukan.\n",
    "2. `xi`:\n",
    "   - `xi` adalah argumen yang diberikan kepada fungsi. Ini adalah list yang berisi nilai-nilai fitur yang akan digunakan dalam perhitungan.\n",
    "   - Dalam konteks sebelumnya, `xi` didefinisikan sebagai `[453, 11, 86]`, yang masing-masing dapat merepresentasikan fitur yang berbeda dari data yang dianalisis.\n",
    "- Saat fungsi `linear_regression(xi)` dipanggil, fungsi tersebut akan:\n",
    "  - Menghitung jumlah fitur dari `xi`.\n",
    "  - Menginisialisasi prediksi dengan nilai bias `w0`.\n",
    "  - Melakukan iterasi melalui setiap fitur dalam `xi`, mengalikan setiap fitur dengan bobot yang sesuai dan menambahkan hasilnya ke dalam prediksi.\n",
    "  - Mengembalikan nilai prediksi akhir setelah semua fitur diproses.\n"
   ]
  },
  {
   "cell_type": "code",
   "execution_count": 40,
   "metadata": {},
   "outputs": [
    {
     "data": {
      "text/plain": [
       "222347.2221101062"
      ]
     },
     "execution_count": 40,
     "metadata": {},
     "output_type": "execute_result"
    }
   ],
   "source": [
    "np.expm1(12.312)"
   ]
  },
  {
   "cell_type": "markdown",
   "id": "ffa804fb",
   "metadata": {},
   "source": [
    "`np.expm1(12.312)`\n",
    "\n",
    "Pernyataan ini menggunakan fungsi `expm1` dari pustaka NumPy untuk menghitung nilai eksponensial dari sebuah angka dan kemudian mengurangkan 1 dari hasilnya.\n",
    "1. `np`:\n",
    "   - Merupakan alias untuk pustaka NumPy, yang merupakan pustaka Python yang digunakan untuk komputasi numerik dan operasi array.\n",
    "2. `expm1`:\n",
    "   - `expm1` adalah fungsi dalam NumPy yang menghitung \\( e^x - 1 \\), di mana \\( e \\) adalah basis logaritma natural (sekitar 2.71828), dan \\( x \\) adalah argumen yang diberikan.\n",
    "   - Fungsi ini lebih akurat dibandingkan dengan menggunakan `np.exp(x) - 1`, terutama untuk nilai \\( x \\) yang sangat kecil, karena dapat menghindari kehilangan presisi numerik.\n",
    "3. `12.312`:\n",
    "   - Ini adalah argumen yang diberikan kepada fungsi `expm1`. Dalam hal ini, 12.312 adalah nilai yang akan dihitung eksponensialnya.\n",
    "- Saat pernyataan `np.expm1(12.312)` dijalankan, fungsi ini akan menghitung nilai \\( e^{12.312} - 1 \\).\n",
    "- Ini sering digunakan dalam statistik dan analisis data, terutama ketika bekerja dengan model probabilitas atau transformasi logaritmik.\n"
   ]
  },
  {
   "cell_type": "code",
   "execution_count": 41,
   "metadata": {
    "scrolled": true
   },
   "outputs": [
    {
     "data": {
      "text/plain": [
       "12.312"
      ]
     },
     "execution_count": 41,
     "metadata": {},
     "output_type": "execute_result"
    }
   ],
   "source": [
    "np.log1p(222347.2221101062)"
   ]
  },
  {
   "cell_type": "markdown",
   "id": "f692ff5e",
   "metadata": {},
   "source": [
    "`np.log1p(222347.2221101062)`\n",
    "\n",
    "Pernyataan ini menggunakan fungsi `log1p` dari pustaka NumPy untuk menghitung nilai logaritma natural dari suatu angka yang ditambahkan dengan 1.\n",
    "\n",
    "1. `np`:\n",
    "   - Merupakan alias untuk pustaka NumPy, pustaka Python yang umum digunakan untuk komputasi numerik dan operasi pada array.\n",
    "2. `log1p`:\n",
    "   - `log1p` adalah fungsi dalam NumPy yang menghitung \\( \\log(1 + x) \\), di mana \\( \\log \\) adalah logaritma natural.\n",
    "   - Fungsi ini dirancang untuk memberikan hasil yang lebih akurat ketika \\( x \\) bernilai kecil, dan lebih baik daripada menggunakan `np.log(x + 1)`.\n",
    "3. `222347.2221101062`:\n",
    "   - Ini adalah argumen yang diberikan kepada fungsi `log1p`. Dalam hal ini, 222347.2221101062 adalah nilai yang akan dihitung logaritmanya setelah ditambahkan 1.\n",
    "- Saat pernyataan `np.log1p(222347.2221101062)` dijalankan, fungsi ini akan menghitung nilai \\( \\log(1 + 222347.2221101062) \\).\n",
    "- Fungsi ini sering digunakan dalam analisis data, statistik, dan pembelajaran mesin, terutama dalam konteks transformasi logaritmik dan model regresi.\n"
   ]
  },
  {
   "cell_type": "markdown",
   "metadata": {},
   "source": [
    "## 2.6 Linear regression vector form"
   ]
  },
  {
   "cell_type": "code",
   "execution_count": 42,
   "metadata": {},
   "outputs": [],
   "source": [
    "def dot(xi, w):\n",
    "    n = len(xi)\n",
    "    \n",
    "    res = 0.0\n",
    "    \n",
    "    for j in range(n):\n",
    "        res = res + xi[j] * w[j]\n",
    "    \n",
    "    return res"
   ]
  },
  {
   "cell_type": "markdown",
   "id": "28105e77",
   "metadata": {},
   "source": [
    "`dot(xi, w)`\n",
    "\n",
    "Fungsi ini digunakan untuk menghitung produk skalar (dot product) antara dua vektor, `xi` dan `w`. Produk skalar adalah jumlah dari hasil kali elemen-elemen yang sesuai dari dua vektor.\n",
    "1. `def`:\n",
    "   - Kata kunci dalam Python yang digunakan untuk mendefinisikan sebuah fungsi baru.\n",
    "2. `dot(xi, w)`:\n",
    "   - `dot` adalah nama fungsi yang didefinisikan. \n",
    "   - `xi` dan `w` adalah parameter yang diharapkan sebagai list atau array yang berisi angka-angka, mewakili dua vektor.\n",
    "3. `n = len(xi)`:\n",
    "   - Menghitung panjang dari vektor `xi` dan menyimpannya dalam variabel `n`. Diasumsikan bahwa `xi` dan `w` memiliki panjang yang sama.\n",
    "4. `res = 0.0`:\n",
    "   - Inisialisasi variabel `res` dengan nilai awal 0.0, yang akan digunakan untuk menyimpan hasil dari produk skalar.\n",
    "5. `for j in range(n):`:\n",
    "   - Memulai loop yang akan mengulangi sebanyak `n` kali, di mana `j` adalah indeks yang digunakan untuk mengakses elemen-elemen dari `xi` dan `w`.\n",
    "6. `res = res + xi[j] * w[j]`:\n",
    "   - Dalam setiap iterasi, hasil kali antara elemen `j` dari `xi` dan elemen `j` dari `w` ditambahkan ke dalam `res`.\n",
    "7. `return res`:\n",
    "   - Mengembalikan nilai akhir dari `res`, yang merupakan hasil dari produk skalar antara vektor `xi` dan `w`.\n"
   ]
  },
  {
   "cell_type": "code",
   "execution_count": 43,
   "metadata": {},
   "outputs": [],
   "source": [
    "def linear_regression(xi):\n",
    "    return w0 + dot(xi, w)"
   ]
  },
  {
   "cell_type": "markdown",
   "id": "a9e20059",
   "metadata": {},
   "source": [
    "`linear_regression(xi)`\n",
    "\n",
    "Fungsi ini digunakan untuk menghitung hasil prediksi dari model regresi linier menggunakan vektor fitur `xi`. Fungsi ini menggabungkan intercept (`w0`) dan hasil produk skalar dari `xi` dengan bobot (`w`).\n",
    "1. `def`:\n",
    "   - Kata kunci dalam Python yang digunakan untuk mendefinisikan sebuah fungsi baru.\n",
    "2. `linear_regression(xi)`:\n",
    "   - `linear_regression` adalah nama fungsi yang didefinisikan. \n",
    "   - `xi` adalah parameter yang diharapkan sebagai list atau array yang berisi nilai-nilai fitur yang akan diprediksi.\n",
    "3. `return w0 + dot(xi, w)`:\n",
    "   - Fungsi ini mengembalikan hasil penjumlahan dari intercept (`w0`) dan hasil dari fungsi `dot(xi, w)`.\n",
    "   - `dot(xi, w)` adalah fungsi yang menghitung produk skalar antara vektor fitur `xi` dan vektor bobot `w`.\n",
    "   - Dengan demikian, fungsi ini menghitung nilai prediksi dari model regresi linier berdasarkan input fitur `xi`.\n"
   ]
  },
  {
   "cell_type": "code",
   "execution_count": 44,
   "metadata": {},
   "outputs": [],
   "source": [
    "w_new = [w0] + w"
   ]
  },
  {
   "cell_type": "markdown",
   "id": "96cd4b49",
   "metadata": {},
   "source": [
    "`w_new = [w0] + w`\n",
    "\n",
    "Pernyataan ini digunakan untuk membuat sebuah vektor baru `w_new` yang menggabungkan intercept `w0` dengan vektor bobot `w`. Ini sering digunakan dalam konteks regresi linier di mana intercept perlu disertakan dalam perhitungan.\n",
    "1. `w_new`:\n",
    "   - Variabel baru yang akan menyimpan hasil dari penggabungan antara intercept dan bobot.\n",
    "2. `[w0]`:\n",
    "   - Membuat sebuah list baru yang hanya berisi satu elemen, yaitu nilai dari intercept `w0`. \n",
    "   - Ini diperlukan untuk memastikan bahwa `w0` terhitung sebagai elemen pertama dalam vektor bobot.\n",
    "3. `+`:\n",
    "   - Operator ini digunakan untuk menggabungkan dua list. Dalam hal ini, menggabungkan list yang berisi `w0` dengan list `w`.\n",
    "4. `w`:\n",
    "   - Variabel yang sudah ada sebelumnya, yang merupakan list atau array berisi bobot-bobot untuk setiap fitur dalam model regresi.\n"
   ]
  },
  {
   "cell_type": "code",
   "execution_count": 45,
   "metadata": {},
   "outputs": [
    {
     "data": {
      "text/plain": [
       "[7.17, 0.01, 0.04, 0.002]"
      ]
     },
     "execution_count": 45,
     "metadata": {},
     "output_type": "execute_result"
    }
   ],
   "source": [
    "w_new"
   ]
  },
  {
   "cell_type": "code",
   "execution_count": 46,
   "metadata": {},
   "outputs": [],
   "source": [
    "def linear_regression(xi):\n",
    "    xi = [1] + xi\n",
    "    return dot(xi, w_new)"
   ]
  },
  {
   "cell_type": "markdown",
   "id": "80886e83",
   "metadata": {},
   "source": [
    "`linear_regression(xi)`\n",
    "\n",
    "Fungsi ini digunakan untuk menghitung hasil prediksi dari model regresi linier dengan memasukkan intercept ke dalam vektor fitur `xi`. Dengan menambahkan elemen `1` di awal vektor, fungsi ini memungkinkan perhitungan yang mencakup intercept secara langsung.\n",
    "1. `def`:\n",
    "   - Kata kunci dalam Python yang digunakan untuk mendefinisikan sebuah fungsi baru.\n",
    "2. `linear_regression(xi)`:\n",
    "   - `linear_regression` adalah nama fungsi yang didefinisikan. \n",
    "   - `xi` adalah parameter yang diharapkan sebagai list atau array yang berisi nilai-nilai fitur yang akan diprediksi.\n",
    "3. `xi = [1] + xi`:\n",
    "   - Baris ini menambahkan elemen `1` di depan vektor fitur `xi`. \n",
    "   - Ini bertujuan untuk menyertakan intercept (`w0`) dalam perhitungan produk skalar, sehingga kita dapat menggunakan vektor bobot `w_new` yang sudah mencakup intercept.\n",
    "4. `return dot(xi, w_new)`:\n",
    "   - Fungsi ini mengembalikan hasil dari fungsi `dot(xi, w_new)`, yang menghitung produk skalar antara vektor fitur yang sudah dimodifikasi dan vektor bobot `w_new`.\n",
    "   - Ini memberikan nilai prediksi berdasarkan model regresi linier."
   ]
  },
  {
   "cell_type": "code",
   "execution_count": 47,
   "metadata": {},
   "outputs": [
    {
     "data": {
      "text/plain": [
       "12.312"
      ]
     },
     "execution_count": 47,
     "metadata": {},
     "output_type": "execute_result"
    }
   ],
   "source": [
    "linear_regression(xi)"
   ]
  },
  {
   "cell_type": "code",
   "execution_count": 48,
   "metadata": {},
   "outputs": [],
   "source": [
    "w0 = 7.17\n",
    "w = [0.01, 0.04, 0.002]\n",
    "w_new = [w0] + w"
   ]
  },
  {
   "cell_type": "markdown",
   "id": "53efd220",
   "metadata": {},
   "source": [
    "`w_new = [w0] + w`\n",
    "\n",
    "Pernyataan ini digunakan untuk membuat sebuah vektor baru `w_new` yang menggabungkan intercept `w0` dengan vektor bobot `w`. Hal ini penting dalam konteks model regresi linier di mana kita perlu menyertakan intercept dalam perhitungan.\n",
    "1. `w0`:\n",
    "   - Variabel ini menyimpan nilai intercept dari model regresi linier, yang merupakan nilai dasar yang ditambahkan ke prediksi.\n",
    "2. `w`:\n",
    "   - Ini adalah list yang berisi bobot untuk setiap fitur dalam model regresi. Setiap bobot akan mengalikan nilai fitur yang sesuai dalam perhitungan.\n",
    "3. `w_new`:\n",
    "   - Variabel baru yang akan menyimpan hasil dari penggabungan antara intercept `w0` dan bobot-bobot dari list `w`.\n",
    "4. `[w0]`:\n",
    "   - Membuat sebuah list baru yang hanya berisi satu elemen, yaitu nilai dari intercept `w0`. Ini diperlukan untuk memastikan bahwa intercept ditambahkan sebagai elemen pertama dalam vektor bobot.\n",
    "5. `+`:\n",
    "   - Operator ini digunakan untuk menggabungkan dua list. Dalam hal ini, menggabungkan list yang berisi `w0` dengan list `w`.\n"
   ]
  },
  {
   "cell_type": "code",
   "execution_count": 49,
   "metadata": {},
   "outputs": [
    {
     "data": {
      "text/plain": [
       "array([[   1,  148,   24, 1385],\n",
       "       [   1,  132,   25, 2031],\n",
       "       [   1,  453,   11,   86]])"
      ]
     },
     "execution_count": 49,
     "metadata": {},
     "output_type": "execute_result"
    }
   ],
   "source": [
    "x1  = [1, 148, 24, 1385]\n",
    "x2  = [1, 132, 25, 2031]\n",
    "x10 = [1, 453, 11, 86]\n",
    "\n",
    "X = [x1, x2, x10]\n",
    "X = np.array(X)\n",
    "X"
   ]
  },
  {
   "cell_type": "markdown",
   "id": "bad7d3d3",
   "metadata": {},
   "source": [
    "Definisi dan Konversi `X`\n",
    "\n",
    "Kode ini digunakan untuk membuat sebuah matriks fitur `X` yang berisi beberapa vektor fitur. Setiap vektor fitur dapat digunakan sebagai input untuk model regresi atau analisis lainnya. Kode ini juga mengubah list dari vektor fitur menjadi array NumPy untuk memudahkan operasi matematis.\n",
    "\n",
    "### Penjelasan Komponen\n",
    "\n",
    "1. Definisi Vektor Fitur\n",
    "   - `x1`, `x2`, dan `x10` adalah list yang mewakili vektor fitur untuk tiga contoh data. \n",
    "   - Setiap vektor dimulai dengan `1`, yang biasanya digunakan untuk menyertakan intercept dalam perhitungan regresi.\n",
    "2. Membuat List dari Vektor Fitur:\n",
    "X = [x1, x2, x10] menggabungkan ketiga vektor fitur ke dalam sebuah list X.\n",
    "3. Konversi ke Array NumPy:\n",
    "X = np.array(X) mengubah list X menjadi array NumPy. Ini memungkinkan penggunaan fungsi dan operasi matematis yang lebih efisien dan lebih cepat.\n",
    "Array NumPy juga memungkinkan pengolahan data yang lebih baik dan lebih mudah dalam konteks analisis data dan machine learning."
   ]
  },
  {
   "cell_type": "code",
   "execution_count": 50,
   "metadata": {},
   "outputs": [],
   "source": [
    "def linear_regression(X):\n",
    "    return X.dot(w_new)"
   ]
  },
  {
   "cell_type": "markdown",
   "id": "9232d031",
   "metadata": {},
   "source": [
    "Penjelasan Fungsi: `linear_regression(X)`\n",
    "\n",
    "Fungsi `linear_regression` ini digunakan untuk menghitung prediksi output dari model regresi linier dengan menggunakan matriks fitur `X` dan bobot `w_new`. Fungsi ini mengandalkan operasi dot product untuk melakukan perhitungan regresi.\n",
    "1. Definisi Fungsi:\n",
    "   - `def linear_regression(X):` mendefinisikan fungsi `linear_regression` yang menerima satu argumen, yaitu `X`. \n",
    "2. Argumen:\n",
    "   - `X`: Ini adalah matriks fitur yang berisi input data. Setiap baris dalam `X` mewakili contoh data, dan setiap kolom mewakili fitur.\n",
    "3. Operasi Dot Product:\n",
    "   - `return X.dot(w_new)`:\n",
    "     - Metode `.dot()` digunakan untuk menghitung hasil perkalian dot antara matriks `X` dan vektor bobot `w_new`.\n",
    "     - Hasil dari operasi ini adalah vektor yang berisi nilai prediksi untuk setiap contoh data dalam `X`.\n",
    "     - Dalam konteks regresi linier, ini akan memberikan output prediksi berdasarkan fitur yang diberikan dan bobot yang telah ditentukan.\n"
   ]
  },
  {
   "cell_type": "code",
   "execution_count": 51,
   "metadata": {},
   "outputs": [
    {
     "data": {
      "text/plain": [
       "array([12.38 , 13.552, 12.312])"
      ]
     },
     "execution_count": 51,
     "metadata": {},
     "output_type": "execute_result"
    }
   ],
   "source": [
    "linear_regression(X)"
   ]
  },
  {
   "cell_type": "markdown",
   "metadata": {},
   "source": [
    "## 2.7 Training a linear regression model"
   ]
  },
  {
   "cell_type": "code",
   "execution_count": 52,
   "metadata": {},
   "outputs": [],
   "source": [
    "def train_linear_regression(X, y):\n",
    "    pass"
   ]
  },
  {
   "cell_type": "markdown",
   "id": "9509e6d0",
   "metadata": {},
   "source": [
    "Penjelasan Fungsi: `train_linear_regression(X, y)`\n",
    "\n",
    "Fungsi `train_linear_regression` ini dirancang untuk melatih model regresi linier menggunakan dataset yang diberikan. Namun, saat ini, fungsi ini masih kosong dan belum memiliki implementasi.\n",
    "1. **Definisi Fungsi:**\n",
    "   - `def train_linear_regression(X, y):` mendefinisikan fungsi `train_linear_regression` yang menerima dua argumen:\n",
    "     - `X`: Matriks fitur yang berisi input data untuk pelatihan. Setiap baris dalam `X` mewakili contoh data, dan setiap kolom mewakili fitur.\n",
    "     - `y`: Vektor target yang berisi nilai output yang ingin diprediksi oleh model. Ini adalah hasil yang diharapkan untuk setiap contoh data dalam `X`.\n",
    "2. **Tujuan Fungsi:**\n",
    "   - Fungsi ini bertujuan untuk melatih model regresi linier menggunakan data yang diberikan dalam `X` dan `y`.\n",
    "   - Pelatihan model melibatkan penyesuaian bobot (weights) sehingga model dapat meminimalkan kesalahan dalam prediksi output.\n",
    "3. **Implementasi yang Diharapkan:**\n",
    "   - Meskipun fungsi ini saat ini kosong (`pass`), implementasinya seharusnya mencakup langkah-langkah berikut:\n",
    "     - Menggunakan algoritma regresi linier, seperti metode Ordinary Least Squares (OLS), untuk menghitung bobot yang optimal.\n",
    "     - Memperbarui vektor bobot (seperti `w_new`) berdasarkan hasil pelatihan.\n",
    "     - Menggunakan metode optimasi untuk meminimalkan fungsi kerugian (loss function) yang mengukur perbedaan antara prediksi dan nilai sebenarnya.\n"
   ]
  },
  {
   "cell_type": "code",
   "execution_count": 53,
   "metadata": {},
   "outputs": [
    {
     "data": {
      "text/plain": [
       "array([[ 148,   24, 1385],\n",
       "       [ 132,   25, 2031],\n",
       "       [ 453,   11,   86],\n",
       "       [ 158,   24,  185],\n",
       "       [ 172,   25,  201],\n",
       "       [ 413,   11,   86],\n",
       "       [  38,   54,  185],\n",
       "       [ 142,   25,  431],\n",
       "       [ 453,   31,   86]])"
      ]
     },
     "execution_count": 53,
     "metadata": {},
     "output_type": "execute_result"
    }
   ],
   "source": [
    "X = [\n",
    "    [148, 24, 1385],\n",
    "    [132, 25, 2031],\n",
    "    [453, 11, 86],\n",
    "    [158, 24, 185],\n",
    "    [172, 25, 201],\n",
    "    [413, 11, 86],\n",
    "    [38,  54, 185],\n",
    "    [142, 25, 431],\n",
    "    [453, 31, 86],\n",
    "]\n",
    "\n",
    "X = np.array(X)\n",
    "X"
   ]
  },
  {
   "cell_type": "markdown",
   "id": "31d43792",
   "metadata": {},
   "source": [
    "Definisi Matriks: `X`\n",
    "\n",
    "Matriks `X` didefinisikan sebagai array dua dimensi yang berisi data fitur untuk analisis atau pelatihan model. Setiap baris dalam matriks ini merepresentasikan contoh data, dan setiap kolom merepresentasikan fitur yang berbeda dari data tersebut.\n",
    "1. Definisi Matriks:\n",
    "   - `X = [ ... ]`: Matriks `X` adalah daftar yang berisi beberapa daftar.\n",
    "   - Setiap daftar dalam `X` mewakili satu contoh data dengan tiga fitur.\n",
    "2. Isi Matriks:\n",
    "   - Berikut adalah isi dari matriks `X`:\n",
    "     - Baris pertama: `[148, 24, 1385]`\n",
    "     - Baris kedua: `[132, 25, 2031]`\n",
    "     - Baris ketiga: `[453, 11, 86]`\n",
    "     - Baris keempat: `[158, 24, 185]`\n",
    "     - Baris kelima: `[172, 25, 201]`\n",
    "     - Baris keenam: `[413, 11, 86]`\n",
    "     - Baris ketujuh: `[38, 54, 185]`\n",
    "     - Baris kedelapan: `[142, 25, 431]`\n",
    "     - Baris kesembilan: `[453, 31, 86]`\n",
    "   - Setiap baris mengandung tiga nilai, yang dapat diartikan sebagai fitur-fitur untuk model yang akan dilatih.\n",
    "3. Konversi ke Numpy Array:\n",
    "   - `X = np.array(X)`: Baris ini mengonversi daftar `X` menjadi objek numpy array.\n",
    "   - Penggunaan numpy array mempermudah kita untuk melakukan operasi matematis dan manipulasi data yang lebih efisien, terutama dalam konteks analisis data dan pembelajaran mesin.\n"
   ]
  },
  {
   "cell_type": "code",
   "execution_count": 54,
   "metadata": {},
   "outputs": [
    {
     "data": {
      "text/plain": [
       "array([1., 1., 1., 1., 1., 1., 1., 1., 1.])"
      ]
     },
     "execution_count": 54,
     "metadata": {},
     "output_type": "execute_result"
    }
   ],
   "source": [
    "ones = np.ones(X.shape[0])\n",
    "ones"
   ]
  },
  {
   "cell_type": "markdown",
   "id": "7bfb1fa1",
   "metadata": {},
   "source": [
    "Definisi Array: `ones`\n",
    "\n",
    "Array `ones` didefinisikan sebagai array satu dimensi yang berisi elemen-elemen bernilai satu. Array ini sering digunakan dalam konteks pemodelan, terutama dalam regresi linier, untuk memasukkan bias atau intercept ke dalam model.\n",
    "1. Definisi Array:\n",
    "   - `ones = np.ones(X.shape[0])`: Baris ini membuat array baru yang berisi elemen satu.\n",
    "   - `X.shape[0]` mengacu pada jumlah baris dalam matriks `X`, yang menunjukkan jumlah contoh data.\n",
    "\n",
    "2. Fungsi `np.ones()`:\n",
    "   - Fungsi `np.ones()` adalah fungsi dari pustaka NumPy yang digunakan untuk membuat array dengan semua elemen bernilai satu.\n",
    "   - Parameter yang diberikan ke fungsi ini adalah jumlah elemen yang diinginkan dalam array. Dalam hal ini, jumlah elemen sama dengan jumlah baris dalam matriks `X`.\n",
    "\n",
    "3. Output Array:\n",
    "   - Hasil dari perintah ini adalah array satu dimensi yang berisi nilai satu sebanyak jumlah baris yang ada di matriks `X`.\n",
    "   - Jika `X` memiliki 9 baris, maka `ones` akan menjadi array `[1.0, 1.0, 1.0, 1.0, 1.0, 1.0, 1.0, 1.0, 1.0]`.\n"
   ]
  },
  {
   "cell_type": "code",
   "execution_count": 55,
   "metadata": {},
   "outputs": [],
   "source": [
    "X = np.column_stack([ones, X])"
   ]
  },
  {
   "cell_type": "markdown",
   "id": "434d60d1",
   "metadata": {},
   "source": [
    "Menggabungkan Array: `X`\n",
    "\n",
    "Baris kode ini menggunakan `np.column_stack` untuk menggabungkan dua array atau lebih secara kolom. Dalam hal ini, array `ones` yang berisi elemen satu akan digabungkan dengan matriks `X`.\n",
    "1. Penggunaan `np.column_stack`:\n",
    "   - `X = np.column_stack([ones, X])`: Fungsi ini mengambil beberapa array sebagai input dan menggabungkannya secara kolom. Hasilnya adalah matriks baru di mana setiap array menjadi kolom.\n",
    "   - Ini berguna untuk menambahkan bias ke dalam matriks fitur.\n",
    "2. Struktur Input:\n",
    "   - Input untuk `np.column_stack` adalah list yang berisi `ones` dan `X`. Dalam hal ini, `ones` adalah array satu dimensi yang berisi elemen satu dan `X` adalah matriks dua dimensi yang berisi fitur dari data.\n",
    "3. Hasil Output:\n",
    "   - Hasil dari operasi ini adalah matriks baru yang mengandung kolom pertama dari `ones` diikuti oleh kolom-kolom dari `X`.\n",
    "   - Jika `X` sebelumnya memiliki 3 kolom dan 9 baris, maka setelah penggabungan, matriks `X` akan memiliki 4 kolom (1 kolom dari `ones` dan 3 kolom dari `X`).\n"
   ]
  },
  {
   "cell_type": "code",
   "execution_count": 56,
   "metadata": {},
   "outputs": [],
   "source": [
    "y = [10000, 20000, 15000, 20050, 10000, 20000, 15000, 25000, 12000]"
   ]
  },
  {
   "cell_type": "markdown",
   "id": "9c5349c9",
   "metadata": {},
   "source": [
    "Mendefinisikan List: `y`\n",
    "\n",
    "Baris kode ini mendefinisikan sebuah list yang disebut `y`, yang berisi beberapa nilai numerik. List ini dapat digunakan untuk berbagai analisis atau pemodelan data.\n",
    "1. `y`: \n",
    "   - Ini adalah nama variabel yang menyimpan data dalam bentuk list.\n",
    "   - List ini dapat digunakan untuk menyimpan nilai-nilai target atau respons dalam konteks analisis data atau pemodelan.\n",
    "2. `[10000, 20000, 15000, 20050, 10000, 20000, 15000, 25000, 12000]`: \n",
    "   - Ini adalah isi dari list `y`, yang terdiri dari sembilan elemen.\n",
    "   - Nilai-nilai ini mungkin mewakili data terkait, seperti harga, pendapatan, atau metrik lainnya yang relevan.\n"
   ]
  },
  {
   "cell_type": "code",
   "execution_count": 57,
   "metadata": {},
   "outputs": [],
   "source": [
    "XTX = X.T.dot(X)\n",
    "XTX_inv = np.linalg.inv(XTX)\n",
    "w_full = XTX_inv.dot(X.T).dot(y)"
   ]
  },
  {
   "cell_type": "markdown",
   "id": "79285894",
   "metadata": {},
   "source": [
    "Menghitung Koefisien Regresi Linier: `w_full`\n",
    "\n",
    "Baris kode ini melakukan beberapa operasi matriks untuk menghitung koefisien regresi linier menggunakan metode Least Squares.\n",
    "1. `XTX = X.T.dot(X)`: \n",
    "   - Ini adalah perhitungan dari hasil kali transpose matriks `X` dengan matriks `X` itu sendiri.\n",
    "   - `X.T`: Merupakan transpose dari matriks `X`, yang mengubah baris menjadi kolom dan sebaliknya.\n",
    "   - `dot(X)`: Menghitung hasil kali matriks dari `X.T` dan `X`, menghasilkan matriks baru yang dikenal sebagai matriks Gram.\n",
    "2. `XTX_inv = np.linalg.inv(XTX)`: \n",
    "   - Fungsi ini digunakan untuk menghitung invers dari matriks `XTX`.\n",
    "   - `np.linalg.inv`: Ini adalah fungsi dari NumPy yang mengembalikan invers dari matriks yang diberikan.\n",
    "   - Matriks invers ini diperlukan untuk melanjutkan perhitungan koefisien regresi.\n",
    "3. `w_full = XTX_inv.dot(X.T).dot(y)`: \n",
    "   - Baris ini menghitung koefisien regresi linier (`w_full`).\n",
    "   - `X.T`: Merupakan transpose dari matriks `X`, digunakan untuk mendapatkan hubungan antara fitur dan target.\n",
    "   - `dot(y)`: Ini mengalikan matriks invers `XTX` dengan hasil kali dari `X.T` dan list `y`, yang merupakan nilai target.\n",
    "   - Hasil akhir `w_full` adalah array yang berisi koefisien regresi yang dapat digunakan untuk memprediksi nilai target berdasarkan fitur yang diberikan.\n"
   ]
  },
  {
   "cell_type": "code",
   "execution_count": 58,
   "metadata": {},
   "outputs": [],
   "source": [
    "w0 = w_full[0]\n",
    "w = w_full[1:]"
   ]
  },
  {
   "cell_type": "markdown",
   "id": "0795e186",
   "metadata": {},
   "source": [
    "Mendefinisikan Koefisien Regresi Linier: `w0` dan `w`\n",
    "\n",
    "Baris kode ini mengambil nilai dari array `w_full` yang berisi koefisien regresi linier dan memisahkannya menjadi dua komponen: `w0` dan `w`.\n",
    "1. `w0 = w_full[0]`: \n",
    "   - Baris ini mengambil elemen pertama dari array `w_full`, yang biasanya merupakan intercept (atau bias) dari model regresi linier.\n",
    "   - `w0`: Ini adalah variabel yang menyimpan nilai intercept yang digunakan dalam persamaan regresi.\n",
    "2. `w = w_full[1:]`: \n",
    "   - Baris ini mengambil semua elemen dari array `w_full` mulai dari indeks pertama hingga akhir.\n",
    "   - `w`: Ini adalah variabel yang menyimpan koefisien regresi untuk setiap fitur dalam model, kecuali intercept.\n",
    "   - Dengan demikian, `w` berisi semua bobot yang akan digunakan untuk mengalikan fitur dalam model regresi.\n"
   ]
  },
  {
   "cell_type": "code",
   "execution_count": 59,
   "metadata": {},
   "outputs": [
    {
     "data": {
      "text/plain": [
       "(25844.75405576683, array([ -16.08906468, -199.47254894,   -1.22802883]))"
      ]
     },
     "execution_count": 59,
     "metadata": {},
     "output_type": "execute_result"
    }
   ],
   "source": [
    "w0, w"
   ]
  },
  {
   "cell_type": "code",
   "execution_count": 60,
   "metadata": {},
   "outputs": [],
   "source": [
    "def train_linear_regression(X, y):\n",
    "    ones = np.ones(X.shape[0])\n",
    "    X = np.column_stack([ones, X])\n",
    "\n",
    "    XTX = X.T.dot(X)\n",
    "    XTX_inv = np.linalg.inv(XTX)\n",
    "    w_full = XTX_inv.dot(X.T).dot(y)\n",
    "    \n",
    "    return w_full[0], w_full[1:]"
   ]
  },
  {
   "cell_type": "markdown",
   "id": "2b8e7ed2",
   "metadata": {},
   "source": [
    "Fungsi `train_linear_regression`\n",
    "\n",
    "Fungsi ini bertujuan untuk melatih model regresi linier menggunakan metode Least Squares. Fungsi ini menerima dua argumen: `X`, yang merupakan matriks fitur, dan `y`, yang merupakan vektor target. \n",
    "1. `def train_linear_regression(X, y):` \n",
    "   - Mendefinisikan fungsi `train_linear_regression` dengan parameter `X` dan `y`.\n",
    "   - `X`: Matriks fitur yang berisi data input untuk model.\n",
    "   - `y`: Vektor target yang berisi nilai output yang ingin diprediksi.\n",
    "2. `ones = np.ones(X.shape[0])`:\n",
    "   - Membuat array satu dimensi yang berisi angka satu dengan panjang yang sama dengan jumlah baris dalam `X`.\n",
    "   - Array ini akan digunakan untuk menambahkan kolom intercept pada matriks fitur.\n",
    "3. `X = np.column_stack([ones, X])`:\n",
    "   - Menggabungkan kolom array `ones` dengan matriks `X`, sehingga menghasilkan matriks fitur baru yang mencakup kolom intercept.\n",
    "   - Kolom intercept diperlukan untuk menghitung nilai bias dari model regresi linier.\n",
    "4. `XTX = X.T.dot(X)`:\n",
    "   - Menghitung produk matriks dari transpos `X` dengan `X` itu sendiri.\n",
    "   - Hasilnya adalah matriks yang akan digunakan untuk menghitung koefisien regresi.\n",
    "5. `XTX_inv = np.linalg.inv(XTX)`:\n",
    "   - Menghitung invers dari matriks `XTX`.\n",
    "   - Invers ini diperlukan untuk menghitung koefisien regresi.\n",
    "6. `w_full = XTX_inv.dot(X.T).dot(y)`:\n",
    "   - Menghitung koefisien regresi lengkap (`w_full`) dengan menggunakan rumus Least Squares.\n",
    "   - Ini merupakan langkah penting untuk mendapatkan bobot model regresi linier.\n",
    "7. `return w_full[0], w_full[1:]`:\n",
    "   - Mengembalikan dua nilai: \n",
    "     - `w_full[0]`: Nilai intercept (bias) dari model.\n",
    "     - `w_full[1:]`: Koefisien regresi untuk setiap fitur dalam model."
   ]
  },
  {
   "cell_type": "code",
   "execution_count": 61,
   "metadata": {},
   "outputs": [
    {
     "data": {
      "text/plain": [
       "(2.0460143454602068e+20,\n",
       " array([1.26525728e+20, 8.71025484e+01, 2.59709297e+02, 0.00000000e+00]))"
      ]
     },
     "execution_count": 61,
     "metadata": {},
     "output_type": "execute_result"
    }
   ],
   "source": [
    "train_linear_regression(X, y)"
   ]
  },
  {
   "cell_type": "markdown",
   "id": "72984c13",
   "metadata": {},
   "source": [
    "Eksekusi `train_linear_regression(X, y)`\n",
    "\n",
    "Panggilan fungsi ini bertujuan untuk melatih model regresi linier menggunakan data fitur `X` dan target `y`. \n",
    "1. `train_linear_regression(X, y)`:\n",
    "   - Memanggil fungsi `train_linear_regression` dengan argumen `X` dan `y`.\n",
    "   - `X`: Matriks fitur yang berisi data input untuk model regresi linier.\n",
    "   - `y`: Vektor target yang berisi nilai output yang ingin diprediksi.\n",
    "- Saat fungsi dipanggil, langkah-langkah dalam fungsi akan dieksekusi:\n",
    "   - Kolom satu akan ditambahkan ke `X` untuk menciptakan kolom intercept.\n",
    "   - Matriks `XTX` akan dihitung sebagai produk matriks dari transpos `X` dan `X`.\n",
    "   - Invers dari matriks `XTX` akan dihitung.\n",
    "   - Koefisien regresi lengkap (`w_full`) akan dihitung dengan menggunakan rumus Least Squares.\n",
    "   - Fungsi akan mengembalikan nilai intercept dan koefisien regresi.\n",
    "- Hasil dari eksekusi `train_linear_regression(X, y)` akan memberikan dua nilai:\n",
    "   - Intercept (bias) dari model regresi linier.\n",
    "   - Koefisien regresi untuk setiap fitur dalam matriks `X`.\n"
   ]
  },
  {
   "cell_type": "markdown",
   "metadata": {},
   "source": [
    "## 2.8 Car price baseline model"
   ]
  },
  {
   "cell_type": "code",
   "execution_count": 62,
   "metadata": {},
   "outputs": [
    {
     "data": {
      "text/plain": [
       "Index(['make', 'model', 'year', 'engine_fuel_type', 'engine_hp',\n",
       "       'engine_cylinders', 'transmission_type', 'driven_wheels',\n",
       "       'number_of_doors', 'market_category', 'vehicle_size', 'vehicle_style',\n",
       "       'highway_mpg', 'city_mpg', 'popularity'],\n",
       "      dtype='object')"
      ]
     },
     "execution_count": 62,
     "metadata": {},
     "output_type": "execute_result"
    }
   ],
   "source": [
    "df_train.columns"
   ]
  },
  {
   "cell_type": "code",
   "execution_count": 63,
   "metadata": {
    "scrolled": true
   },
   "outputs": [],
   "source": [
    "base = ['engine_hp', 'engine_cylinders', 'highway_mpg',\n",
    "        'city_mpg', 'popularity']\n",
    "\n",
    "X_train = df_train[base].fillna(0).values\n",
    "\n",
    "w0, w = train_linear_regression(X_train, y_train)\n",
    "\n",
    "y_pred = w0 + X_train.dot(w)"
   ]
  },
  {
   "cell_type": "markdown",
   "id": "ba9b3505",
   "metadata": {},
   "source": [
    "Eksekusi Kode untuk Melatih Model Regresi Linier\n",
    "\n",
    "Panggilan kode ini bertujuan untuk melatih model regresi linier dengan menggunakan fitur dari dataset `df_train`.\n",
    "1. base:\n",
    "   - Mendefinisikan daftar nama kolom yang akan digunakan sebagai fitur untuk model regresi. \n",
    "   - Kolom yang digunakan adalah `engine_hp`, `engine_cylinders`, `highway_mpg`, `city_mpg`, dan `popularity`.\n",
    "2. X_train:\n",
    "   - Mengambil nilai dari kolom yang ditentukan dalam `base` dari `df_train`.\n",
    "   - Menggunakan metode `.fillna(0)` untuk mengganti nilai yang hilang (NaN) dengan 0.\n",
    "   - Mengonversi DataFrame menjadi array NumPy dengan `.values`.\n",
    "3. w0, w = train_linear_regression(X_train, y_train):\n",
    "   - Memanggil fungsi `train_linear_regression` dengan argumen `X_train` dan `y_train`.\n",
    "   - Fungsi ini akan melatih model regresi linier dan mengembalikan nilai intercept (`w0`) dan koefisien regresi (`w`).\n",
    "4. y_pred:\n",
    "   - Menghitung prediksi nilai target menggunakan rumus regresi linier.\n",
    "   - Prediksi dihitung dengan menjumlahkan intercept (`w0`) dan produk titik antara matriks `X_train` dan koefisien regresi (`w`).\n",
    "- Hasil dari eksekusi kode ini adalah array `y_pred` yang berisi nilai yang diprediksi untuk target berdasarkan fitur yang digunakan.\n"
   ]
  },
  {
   "cell_type": "code",
   "execution_count": 64,
   "metadata": {},
   "outputs": [
    {
     "data": {
      "text/plain": [
       "7.9272573880700605"
      ]
     },
     "execution_count": 64,
     "metadata": {},
     "output_type": "execute_result"
    }
   ],
   "source": [
    "w0"
   ]
  },
  {
   "cell_type": "code",
   "execution_count": 65,
   "metadata": {},
   "outputs": [
    {
     "data": {
      "text/plain": [
       "array([ 9.70589522e-03, -1.59103494e-01,  1.43792133e-02,  1.49441072e-02,\n",
       "       -9.06908672e-06])"
      ]
     },
     "execution_count": 65,
     "metadata": {},
     "output_type": "execute_result"
    }
   ],
   "source": [
    "w"
   ]
  },
  {
   "cell_type": "code",
   "execution_count": 66,
   "metadata": {},
   "outputs": [
    {
     "data": {
      "text/plain": [
       "<AxesSubplot:ylabel='Count'>"
      ]
     },
     "execution_count": 66,
     "metadata": {},
     "output_type": "execute_result"
    },
    {
     "data": {
      "image/png": "[encoded data removed]",
      "text/plain": [
       "<Figure size 432x288 with 1 Axes>"
      ]
     },
     "metadata": {
      "needs_background": "light"
     },
     "output_type": "display_data"
    }
   ],
   "source": [
    "sns.histplot(y_pred, color='red', alpha=0.5, bins=50)\n",
    "sns.histplot(y_train, color='blue', alpha=0.5, bins=50)\n"
   ]
  },
  {
   "cell_type": "markdown",
   "metadata": {},
   "source": [
    "## 2.9 RMSE"
   ]
  },
  {
   "cell_type": "code",
   "execution_count": 67,
   "metadata": {},
   "outputs": [],
   "source": [
    "def rmse(y, y_pred):\n",
    "    se = (y - y_pred) ** 2\n",
    "    mse = se.mean()\n",
    "    return np.sqrt(mse)"
   ]
  },
  {
   "cell_type": "markdown",
   "id": "2ad5ac01",
   "metadata": {},
   "source": [
    "Fungsi RMSE\n",
    "\n",
    "Fungsi `rmse` digunakan untuk menghitung Root Mean Squared Error (RMSE) antara nilai aktual dan nilai prediksi.\n",
    "1. def rmse(y, y_pred):\n",
    "   - Mendefinisikan fungsi `rmse` dengan dua parameter:\n",
    "     - `y`: array yang berisi nilai aktual dari target.\n",
    "     - `y_pred`: array yang berisi nilai prediksi dari model.\n",
    "2. se = (y - y_pred) ** 2:\n",
    "   - Menghitung selisih antara nilai aktual (`y`) dan nilai prediksi (`y_pred`).\n",
    "   - Mengkuadratkan selisih tersebut untuk mendapatkan squared error.\n",
    "3. mse = se.mean():\n",
    "   - Menghitung Mean Squared Error (MSE) dengan mengambil rata-rata dari squared errors yang telah dihitung sebelumnya.\n",
    "4. return np.sqrt(mse):\n",
    "   - Mengembalikan nilai RMSE dengan mengambil akar kuadrat dari MSE.\n",
    "Fungsi ini mengembalikan nilai RMSE, yang merupakan ukuran seberapa baik model memprediksi nilai target. Semakin kecil nilai RMSE, semakin baik model dalam melakukan prediksi.\n"
   ]
  },
  {
   "cell_type": "code",
   "execution_count": 68,
   "metadata": {},
   "outputs": [
    {
     "data": {
      "text/plain": [
       "0.7554192603920132"
      ]
     },
     "execution_count": 68,
     "metadata": {},
     "output_type": "execute_result"
    }
   ],
   "source": [
    "rmse(y_train, y_pred)"
   ]
  },
  {
   "cell_type": "markdown",
   "id": "6bc86618",
   "metadata": {},
   "source": [
    "Menghitung RMSE\n",
    "\n",
    "Ekspresi `rmse(y_train, y_pred)` digunakan untuk menghitung Root Mean Squared Error (RMSE) antara nilai aktual dan nilai prediksi.\n",
    "1. `rmse(y_train, y_pred)`:\n",
    "   - Memanggil fungsi `rmse` dengan dua argumen:\n",
    "     - `y_train`: array yang berisi nilai aktual dari target untuk data pelatihan.\n",
    "     - `y_pred`: array yang berisi nilai prediksi yang dihasilkan oleh model berdasarkan data pelatihan.\n",
    "     \n",
    "Fungsi ini bertujuan untuk mengevaluasi seberapa baik model dapat memprediksi harga (atau target) pada data pelatihan. RMSE memberikan ukuran deviasi rata-rata antara nilai aktual dan prediksi, di mana nilai yang lebih rendah menunjukkan kinerja model yang lebih baik.\n",
    "Fungsi `rmse` akan mengembalikan nilai RMSE, yang dapat digunakan untuk menilai akurasi model regresi."
   ]
  },
  {
   "cell_type": "markdown",
   "metadata": {},
   "source": [
    "## 2.10 Validating the model"
   ]
  },
  {
   "cell_type": "code",
   "execution_count": 69,
   "metadata": {},
   "outputs": [],
   "source": [
    "def prepare_X(df):\n",
    "    df_num = df[base]\n",
    "    df_num = df_num.fillna(0)\n",
    "    X = df_num.values\n",
    "    return X"
   ]
  },
  {
   "cell_type": "markdown",
   "id": "6e08e595",
   "metadata": {},
   "source": [
    "Fungsi prepare_X\n",
    "\n",
    "Fungsi `prepare_X(df)` digunakan untuk menyiapkan data fitur (X) dari DataFrame yang diberikan.\n",
    "1. `def prepare_X(df)`:\n",
    "   - Mendefinisikan fungsi `prepare_X` yang menerima satu argumen, yaitu `df`, yang merupakan DataFrame.\n",
    "2. `df_num = df[base]`:\n",
    "   - Mengambil kolom-kolom yang terdapat dalam daftar `base` dari DataFrame `df` dan menyimpannya dalam `df_num`.\n",
    "3. `df_num = df_num.fillna(0)`:\n",
    "   - Mengganti nilai `NaN` dalam `df_num` dengan 0 untuk menghindari masalah saat melakukan perhitungan.\n",
    "4. `X = df_num.values`:\n",
    "   - Mengonversi `df_num` menjadi array NumPy dan menyimpannya dalam variabel `X`.\n",
    "5. `return X`:\n",
    "   - Mengembalikan nilai `X` sebagai output dari fungsi, yang berisi data fitur yang sudah dipersiapkan.\n",
    "\n",
    "Fungsi ini bertujuan untuk menyiapkan data fitur dari DataFrame dengan memastikan tidak ada nilai yang hilang dan hanya menyertakan kolom-kolom yang relevan untuk analisis lebih lanjut."
   ]
  },
  {
   "cell_type": "code",
   "execution_count": 70,
   "metadata": {},
   "outputs": [
    {
     "data": {
      "text/plain": [
       "0.7616530991301577"
      ]
     },
     "execution_count": 70,
     "metadata": {},
     "output_type": "execute_result"
    }
   ],
   "source": [
    "X_train = prepare_X(df_train)\n",
    "w0, w = train_linear_regression(X_train, y_train)\n",
    "\n",
    "X_val = prepare_X(df_val)\n",
    "y_pred = w0 + X_val.dot(w)\n",
    "rmse(y_val, y_pred)"
   ]
  },
  {
   "cell_type": "markdown",
   "id": "2bc9e898",
   "metadata": {},
   "source": [
    "1. `X_train = prepare_X(df_train)`:\n",
    "   - Memanggil fungsi `prepare_X` dengan argumen `df_train` untuk menyiapkan data fitur dari data pelatihan (training data). Hasilnya disimpan dalam variabel `X_train`.\n",
    "2. `w0, w = train_linear_regression(X_train, y_train)`:\n",
    "   - Memanggil fungsi `train_linear_regression` dengan argumen `X_train` dan `y_train`. Fungsi ini melatih model regresi linier menggunakan data fitur pelatihan dan target. Hasilnya, intercept (`w0`) dan koefisien regresi (`w`) disimpan dalam variabel terpisah.\n",
    "3. `X_val = prepare_X(df_val)`:\n",
    "   - Memanggil fungsi `prepare_X` dengan argumen `df_val` untuk menyiapkan data fitur dari data validasi (validation data). Hasilnya disimpan dalam variabel `X_val`.\n",
    "4. `y_pred = w0 + X_val.dot(w)`:\n",
    "   - Menghitung prediksi (`y_pred`) untuk data validasi dengan menggunakan model yang sudah dilatih. Ini dilakukan dengan menjumlahkan intercept (`w0`) dan hasil kali (dot product) antara `X_val` dan koefisien (`w`).\n",
    "5. `rmse(y_val, y_pred)`:\n",
    "   - Memanggil fungsi `rmse` untuk menghitung Root Mean Square Error (RMSE) antara nilai target yang sebenarnya (`y_val`) dan prediksi (`y_pred`). RMSE memberikan ukuran seberapa baik model dalam memprediksi nilai target untuk data validasi.\n",
    "Secara keseluruhan, kode ini melakukan langkah-langkah untuk menyiapkan data pelatihan dan validasi, melatih model regresi linier, membuat prediksi untuk data validasi, dan mengevaluasi performa model menggunakan RMSE."
   ]
  },
  {
   "cell_type": "markdown",
   "metadata": {},
   "source": [
    "## 2.11 Simple feature engineering"
   ]
  },
  {
   "cell_type": "code",
   "execution_count": 71,
   "metadata": {},
   "outputs": [],
   "source": [
    "def prepare_X(df):\n",
    "    df = df.copy()\n",
    "    \n",
    "    df['age'] = 2017 - df['year']\n",
    "    features = base + ['age']\n",
    "    \n",
    "    df_num = df[features]\n",
    "    df_num = df_num.fillna(0)\n",
    "    X = df_num.values\n",
    "\n",
    "    return X"
   ]
  },
  {
   "cell_type": "markdown",
   "id": "41ffbc0f",
   "metadata": {},
   "source": [
    "Fungsi `prepare_X`\n",
    "\n",
    "1. `def prepare_X(df):`:\n",
    "   - Mendefinisikan fungsi `prepare_X` yang menerima satu parameter, `df`, yang merupakan DataFrame.\n",
    "2. `df = df.copy()`:\n",
    "   - Membuat salinan dari DataFrame `df` untuk memastikan bahwa modifikasi yang dilakukan pada DataFrame tidak mempengaruhi DataFrame asli.\n",
    "3. `df['age'] = 2017 - df['year']`:\n",
    "   - Menambahkan kolom baru bernama `age` ke DataFrame. Nilai kolom ini dihitung dengan mengurangi tahun saat ini (2017) dari nilai di kolom `year`, yang menunjukkan usia kendaraan.\n",
    "4. `features = base + ['age']`:\n",
    "   - Menggabungkan daftar kolom yang sudah ada dalam variabel `base` dengan kolom `age`, sehingga menghasilkan daftar kolom fitur yang akan digunakan.\n",
    "5. `df_num = df[features]`:\n",
    "   - Memilih hanya kolom-kolom yang terdapat dalam daftar `features` dari DataFrame dan menyimpannya dalam `df_num`.\n",
    "6. `df_num = df_num.fillna(0)`:\n",
    "   - Mengisi nilai `NaN` di DataFrame `df_num` dengan 0, memastikan bahwa tidak ada nilai hilang dalam data fitur.\n",
    "7. `X = df_num.values`:\n",
    "   - Mengambil nilai dari DataFrame `df_num` sebagai array NumPy dan menyimpannya dalam variabel `X`.\n",
    "8. `return X`:\n",
    "   - Mengembalikan array `X`, yang berisi data fitur yang telah diproses dan siap digunakan untuk pelatihan atau prediksi.\n",
    "Fungsi ini bertujuan untuk menyiapkan data fitur dari DataFrame dengan menambahkan kolom `age`, mengisi nilai yang hilang, dan mengonversi DataFrame menjadi array NumPy, sehingga siap untuk digunakan dalam model regresi atau analisis lebih lanjut."
   ]
  },
  {
   "cell_type": "code",
   "execution_count": 72,
   "metadata": {},
   "outputs": [
    {
     "data": {
      "text/plain": [
       "0.5172055461058291"
      ]
     },
     "execution_count": 72,
     "metadata": {},
     "output_type": "execute_result"
    }
   ],
   "source": [
    "X_train = prepare_X(df_train)\n",
    "w0, w = train_linear_regression(X_train, y_train)\n",
    "\n",
    "X_val = prepare_X(df_val)\n",
    "y_pred = w0 + X_val.dot(w)\n",
    "rmse(y_val, y_pred)"
   ]
  },
  {
   "cell_type": "markdown",
   "id": "531d69f8",
   "metadata": {},
   "source": [
    "1. `X_train = prepare_X(df_train)`:\n",
    "   - Memanggil fungsi `prepare_X` dengan parameter `df_train` untuk menyiapkan data fitur pelatihan. Hasilnya disimpan dalam variabel `X_train`, yang berisi array NumPy dari fitur yang sudah diproses.\n",
    "2. `w0, w = train_linear_regression(X_train, y_train)`:\n",
    "   - Memanggil fungsi `train_linear_regression` dengan `X_train` dan `y_train` sebagai parameter. Fungsi ini akan melatih model regresi linear dan mengembalikan dua nilai: `w0` (intercept) dan `w` (koefisien fitur). Kedua nilai ini disimpan dalam variabel `w0` dan `w`.\n",
    "3. `X_val = prepare_X(df_val)`:\n",
    "   - Memanggil fungsi `prepare_X` lagi, kali ini dengan parameter `df_val`, untuk menyiapkan data fitur untuk set validasi. Hasilnya disimpan dalam variabel `X_val`.\n",
    "4. `y_pred = w0 + X_val.dot(w)`:\n",
    "   - Menghitung prediksi `y_pred` untuk set validasi. Ini dilakukan dengan menjumlahkan intercept `w0` dengan hasil kali dot antara `X_val` dan koefisien `w`. Hasilnya adalah prediksi nilai target untuk set validasi.\n",
    "5. `rmse(y_val, y_pred)`:\n",
    "   - Memanggil fungsi `rmse` dengan parameter `y_val` dan `y_pred` untuk menghitung nilai Root Mean Squared Error (RMSE) antara nilai aktual `y_val` dan nilai prediksi `y_pred`. Ini memberikan ukuran seberapa baik model melakukan prediksi pada data validasi.\n",
    "Secara keseluruhan, kode ini bertujuan untuk melatih model regresi linear menggunakan data pelatihan dan kemudian melakukan prediksi pada data validasi. RMSE dihitung untuk mengevaluasi performa model."
   ]
  },
  {
   "cell_type": "code",
   "execution_count": 73,
   "metadata": {},
   "outputs": [
    {
     "data": {
      "text/plain": [
       "<matplotlib.legend.Legend at 0xff7e413fe3a0>"
      ]
     },
     "execution_count": 73,
     "metadata": {},
     "output_type": "execute_result"
    },
    {
     "data": {
      "image/png": "[encoded data removed]",
      "text/plain": [
       "<Figure size 432x288 with 1 Axes>"
      ]
     },
     "metadata": {
      "needs_background": "light"
     },
     "output_type": "display_data"
    }
   ],
   "source": [
    "sns.histplot(y_pred, label='prediction', color='red', alpha=0.5, bins=50)\n",
    "sns.histplot(y_val, label='target', color='blue',  alpha=0.5, bins=50)\n",
    "plt.legend()"
   ]
  },
  {
   "cell_type": "markdown",
   "id": "52c84d52",
   "metadata": {},
   "source": [
    "1. `sns.histplot(y_pred, label='prediction', color='red', alpha=0.5, bins=50)`:\n",
    "   - Menggunakan fungsi `histplot` dari Seaborn untuk membuat histogram dari nilai prediksi `y_pred`.\n",
    "   - Parameter `label='prediction'` memberikan label untuk legenda histogram ini.\n",
    "   - `color='red'` mengatur warna histogram menjadi merah.\n",
    "   - `alpha=0.5` menentukan transparansi histogram, sehingga memungkinkan visualisasi tumpang tindih dengan histogram lainnya.\n",
    "   - `bins=50` menentukan jumlah interval (bin) untuk histogram.\n",
    "2. `sns.histplot(y_val, label='target', color='blue', alpha=0.5, bins=50)`:\n",
    "   - Sama dengan langkah sebelumnya, tetapi histogram ini menunjukkan nilai target `y_val`.\n",
    "   - Parameter `label='target'` memberikan label untuk legenda histogram ini.\n",
    "   - `color='blue'` mengatur warna histogram menjadi biru.\n",
    "3. `plt.legend()`:\n",
    "   - Menampilkan legenda pada plot. Ini akan menunjukkan label yang telah ditentukan untuk setiap histogram (yaitu \"prediction\" untuk histogram prediksi dan \"target\" untuk histogram nilai target).\n",
    "Secara keseluruhan, kode ini bertujuan untuk membandingkan distribusi nilai prediksi model dengan distribusi nilai target sebenarnya. Dengan menggunakan histogram tumpang tindih, kita dapat secara visual mengevaluasi seberapa baik model melakukan prediksi dengan membandingkan kedua distribusi tersebut."
   ]
  },
  {
   "cell_type": "markdown",
   "metadata": {},
   "source": [
    "## 2.12 Categorical variables"
   ]
  },
  {
   "cell_type": "code",
   "execution_count": 74,
   "metadata": {},
   "outputs": [],
   "source": [
    "categorical_columns = [\n",
    "    'make', 'model', 'engine_fuel_type', 'driven_wheels', 'market_category',\n",
    "    'vehicle_size', 'vehicle_style']\n",
    "\n",
    "categorical = {}\n",
    "\n",
    "for c in categorical_columns:\n",
    "    categorical[c] = list(df_train[c].value_counts().head().index)"
   ]
  },
  {
   "cell_type": "markdown",
   "id": "3ad7cb23",
   "metadata": {},
   "source": [
    "1. `categorical_columns = [...]`:\n",
    "   - Mendefinisikan daftar kolom kategorikal yang akan dianalisis. Kolom-kolom ini mencakup informasi seperti merek mobil, model, jenis bahan bakar mesin, dan lainnya.\n",
    "2. `categorical = {}`:\n",
    "   - Membuat kamus kosong bernama `categorical`, yang akan digunakan untuk menyimpan informasi tentang nilai unik untuk setiap kolom kategorikal.\n",
    "3. `for c in categorical_columns:`:\n",
    "   - Memulai loop yang akan iterasi melalui setiap kolom dalam daftar `categorical_columns`.\n",
    "4. `categorical[c] = list(df_train[c].value_counts().head().index)`:\n",
    "   - Untuk setiap kolom `c`, menghitung jumlah nilai unik menggunakan `value_counts()`, yang mengembalikan frekuensi kemunculan setiap nilai dalam kolom tersebut.\n",
    "   - `.head()` mengambil lima nilai teratas berdasarkan frekuensi kemunculan.\n",
    "   - `.index` mengakses indeks dari hasil `value_counts()`, yang berisi nilai-nilai unik dari kolom tersebut.\n",
    "   - `list(...)` mengubah hasilnya menjadi daftar dan menyimpannya dalam kamus `categorical` dengan nama kolom `c` sebagai kunci.\n",
    "Secara keseluruhan, kode ini bertujuan untuk mengumpulkan dan menyimpan nilai-nilai unik teratas dari setiap kolom kategorikal dalam dataset pelatihan (`df_train`). Ini dapat berguna untuk analisis lebih lanjut, seperti pemilihan fitur atau eksplorasi data."
   ]
  },
  {
   "cell_type": "code",
   "execution_count": 75,
   "metadata": {},
   "outputs": [],
   "source": [
    "def prepare_X(df):\n",
    "    df = df.copy()\n",
    "    \n",
    "    df['age'] = 2017 - df['year']\n",
    "    features = base + ['age']\n",
    "\n",
    "    for v in [2, 3, 4]:\n",
    "        df['num_doors_%d' % v] = (df.number_of_doors == v).astype(int)\n",
    "        features.append('num_doors_%d' % v)\n",
    "\n",
    "    for name, values in categorical.items():\n",
    "        for value in values:\n",
    "            df['%s_%s' % (name, value)] = (df[name] == value).astype(int)\n",
    "            features.append('%s_%s' % (name, value))\n",
    "\n",
    "    df_num = df[features]\n",
    "    df_num = df_num.fillna(0)\n",
    "    X = df_num.values\n",
    "\n",
    "    return X"
   ]
  },
  {
   "cell_type": "markdown",
   "id": "0446a92d",
   "metadata": {},
   "source": [
    "1. `def prepare_X(df):`:\n",
    "   - Mendefinisikan fungsi `prepare_X` yang menerima parameter `df`, yang merupakan DataFrame.\n",
    "2. `df = df.copy():`:\n",
    "   - Membuat salinan dari DataFrame `df` untuk menghindari perubahan langsung pada DataFrame asli.\n",
    "3. `df['age'] = 2017 - df['year']:`:\n",
    "   - Menambahkan kolom baru bernama `age` yang dihitung berdasarkan selisih antara tahun 2017 dan tahun yang ada di kolom `year`.\n",
    "4. `features = base + ['age']:`:\n",
    "   - Menggabungkan daftar `base` yang berisi nama-nama kolom fitur dengan kolom `age` untuk membentuk daftar fitur yang akan digunakan.\n",
    "5. `for v in [2, 3, 4]:`:\n",
    "   - Memulai loop untuk iterasi pada nilai 2, 3, dan 4, yang mewakili jumlah pintu mobil.\n",
    "6. `df['num_doors_%d' % v] = (df.number_of_doors == v).astype(int):`:\n",
    "   - Membuat kolom baru bernama `num_doors_<v>` untuk setiap nilai `v`, yang berisi 1 jika `number_of_doors` sama dengan `v` dan 0 jika tidak. Ini digunakan untuk mengonversi variabel kategorikal menjadi format numerik.\n",
    "7. `features.append('num_doors_%d' % v):`:\n",
    "   - Menambahkan nama kolom yang baru dibuat ke dalam daftar `features`.\n",
    "8. `for name, values in categorical.items():`:\n",
    "   - Memulai loop untuk iterasi pada setiap item dalam kamus `categorical`, di mana `name` adalah nama kolom dan `values` adalah daftar nilai unik teratas.\n",
    "9. `for value in values:`:\n",
    "   - Memulai loop untuk iterasi pada setiap nilai dalam `values`.\n",
    "10. `df['%s_%s' % (name, value)] = (df[name] == value).astype(int):`:\n",
    "    - Membuat kolom baru bernama `<name>_<value>` untuk setiap nilai `value`, yang berisi 1 jika kolom `name` sama dengan `value` dan 0 jika tidak.\n",
    "11. `features.append('%s_%s' % (name, value)):`:\n",
    "    - Menambahkan nama kolom yang baru dibuat ke dalam daftar `features`.\n",
    "12. `df_num = df[features]:`:\n",
    "    - Membuat DataFrame baru bernama `df_num` yang hanya berisi kolom-kolom yang ada dalam daftar `features`.\n",
    "13. `df_num = df_num.fillna(0):`:\n",
    "    - Mengisi nilai kosong (NaN) dalam `df_num` dengan 0.\n",
    "14. `X = df_num.values:`:\n",
    "    - Mengambil nilai-nilai dari `df_num` sebagai array NumPy dan menyimpannya dalam variabel `X`.\n",
    "15. `return X:`:\n",
    "    - Mengembalikan array `X` sebagai output dari fungsi.\n",
    "\n",
    "Fungsi `prepare_X` bertujuan untuk menyiapkan fitur yang diperlukan untuk model regresi dengan melakukan pra-pemrosesan pada DataFrame, termasuk penambahan kolom baru berdasarkan informasi yang ada, konversi variabel kategorikal menjadi format numerik, dan pengisian nilai kosong."
   ]
  },
  {
   "cell_type": "code",
   "execution_count": 76,
   "metadata": {},
   "outputs": [
    {
     "data": {
      "text/plain": [
       "266.5994263627081"
      ]
     },
     "execution_count": 76,
     "metadata": {},
     "output_type": "execute_result"
    }
   ],
   "source": [
    "X_train = prepare_X(df_train)\n",
    "w0, w = train_linear_regression(X_train, y_train)\n",
    "\n",
    "X_val = prepare_X(df_val)\n",
    "y_pred = w0 + X_val.dot(w)\n",
    "rmse(y_val, y_pred)"
   ]
  },
  {
   "cell_type": "markdown",
   "id": "3f01c3af",
   "metadata": {},
   "source": [
    "1. `X_train = prepare_X(df_train):`  \n",
    "   - Memanggil fungsi `prepare_X` dengan `df_train` sebagai argumen untuk menyiapkan data fitur pelatihan. Hasilnya disimpan dalam variabel `X_train`.\n",
    "2. `w0, w = train_linear_regression(X_train, y_train):`  \n",
    "   - Memanggil fungsi `train_linear_regression` dengan `X_train` dan `y_train` sebagai argumen untuk melatih model regresi linear. Fungsi ini mengembalikan intercept (w0) dan koefisien (w), yang kemudian disimpan dalam variabel `w0` dan `w`.\n",
    "3. `X_val = prepare_X(df_val):`  \n",
    "   - Memanggil fungsi `prepare_X` dengan `df_val` sebagai argumen untuk menyiapkan data fitur validasi. Hasilnya disimpan dalam variabel `X_val`.\n",
    "4. `y_pred = w0 + X_val.dot(w):`  \n",
    "   - Menghitung prediksi target (y_pred) untuk data validasi dengan menambahkan intercept (w0) ke hasil perkalian antara fitur validasi (`X_val`) dan koefisien regresi (`w`). Fungsi `dot` digunakan untuk melakukan operasi matriks.\n",
    "5. `rmse(y_val, y_pred):`  \n",
    "   - Menghitung dan mengembalikan nilai root mean square error (RMSE) antara nilai aktual (`y_val`) dan nilai prediksi (`y_pred`). RMSE digunakan untuk mengevaluasi seberapa baik model melakukan prediksi pada data validasi.\n"
   ]
  },
  {
   "cell_type": "code",
   "execution_count": 77,
   "metadata": {},
   "outputs": [
    {
     "data": {
      "text/plain": [
       "(3066759258862621.0,\n",
       " array([-7.90863204e-01,  1.80621909e+02,  1.97903973e+01,  1.46968041e+01,\n",
       "        -3.39713455e-04,  7.74924546e+00,  9.76297867e+03,  9.83480038e+03,\n",
       "         9.77003629e+03, -2.36936868e+01, -6.98582110e+00,  7.93435108e+01,\n",
       "        -7.33167695e+01, -6.60897799e+00, -1.00310530e+01,  7.79383982e+01,\n",
       "        -4.19367134e+01, -6.14213575e+01,  2.12412304e+02,  1.02166851e+03,\n",
       "         9.08719092e+02,  9.84633740e+02,  1.06771237e+03,  7.00547494e+02,\n",
       "        -3.06675926e+15, -3.06675926e+15, -3.06675926e+15, -3.06675926e+15,\n",
       "         2.52356626e+00,  3.40712703e+00, -1.27416249e+01,  1.22844560e+01,\n",
       "        -1.51620939e+01,  3.09315910e+02,  2.88692636e+02,  2.78158171e+02,\n",
       "        -1.44115660e-01, -2.62579827e-02,  1.75913981e-01,  3.65037816e-01,\n",
       "        -2.90235596e-01]))"
      ]
     },
     "execution_count": 77,
     "metadata": {},
     "output_type": "execute_result"
    }
   ],
   "source": [
    "w0, w"
   ]
  },
  {
   "cell_type": "markdown",
   "metadata": {},
   "source": [
    "## 2.13 Regularization"
   ]
  },
  {
   "cell_type": "code",
   "execution_count": 78,
   "metadata": {},
   "outputs": [
    {
     "data": {
      "text/plain": [
       "array([[4.        , 4.        , 4.        ],\n",
       "       [3.        , 5.        , 5.        ],\n",
       "       [5.        , 1.        , 1.        ],\n",
       "       [5.        , 4.        , 4.        ],\n",
       "       [7.        , 5.        , 5.        ],\n",
       "       [4.        , 5.        , 5.00000001]])"
      ]
     },
     "execution_count": 78,
     "metadata": {},
     "output_type": "execute_result"
    }
   ],
   "source": [
    "X = [\n",
    "    [4, 4, 4],\n",
    "    [3, 5, 5],\n",
    "    [5, 1, 1],\n",
    "    [5, 4, 4],\n",
    "    [7, 5, 5],\n",
    "    [4, 5, 5.00000001],\n",
    "]\n",
    "\n",
    "X = np.array(X)\n",
    "X"
   ]
  },
  {
   "cell_type": "markdown",
   "id": "d049fe5c",
   "metadata": {},
   "source": [
    "1. `X = [[4, 4, 4], [3, 5, 5], [5, 1, 1], [5, 4, 4], [7, 5, 5], [4, 5, 5.00000001]]:`  \n",
    "   - Mendefinisikan sebuah list berisi beberapa list, masing-masing merepresentasikan sebuah baris dengan tiga fitur.\n",
    "2. `X = np.array(X):`  \n",
    "   - Mengubah list `X` menjadi array NumPy. Ini memungkinkan penggunaan fungsi dan operasi yang lebih efisien pada data numerik.  \n",
    "3. `X:`  \n",
    "   - Menampilkan array NumPy yang dihasilkan. Array ini akan berisi data sebagai berikut:"
   ]
  },
  {
   "cell_type": "code",
   "execution_count": 79,
   "metadata": {},
   "outputs": [],
   "source": [
    "y= [1, 2, 3, 1, 2, 3]"
   ]
  },
  {
   "cell_type": "markdown",
   "id": "5c5d5f54",
   "metadata": {},
   "source": [
    "1. `y = [1, 2, 3, 1, 2, 3]:`  \n",
    "   - Mendefinisikan sebuah list bernama `y` yang berisi enam elemen. Elemen-elemen ini merupakan angka bulat yang dapat digunakan sebagai target atau label dalam analisis data atau pemodelan."
   ]
  },
  {
   "cell_type": "code",
   "execution_count": 80,
   "metadata": {},
   "outputs": [
    {
     "data": {
      "text/plain": [
       "array([[140.        , 111.        , 111.00000004],\n",
       "       [111.        , 108.        , 108.00000005],\n",
       "       [111.00000004, 108.00000005, 108.0000001 ]])"
      ]
     },
     "execution_count": 80,
     "metadata": {},
     "output_type": "execute_result"
    }
   ],
   "source": [
    "XTX = X.T.dot(X)\n",
    "XTX"
   ]
  },
  {
   "cell_type": "markdown",
   "id": "a01514b3",
   "metadata": {},
   "source": [
    "1. `XTX = X.T.dot(X):`  \n",
    "   - Menghitung hasil kali dari matriks `X` yang ditransposisi (X.T) dengan matriks `X` itu sendiri. Proses ini menghasilkan matriks baru bernama `XTX`, yang sering digunakan dalam konteks regresi linier untuk menghitung koefisien model.\n",
    "   - Operasi ini berguna dalam regresi untuk mendapatkan informasi tentang variabilitas dan hubungan antara fitur-fitur dalam matriks `X`."
   ]
  },
  {
   "cell_type": "code",
   "execution_count": 81,
   "metadata": {},
   "outputs": [],
   "source": [
    "XTX_inv = np.linalg.inv(XTX)"
   ]
  },
  {
   "cell_type": "markdown",
   "id": "415b8021",
   "metadata": {},
   "source": [
    "1. `XTX_inv = np.linalg.inv(XTX):`  \n",
    "   - Menghitung invers dari matriks `XTX` yang telah dihitung sebelumnya. Fungsi `np.linalg.inv()` digunakan untuk menemukan invers matriks.\n",
    "   - Invers dari matriks ini diperlukan dalam konteks regresi linier untuk menentukan koefisien model. Dengan menggunakan invers matriks, kita dapat menghitung estimasi koefisien regresi yang meminimalkan kesalahan kuadrat.\n",
    "   - Jika matriks `XTX` tidak dapat diinversi (misalnya, jika matriks tersebut singular), maka proses ini akan menghasilkan kesalahan."
   ]
  },
  {
   "cell_type": "code",
   "execution_count": 82,
   "metadata": {},
   "outputs": [
    {
     "data": {
      "text/plain": [
       "array([[ 3.85321698e-02,  1.20696663e+05, -1.20696696e+05],\n",
       "       [ 1.20696640e+05, -2.74658839e+14,  2.74658839e+14],\n",
       "       [-1.20696680e+05,  2.74658839e+14, -2.74658839e+14]])"
      ]
     },
     "execution_count": 82,
     "metadata": {},
     "output_type": "execute_result"
    }
   ],
   "source": [
    "XTX_inv"
   ]
  },
  {
   "cell_type": "code",
   "execution_count": 83,
   "metadata": {},
   "outputs": [
    {
     "data": {
      "text/plain": [
       "array([ 6.24269892e-01,  3.44329390e+06, -3.44329299e+06])"
      ]
     },
     "execution_count": 83,
     "metadata": {},
     "output_type": "execute_result"
    }
   ],
   "source": [
    "XTX_inv.dot(X.T).dot(y)"
   ]
  },
  {
   "cell_type": "markdown",
   "id": "05f4b8e2",
   "metadata": {},
   "source": [
    "1. `XTX_inv.dot(X.T).dot(y):`  \n",
    "   - Menghitung estimasi koefisien regresi linier menggunakan rumus normal equation. Proses ini dilakukan dalam dua langkah:\n",
    "     - `XTX_inv.dot(X.T)` menghitung hasil kali antara invers dari matriks `XTX` dan transpos dari matriks `X`. Ini menghasilkan matriks yang akan digunakan untuk menghitung koefisien.\n",
    "     - Kemudian, hasil tersebut dikalikan dengan `y`, yaitu vektor target yang berisi nilai-nilai yang ingin diprediksi.\n",
    "   - Hasil akhir dari operasi ini adalah vektor `w_full`, yang berisi estimasi untuk koefisien regresi, termasuk intercept (bias) dan koefisien untuk setiap fitur.\n",
    "   - Proses ini sangat efisien dan sering digunakan dalam regresi linier karena memberikan solusi langsung tanpa perlu melakukan iterasi."
   ]
  },
  {
   "cell_type": "code",
   "execution_count": 84,
   "metadata": {},
   "outputs": [],
   "source": [
    "XTX = [\n",
    "    [1, 2, 2],\n",
    "    [2, 1, 1.0000001],\n",
    "    [2, 1.0000001, 1]\n",
    "]\n",
    "\n",
    "XTX = np.array(XTX)"
   ]
  },
  {
   "cell_type": "markdown",
   "id": "3c054b07",
   "metadata": {},
   "source": [
    "1. `XTX = np.array(XTX):`  \n",
    "   - Membuat matriks `XTX` sebagai objek NumPy array. \n",
    "   - Matriks ini memiliki dimensi 3x3 dan berisi nilai-nilai sebagai berikut:\n",
    "     - Baris pertama: `[1, 2, 2]`\n",
    "     - Baris kedua: `[2, 1, 1.0000001]`\n",
    "     - Baris ketiga: `[2, 1.0000001, 1]`\n",
    "   - Matriks ini biasanya digunakan dalam konteks regresi linier, khususnya dalam perhitungan koefisien regresi menggunakan metode normal equation.\n",
    "   - Penggunaan `np.array()` memastikan bahwa matriks tersebut dapat digunakan untuk operasi numerik yang efisien dengan NumPy."
   ]
  },
  {
   "cell_type": "code",
   "execution_count": 85,
   "metadata": {},
   "outputs": [
    {
     "data": {
      "text/plain": [
       "array([[-3.33333356e-01,  3.33333339e-01,  3.33333339e-01],\n",
       "       [ 3.33333339e-01, -5.00000008e+06,  4.99999991e+06],\n",
       "       [ 3.33333339e-01,  4.99999991e+06, -5.00000008e+06]])"
      ]
     },
     "execution_count": 85,
     "metadata": {},
     "output_type": "execute_result"
    }
   ],
   "source": [
    "np.linalg.inv(XTX)"
   ]
  },
  {
   "cell_type": "markdown",
   "id": "91c876cb",
   "metadata": {},
   "source": [
    "1. `np.linalg.inv(XTX):`  \n",
    "   - Menghitung invers dari matriks `XTX` yang telah didefinisikan sebelumnya.\n",
    "   - `np.linalg.inv()` adalah fungsi dari library NumPy yang digunakan untuk menghitung invers matriks.\n",
    "   - Matriks `XTX` yang akan dihitung inversnya memiliki dimensi 3x3, dan fungsi ini akan mengembalikan matriks invers yang juga berdimensi 3x3.\n",
    "   - Invers matriks sering digunakan dalam konteks regresi linier untuk menghitung koefisien regresi menggunakan rumus normal equation."
   ]
  },
  {
   "cell_type": "code",
   "execution_count": 86,
   "metadata": {},
   "outputs": [],
   "source": [
    "XTX = XTX + 0.01 * np.eye(3)"
   ]
  },
  {
   "cell_type": "markdown",
   "id": "0d09782e",
   "metadata": {},
   "source": [
    "1. `XTX = XTX + 0.01 * np.eye(3):`  \n",
    "   - Baris kode ini menambahkan nilai kecil (0.01) ke diagonal matriks `XTX` untuk menghasilkan stabilitas numerik.\n",
    "   - `np.eye(3)` adalah fungsi dari NumPy yang menghasilkan matriks identitas berukuran 3x3. Matriks identitas memiliki 1 di diagonal utama dan 0 di elemen lainnya.\n",
    "   - Dengan mengalikan `np.eye(3)` dengan 0.01, kita mendapatkan matriks dengan 0.01 di diagonal dan 0 di tempat lainnya.\n",
    "   - Penambahan ini sering dilakukan dalam konteks regresi linier untuk menghindari masalah yang terkait dengan matriks singular atau hampir singular saat menghitung inversnya."
   ]
  },
  {
   "cell_type": "code",
   "execution_count": 87,
   "metadata": {},
   "outputs": [
    {
     "data": {
      "text/plain": [
       "array([[ -0.33668908,   0.33501399,   0.33501399],\n",
       "       [  0.33501399,  49.91590897, -50.08509104],\n",
       "       [  0.33501399, -50.08509104,  49.91590897]])"
      ]
     },
     "execution_count": 87,
     "metadata": {},
     "output_type": "execute_result"
    }
   ],
   "source": [
    "np.linalg.inv(XTX)"
   ]
  },
  {
   "cell_type": "markdown",
   "metadata": {},
   "source": [
    "1. `np.linalg.inv(XTX):`  \n",
    "   - Baris kode ini digunakan untuk menghitung invers dari matriks `XTX`.\n",
    "   - `np.linalg.inv()` adalah fungsi dari NumPy yang mengembalikan invers dari sebuah matriks.\n",
    "   - Matriks `XTX` harus berupa matriks persegi dan harus memiliki determinan yang tidak sama dengan nol untuk inversnya dapat dihitung. \n",
    "   - Jika `XTX` telah ditambahkan dengan nilai kecil pada diagonal sebelumnya (seperti yang dilakukan pada langkah sebelumnya), hal ini membantu menghindari kesalahan ketika matriks hampir singular, sehingga perhitungan invers dapat dilakukan dengan lebih stabil.\n"
   ]
  },
  {
   "cell_type": "code",
   "execution_count": 88,
   "metadata": {},
   "outputs": [],
   "source": [
    "def train_linear_regression_reg(X, y, r=0.001):\n",
    "    ones = np.ones(X.shape[0])\n",
    "    X = np.column_stack([ones, X])\n",
    "\n",
    "    XTX = X.T.dot(X)\n",
    "    XTX = XTX + r * np.eye(XTX.shape[0])\n",
    "\n",
    "    XTX_inv = np.linalg.inv(XTX)\n",
    "    w_full = XTX_inv.dot(X.T).dot(y)\n",
    "    \n",
    "    return w_full[0], w_full[1:]"
   ]
  },
  {
   "cell_type": "markdown",
   "id": "ec24f9b6",
   "metadata": {},
   "source": [
    "1. `def train_linear_regression_reg(X, y, r=0.001):`  \n",
    "   - Fungsi ini didefinisikan untuk melatih model regresi linier dengan regularisasi L2 (Ridge Regression). Parameter `X` adalah fitur input, `y` adalah target output, dan `r` adalah koefisien regularisasi yang default-nya diatur ke 0.001.\n",
    "2. `ones = np.ones(X.shape[0]):`  \n",
    "   - Baris ini membuat array `ones` yang berisi angka 1 dengan jumlah elemen sama dengan jumlah baris dalam `X`. Ini digunakan untuk menambahkan bias ke model.\n",
    "3. `X = np.column_stack([ones, X]):`  \n",
    "   - Menggabungkan kolom `ones` dengan `X` untuk membentuk matriks baru yang mencakup bias.\n",
    "4. `XTX = X.T.dot(X):`  \n",
    "   - Menghitung produk dari transpos matriks `X` dengan matriks `X` itu sendiri. Ini menghasilkan matriks yang diperlukan untuk menghitung koefisien model.\n",
    "5. `XTX = XTX + r * np.eye(XTX.shape[0]):`  \n",
    "   - Menambahkan `r` dikalikan dengan matriks identitas ke `XTX` untuk mengimplementasikan regularisasi L2. Ini membantu mencegah overfitting dengan mengurangi kompleksitas model.\n",
    "6. `XTX_inv = np.linalg.inv(XTX):`  \n",
    "   - Menghitung invers dari matriks `XTX`. Ini diperlukan untuk menghitung koefisien regresi.\n",
    "7. `w_full = XTX_inv.dot(X.T).dot(y):`  \n",
    "   - Menghitung koefisien regresi menggunakan formula closed-form, yaitu mengalikan invers dari `XTX` dengan transpos `X` dan kemudian dengan `y`.\n",
    "8. `return w_full[0], w_full[1:]:`  \n",
    "   - Mengembalikan dua nilai: koefisien untuk bias (`w_full[0]`) dan koefisien untuk fitur (`w_full[1:]`)."
   ]
  },
  {
   "cell_type": "code",
   "execution_count": 89,
   "metadata": {},
   "outputs": [
    {
     "data": {
      "text/plain": [
       "0.4608208286209523"
      ]
     },
     "execution_count": 89,
     "metadata": {},
     "output_type": "execute_result"
    }
   ],
   "source": [
    "X_train = prepare_X(df_train)\n",
    "w0, w = train_linear_regression_reg(X_train, y_train, r=0.01)\n",
    "\n",
    "X_val = prepare_X(df_val)\n",
    "y_pred = w0 + X_val.dot(w)\n",
    "rmse(y_val, y_pred)"
   ]
  },
  {
   "cell_type": "markdown",
   "id": "f2012365",
   "metadata": {},
   "source": [
    "1. `X_train = prepare_X(df_train):`  \n",
    "   - Menggunakan fungsi `prepare_X` untuk menyiapkan data fitur dari `df_train`. Data ini akan digunakan untuk melatih model regresi.\n",
    "2. `w0, w = train_linear_regression_reg(X_train, y_train, r=0.01):`  \n",
    "   - Melatih model regresi linier dengan regularisasi L2 menggunakan data pelatihan (`X_train` dan `y_train`) dan koefisien regularisasi `r` yang diatur ke 0.01. Hasilnya adalah `w0`, yang merupakan koefisien bias, dan `w`, yang merupakan koefisien untuk fitur.\n",
    "3. `X_val = prepare_X(df_val):`  \n",
    "   - Menyiapkan data fitur dari `df_val` dengan menggunakan fungsi yang sama untuk mempersiapkan data validasi. Data ini akan digunakan untuk mengukur kinerja model.\n",
    "4. `y_pred = w0 + X_val.dot(w):`  \n",
    "   - Menghitung prediksi (`y_pred`) dengan menjumlahkan bias (`w0`) dan hasil dari perkalian matriks antara `X_val` dan koefisien fitur (`w`). Ini memberikan nilai prediksi untuk data validasi.\n",
    "5. `rmse(y_val, y_pred):`  \n",
    "   - Menghitung Root Mean Square Error (RMSE) antara nilai sebenarnya (`y_val`) dan nilai prediksi (`y_pred`). RMSE adalah metrik yang digunakan untuk mengukur seberapa baik model regresi bekerja.\n"
   ]
  },
  {
   "cell_type": "markdown",
   "metadata": {},
   "source": [
    "## 2.14 Tuning the model"
   ]
  },
  {
   "cell_type": "code",
   "execution_count": 90,
   "metadata": {},
   "outputs": [
    {
     "name": "stdout",
     "output_type": "stream",
     "text": [
      "0.0 3066759258862621.0 266.5994263627081\n",
      "1e-05 6.6398149018651305 0.46081532123609276\n",
      "0.0001 7.12965014007955 0.4608153659783837\n",
      "0.001 7.13085491393288 0.46081585838957173\n",
      "0.1 7.0002324128629025 0.4608736549134577\n",
      "1 6.250747846974607 0.46158128382779856\n",
      "10 4.7295125856710305 0.472609877266903\n"
     ]
    }
   ],
   "source": [
    "for r in [0.0, 0.00001, 0.0001, 0.001, 0.1, 1, 10]:\n",
    "    X_train = prepare_X(df_train)\n",
    "    w0, w = train_linear_regression_reg(X_train, y_train, r=r)\n",
    "\n",
    "    X_val = prepare_X(df_val)\n",
    "    y_pred = w0 + X_val.dot(w)\n",
    "    score = rmse(y_val, y_pred)\n",
    "    \n",
    "    print(r, w0, score)"
   ]
  },
  {
   "cell_type": "markdown",
   "id": "ab17d9fe",
   "metadata": {},
   "source": [
    "1. `for r in [0.0, 0.00001, 0.0001, 0.001, 0.1, 1, 10]:`  \n",
    "   - Melakukan iterasi untuk setiap nilai dari koefisien regularisasi `r`. Daftar nilai yang digunakan adalah 0.0, 0.00001, 0.0001, 0.001, 0.1, 1, dan 10.\n",
    "2. `X_train = prepare_X(df_train):`  \n",
    "   - Menggunakan fungsi `prepare_X` untuk menyiapkan data fitur dari `df_train` untuk setiap iterasi. Ini akan digunakan untuk melatih model regresi.\n",
    "3. `w0, w = train_linear_regression_reg(X_train, y_train, r=r):`  \n",
    "   - Melatih model regresi linier dengan regularisasi L2 menggunakan data pelatihan (`X_train` dan `y_train`) dan nilai regularisasi `r` yang sedang diproses. Hasilnya adalah `w0`, yang merupakan koefisien bias, dan `w`, yang merupakan koefisien untuk fitur.\n",
    "4. `X_val = prepare_X(df_val):`  \n",
    "   - Menyiapkan data fitur dari `df_val` dengan menggunakan fungsi yang sama untuk mempersiapkan data validasi. Data ini akan digunakan untuk mengukur kinerja model.\n",
    "5. `y_pred = w0 + X_val.dot(w):`  \n",
    "   - Menghitung prediksi (`y_pred`) dengan menjumlahkan bias (`w0`) dan hasil dari perkalian matriks antara `X_val` dan koefisien fitur (`w`). Ini memberikan nilai prediksi untuk data validasi.\n",
    "6. `score = rmse(y_val, y_pred):`  \n",
    "   - Menghitung Root Mean Square Error (RMSE) antara nilai sebenarnya (`y_val`) dan nilai prediksi (`y_pred`). RMSE adalah metrik yang digunakan untuk mengukur seberapa baik model regresi bekerja.\n",
    "7. `print(r, w0, score):`  \n",
    "   - Mencetak nilai `r`, koefisien bias `w0`, dan skor RMSE untuk setiap iterasi, memberikan wawasan tentang bagaimana perubahan nilai regularisasi mempengaruhi hasil model."
   ]
  },
  {
   "cell_type": "code",
   "execution_count": 91,
   "metadata": {},
   "outputs": [
    {
     "data": {
      "text/plain": [
       "0.46081585838957173"
      ]
     },
     "execution_count": 91,
     "metadata": {},
     "output_type": "execute_result"
    }
   ],
   "source": [
    "r = 0.001\n",
    "X_train = prepare_X(df_train)\n",
    "w0, w = train_linear_regression_reg(X_train, y_train, r=r)\n",
    "\n",
    "X_val = prepare_X(df_val)\n",
    "y_pred = w0 + X_val.dot(w)\n",
    "score = rmse(y_val, y_pred)\n",
    "score"
   ]
  },
  {
   "cell_type": "markdown",
   "id": "9ce407c1",
   "metadata": {},
   "source": [
    "1. `r = 0.001:`  \n",
    "   - Menetapkan nilai koefisien regularisasi `r` sebesar 0.001. Nilai ini akan digunakan dalam proses pelatihan model untuk menghindari overfitting dengan memberikan penalti pada nilai koefisien yang besar.\n",
    "2. `X_train = prepare_X(df_train):`  \n",
    "   - Memanggil fungsi `prepare_X` untuk mempersiapkan data fitur dari dataset pelatihan (`df_train`). Fungsi ini akan mengisi nilai yang hilang dan menambahkan fitur yang diperlukan, seperti usia kendaraan.\n",
    "3. `w0, w = train_linear_regression_reg(X_train, y_train, r=r):`  \n",
    "   - Melatih model regresi linier dengan menggunakan fungsi `train_linear_regression_reg`. Model ini dilatih pada data pelatihan (`X_train` dan `y_train`) dengan menerapkan regularisasi L2 menggunakan nilai `r` yang telah ditentukan. Hasil dari fungsi ini adalah `w0`, yang merupakan koefisien bias, dan `w`, yang merupakan koefisien untuk fitur lainnya.\n",
    "4. `X_val = prepare_X(df_val):`  \n",
    "   - Memanggil fungsi `prepare_X` untuk mempersiapkan data fitur dari dataset validasi (`df_val`). Proses ini sama dengan yang dilakukan untuk data pelatihan, sehingga data validasi juga siap untuk digunakan dalam evaluasi model.\n",
    "5. `y_pred = w0 + X_val.dot(w):`  \n",
    "   - Menghitung nilai prediksi (`y_pred`) dengan menjumlahkan koefisien bias (`w0`) dan hasil perkalian matriks antara `X_val` dan koefisien fitur (`w`). Ini menghasilkan nilai yang diprediksi untuk data validasi berdasarkan model yang telah dilatih.\n",
    "6. `score = rmse(y_val, y_pred):`  \n",
    "   - Menghitung Root Mean Square Error (RMSE) antara nilai sebenarnya (`y_val`) dan nilai yang diprediksi (`y_pred`). RMSE memberikan ukuran seberapa baik model dapat memprediksi nilai target pada data validasi.\n",
    "7. `score:`  \n",
    "   - Mengembalikan nilai `score`, yang merupakan RMSE untuk evaluasi model. Nilai ini dapat digunakan untuk menentukan seberapa baik kinerja model regresi linier yang telah dilatih dengan regularisasi.\n"
   ]
  },
  {
   "cell_type": "markdown",
   "metadata": {},
   "source": [
    "## 2.15 Using the model"
   ]
  },
  {
   "cell_type": "code",
   "execution_count": 92,
   "metadata": {},
   "outputs": [],
   "source": [
    "df_full_train = pd.concat([df_train, df_val])"
   ]
  },
  {
   "cell_type": "markdown",
   "id": "5d34c731",
   "metadata": {},
   "source": [
    "1. `df_full_train = pd.concat([df_train, df_val]):`  \n",
    "   - Menggunakan fungsi `pd.concat` dari library Pandas untuk menggabungkan dua DataFrame, yaitu `df_train` dan `df_val`. \n",
    "   - Hasil dari penggabungan ini adalah DataFrame baru yang disebut `df_full_train`, yang berisi semua baris dari `df_train` dan `df_val`. \n",
    "   - Penggabungan ini berguna ketika kita ingin melatih model menggunakan seluruh data yang tersedia, baik dari pelatihan maupun validasi, untuk mendapatkan informasi yang lebih banyak dan meningkatkan akurasi model."
   ]
  },
  {
   "cell_type": "code",
   "execution_count": 93,
   "metadata": {},
   "outputs": [],
   "source": [
    "df_full_train = df_full_train.reset_index(drop=True)"
   ]
  },
  {
   "cell_type": "markdown",
   "id": "63ec00a1",
   "metadata": {},
   "source": [
    "1. `df_full_train = df_full_train.reset_index(drop=True):`  \n",
    "   - Menggunakan metode `reset_index` dari Pandas untuk mengatur ulang indeks DataFrame `df_full_train`. \n",
    "   - Parameter `drop=True` digunakan untuk menghapus indeks lama, sehingga tidak akan ditambahkan sebagai kolom baru dalam DataFrame.\n",
    "   - Ini berguna untuk memastikan bahwa indeks DataFrame baru berurutan dari 0 hingga n-1, di mana n adalah jumlah baris dalam DataFrame, dan membantu menjaga konsistensi dalam pemrosesan data selanjutnya."
   ]
  },
  {
   "cell_type": "code",
   "execution_count": 94,
   "metadata": {},
   "outputs": [],
   "source": [
    "X_full_train = prepare_X(df_full_train)"
   ]
  },
  {
   "cell_type": "markdown",
   "id": "b12f0364",
   "metadata": {},
   "source": [
    "1. `X_full_train = prepare_X(df_full_train):`  \n",
    "   - Memanggil fungsi `prepare_X` dengan argumen `df_full_train`, yang merupakan DataFrame yang telah digabung dari `df_train` dan `df_val`.\n",
    "   - Fungsi `prepare_X` digunakan untuk menyiapkan data fitur (X) dengan melakukan beberapa langkah, seperti:\n",
    "     - Menghitung umur kendaraan berdasarkan tahun.\n",
    "     - Menangani nilai yang hilang dengan mengisi nilai nol.\n",
    "     - Mengonversi variabel kategori menjadi format numerik dengan membuat kolom dummy.\n",
    "   - Hasil dari pemanggilan fungsi ini adalah array NumPy yang berisi fitur yang telah dipersiapkan untuk model regresi."
   ]
  },
  {
   "cell_type": "code",
   "execution_count": 95,
   "metadata": {},
   "outputs": [
    {
     "data": {
      "text/plain": [
       "array([[148.,   4.,  33., ...,   1.,   0.,   0.],\n",
       "       [132.,   4.,  32., ...,   0.,   0.,   1.],\n",
       "       [148.,   4.,  37., ...,   0.,   0.,   1.],\n",
       "       ...,\n",
       "       [332.,   8.,  23., ...,   0.,   0.,   0.],\n",
       "       [148.,   4.,  34., ...,   0.,   0.,   0.],\n",
       "       [290.,   6.,  25., ...,   0.,   0.,   0.]])"
      ]
     },
     "execution_count": 95,
     "metadata": {},
     "output_type": "execute_result"
    }
   ],
   "source": [
    "X_full_train"
   ]
  },
  {
   "cell_type": "code",
   "execution_count": 96,
   "metadata": {},
   "outputs": [],
   "source": [
    "y_full_train = np.concatenate([y_train, y_val])"
   ]
  },
  {
   "cell_type": "markdown",
   "id": "b1223307",
   "metadata": {},
   "source": [
    "1. `y_full_train = np.concatenate([y_train, y_val]):`  \n",
    "   - Menggunakan fungsi `np.concatenate` untuk menggabungkan dua array NumPy, `y_train` dan `y_val`.\n",
    "   - `y_train` berisi target atau label dari data pelatihan, sedangkan `y_val` berisi target dari data validasi.\n",
    "   - Hasilnya adalah `y_full_train`, yang merupakan array satu dimensi yang mengandung semua label target dari data pelatihan dan validasi. Ini digunakan untuk melatih model pada seluruh dataset."
   ]
  },
  {
   "cell_type": "code",
   "execution_count": 97,
   "metadata": {},
   "outputs": [],
   "source": [
    "w0, w = train_linear_regression_reg(X_full_train, y_full_train, r=0.001)"
   ]
  },
  {
   "cell_type": "markdown",
   "id": "04758bbe",
   "metadata": {},
   "source": [
    "1. `w0, w = train_linear_regression_reg(X_full_train, y_full_train, r=0.001):`  \n",
    "   - Memanggil fungsi `train_linear_regression_reg` dengan argumen `X_full_train`, `y_full_train`, dan `r=0.001`.\n",
    "   - `X_full_train` adalah fitur dari data pelatihan lengkap yang telah dipersiapkan sebelumnya, mencakup data dari `df_train` dan `df_val`.\n",
    "   - `y_full_train` adalah label target yang merupakan gabungan dari `y_train` dan `y_val`.\n",
    "   - `r=0.001` adalah nilai regularisasi yang ditambahkan untuk mencegah overfitting pada model.\n",
    "   - Fungsi ini mengembalikan dua nilai: `w0`, yang merupakan intercept dari regresi linier, dan `w`, yang merupakan koefisien regresi untuk setiap fitur. Koefisien ini digunakan untuk membuat prediksi berdasarkan fitur yang diberikan."
   ]
  },
  {
   "cell_type": "code",
   "execution_count": 98,
   "metadata": {},
   "outputs": [
    {
     "data": {
      "text/plain": [
       "0.4600753970266562"
      ]
     },
     "execution_count": 98,
     "metadata": {},
     "output_type": "execute_result"
    }
   ],
   "source": [
    "X_test = prepare_X(df_test)\n",
    "y_pred = w0 + X_test.dot(w)\n",
    "score = rmse(y_test, y_pred)\n",
    "score"
   ]
  },
  {
   "cell_type": "markdown",
   "id": "dc023280",
   "metadata": {},
   "source": [
    "1. `X_test = prepare_X(df_test):`  \n",
    "   - Memanggil fungsi `prepare_X` dengan argumen `df_test`, yang merupakan dataset pengujian.\n",
    "   - Fungsi ini mempersiapkan fitur dari `df_test` dengan cara yang sama seperti pada data pelatihan, termasuk menangani nilai yang hilang dan menambahkan fitur baru seperti `age` dan encoding untuk variabel kategorikal.\n",
    "   - Hasilnya adalah array `X_test` yang berisi fitur-fitur yang akan digunakan untuk membuat prediksi.\n",
    "2. `y_pred = w0 + X_test.dot(w):`  \n",
    "   - Menghitung prediksi target `y_pred` menggunakan rumus regresi linier.\n",
    "   - `X_test.dot(w)` menghitung produk titik antara fitur pengujian dan koefisien regresi `w`.\n",
    "   - Kemudian, menambahkan intercept `w0` untuk mendapatkan nilai prediksi akhir.\n",
    "3. `score = rmse(y_test, y_pred):`  \n",
    "   - Menghitung root mean square error (RMSE) antara nilai aktual `y_test` dan prediksi `y_pred`.\n",
    "   - RMSE adalah ukuran seberapa jauh prediksi model dari nilai aktualnya, di mana nilai yang lebih rendah menunjukkan model yang lebih baik.\n",
    "4. `score:`  \n",
    "   - Mengembalikan nilai RMSE yang dihitung, yang memberikan indikasi seberapa baik model melakukan prediksi pada dataset pengujian."
   ]
  },
  {
   "cell_type": "code",
   "execution_count": 99,
   "metadata": {},
   "outputs": [
    {
     "data": {
      "text/plain": [
       "{'make': 'toyota',\n",
       " 'model': 'sienna',\n",
       " 'year': 2015,\n",
       " 'engine_fuel_type': 'regular_unleaded',\n",
       " 'engine_hp': 266.0,\n",
       " 'engine_cylinders': 6.0,\n",
       " 'transmission_type': 'automatic',\n",
       " 'driven_wheels': 'front_wheel_drive',\n",
       " 'number_of_doors': 4.0,\n",
       " 'market_category': nan,\n",
       " 'vehicle_size': 'large',\n",
       " 'vehicle_style': 'passenger_minivan',\n",
       " 'highway_mpg': 25,\n",
       " 'city_mpg': 18,\n",
       " 'popularity': 2031}"
      ]
     },
     "execution_count": 99,
     "metadata": {},
     "output_type": "execute_result"
    }
   ],
   "source": [
    "car = df_test.iloc[20].to_dict()\n",
    "car"
   ]
  },
  {
   "cell_type": "markdown",
   "id": "2c30ffe8",
   "metadata": {},
   "source": [
    "1. `car = df_test.iloc[20].to_dict():`  \n",
    "   - Menggunakan `iloc` untuk mengakses baris ke-20 dari DataFrame `df_test`. \n",
    "   - `iloc` memungkinkan akses baris berdasarkan indeks numerik.\n",
    "   - Setelah itu, metode `to_dict()` dipanggil untuk mengonversi baris tersebut menjadi dictionary.\n",
    "   - Hasilnya adalah objek `car` yang merupakan dictionary, di mana kunci adalah nama kolom dari DataFrame dan nilai adalah data dari baris tersebut.\n",
    "2. `car:`  \n",
    "   - Mengembalikan dictionary yang berisi informasi lengkap tentang mobil pada baris ke-20 dari dataset pengujian."
   ]
  },
  {
   "cell_type": "code",
   "execution_count": 100,
   "metadata": {},
   "outputs": [
    {
     "data": {
      "text/html": [
       "<div>\n",
       "<style scoped>\n",
       "    .dataframe tbody tr th:only-of-type {\n",
       "        vertical-align: middle;\n",
       "    }\n",
       "\n",
       "    .dataframe tbody tr th {\n",
       "        vertical-align: top;\n",
       "    }\n",
       "\n",
       "    .dataframe thead th {\n",
       "        text-align: right;\n",
       "    }\n",
       "</style>\n",
       "<table border=\"1\" class=\"dataframe\">\n",
       "  <thead>\n",
       "    <tr style=\"text-align: right;\">\n",
       "      <th></th>\n",
       "      <th>make</th>\n",
       "      <th>model</th>\n",
       "      <th>year</th>\n",
       "      <th>engine_fuel_type</th>\n",
       "      <th>engine_hp</th>\n",
       "      <th>engine_cylinders</th>\n",
       "      <th>transmission_type</th>\n",
       "      <th>driven_wheels</th>\n",
       "      <th>number_of_doors</th>\n",
       "      <th>market_category</th>\n",
       "      <th>vehicle_size</th>\n",
       "      <th>vehicle_style</th>\n",
       "      <th>highway_mpg</th>\n",
       "      <th>city_mpg</th>\n",
       "      <th>popularity</th>\n",
       "    </tr>\n",
       "  </thead>\n",
       "  <tbody>\n",
       "    <tr>\n",
       "      <th>0</th>\n",
       "      <td>toyota</td>\n",
       "      <td>sienna</td>\n",
       "      <td>2015</td>\n",
       "      <td>regular_unleaded</td>\n",
       "      <td>266.0</td>\n",
       "      <td>6.0</td>\n",
       "      <td>automatic</td>\n",
       "      <td>front_wheel_drive</td>\n",
       "      <td>4.0</td>\n",
       "      <td>NaN</td>\n",
       "      <td>large</td>\n",
       "      <td>passenger_minivan</td>\n",
       "      <td>25</td>\n",
       "      <td>18</td>\n",
       "      <td>2031</td>\n",
       "    </tr>\n",
       "  </tbody>\n",
       "</table>\n",
       "</div>"
      ],
      "text/plain": [
       "     make   model  year  engine_fuel_type  engine_hp  engine_cylinders  \\\n",
       "0  toyota  sienna  2015  regular_unleaded      266.0               6.0   \n",
       "\n",
       "  transmission_type      driven_wheels  number_of_doors  market_category  \\\n",
       "0         automatic  front_wheel_drive              4.0              NaN   \n",
       "\n",
       "  vehicle_size      vehicle_style  highway_mpg  city_mpg  popularity  \n",
       "0        large  passenger_minivan           25        18        2031  "
      ]
     },
     "execution_count": 100,
     "metadata": {},
     "output_type": "execute_result"
    }
   ],
   "source": [
    "df_small = pd.DataFrame([car])\n",
    "df_small"
   ]
  },
  {
   "cell_type": "markdown",
   "id": "3fa97175",
   "metadata": {},
   "source": [
    "1. `df_small = pd.DataFrame([car]):`  \n",
    "   - Membuat DataFrame baru bernama `df_small` dengan menggunakan konstruktor `pd.DataFrame()`.\n",
    "   - DataFrame ini diisi dengan satu elemen yang merupakan list yang berisi dictionary `car`.\n",
    "   - Dengan cara ini, dictionary `car` yang berisi informasi tentang mobil diubah menjadi format DataFrame, di mana setiap kunci dalam dictionary menjadi kolom dalam DataFrame.\n",
    "2. `df_small:`  \n",
    "   - Menghasilkan DataFrame `df_small` yang hanya memiliki satu baris, yang berisi data dari `car`. \n",
    "   - Setiap kolom di `df_small` sesuai dengan kolom yang ada di dictionary `car`."
   ]
  },
  {
   "cell_type": "code",
   "execution_count": 101,
   "metadata": {},
   "outputs": [],
   "source": [
    "X_small = prepare_X(df_small)"
   ]
  },
  {
   "cell_type": "markdown",
   "id": "5e6759d9",
   "metadata": {},
   "source": [
    "1. `X_small = prepare_X(df_small):`  \n",
    "   - Memanggil fungsi `prepare_X()` dengan parameter `df_small`, yang merupakan DataFrame berisi informasi tentang satu mobil.\n",
    "   - Fungsi `prepare_X()` digunakan untuk mempersiapkan data yang diperlukan untuk regresi linear dengan mengubah DataFrame menjadi array NumPy.\n",
    "   - Dalam fungsi ini, beberapa langkah dilakukan, seperti menghitung usia mobil, menangani fitur kategorikal, dan mengisi nilai yang hilang.\n",
    "   - Hasil dari fungsi ini adalah `X_small`, yang berisi fitur numerik dari mobil dalam format array NumPy yang dapat digunakan untuk prediksi."
   ]
  },
  {
   "cell_type": "code",
   "execution_count": 102,
   "metadata": {},
   "outputs": [
    {
     "data": {
      "text/plain": [
       "10.63249250912739"
      ]
     },
     "execution_count": 102,
     "metadata": {},
     "output_type": "execute_result"
    }
   ],
   "source": [
    "y_pred = w0 + X_small.dot(w)\n",
    "y_pred = y_pred[0]\n",
    "y_pred"
   ]
  },
  {
   "cell_type": "markdown",
   "id": "ea25aa8c",
   "metadata": {},
   "source": [
    "1. `y_pred = w0 + X_small.dot(w):`  \n",
    "   - Menghitung prediksi harga mobil menggunakan model regresi linear yang telah dilatih.\n",
    "   - Di sini, `X_small` adalah array yang berisi fitur dari mobil yang ingin diprediksi, dan `w` adalah bobot yang diperoleh dari model.\n",
    "   - Proses ini dilakukan dengan melakukan operasi dot product antara `X_small` dan `w`, kemudian menambahkan `w0`, yang merupakan intercept dari model.\n",
    "   - Hasil dari perhitungan ini adalah `y_pred`, yang merupakan prediksi harga mobil berdasarkan fitur yang diberikan.\n",
    "2. `y_pred = y_pred[0]:`  \n",
    "   - Mengambil nilai pertama dari `y_pred`, karena hasil dari operasi sebelumnya menghasilkan array, dan kita hanya membutuhkan nilai prediksi tunggal untuk mobil tersebut.\n",
    "   - `y_pred` sekarang berisi prediksi harga mobil dalam bentuk skalar."
   ]
  },
  {
   "cell_type": "code",
   "execution_count": 103,
   "metadata": {},
   "outputs": [
    {
     "data": {
      "text/plain": [
       "41459.336786653585"
      ]
     },
     "execution_count": 103,
     "metadata": {},
     "output_type": "execute_result"
    }
   ],
   "source": [
    "np.expm1(y_pred)"
   ]
  },
  {
   "cell_type": "markdown",
   "id": "8984887a",
   "metadata": {},
   "source": [
    "1. `np.expm1(y_pred):`  \n",
    "   - Fungsi ini digunakan untuk menghitung \\( e^{x} - 1 \\) dari nilai `y_pred`.\n",
    "   - Fungsi `np.expm1` lebih efisien daripada menggunakan `np.exp(y_pred) - 1`, terutama untuk nilai `y_pred` yang mendekati nol, karena menghindari masalah presisi numerik.\n",
    "   - Hasil dari fungsi ini adalah nilai yang telah dikalikan dengan konstanta \\( e \\) (basis dari logaritma natural) dikurangi 1.\n",
    "   - Ini sering digunakan dalam konteks regresi yang menggunakan transformasi logaritmik, di mana hasil prediksi perlu dikembalikan ke skala aslinya."
   ]
  },
  {
   "cell_type": "code",
   "execution_count": 104,
   "metadata": {},
   "outputs": [
    {
     "data": {
      "text/plain": [
       "35000.00000000001"
      ]
     },
     "execution_count": 104,
     "metadata": {},
     "output_type": "execute_result"
    }
   ],
   "source": [
    "np.expm1(y_test[20])"
   ]
  },
  {
   "cell_type": "markdown",
   "id": "d13067a7",
   "metadata": {},
   "source": [
    "1. `np.expm1(y_test[20]):`  \n",
    "   - Fungsi ini menghitung \\( e^{y_{\\text{test}}[20]} - 1 \\).\n",
    "   - `y_test[20]` mengacu pada nilai ke-21 dalam array atau daftar `y_test`.\n",
    "   - Sama seperti sebelumnya, fungsi `np.expm1` digunakan untuk menghindari masalah presisi numerik ketika \\( y_{\\text{test}}[20] \\) dekat dengan nol.\n",
    "   - Hasilnya adalah nilai asli setelah transformasi logaritmik dikembalikan ke skala aslinya, sangat berguna dalam analisis regresi untuk interpretasi hasil."
   ]
  },
  {
   "cell_type": "markdown",
   "metadata": {},
   "source": [
    "## 2.16 Next steps"
   ]
  },
  {
   "cell_type": "markdown",
   "metadata": {},
   "source": [
    "* We included only 5 top features. What happens if we include 10?\n",
    "\n",
    "Other projects\n",
    "\n",
    "* Predict the price of a house - e.g. boston dataset\n",
    "* https://archive.ics.uci.edu/ml/datasets.php?task=reg\n",
    "* https://archive.ics.uci.edu/ml/datasets/Student+Performance"
   ]
  },
  {
   "cell_type": "markdown",
   "metadata": {},
   "source": [
    "## 2.17 Summary\n",
    "\n",
    "* EDA - looking at data, finding missing values\n",
    "* Target variable distribution - long tail => bell shaped curve\n",
    "* Validation framework: train/val/test split (helped us detect problems)\n",
    "* Normal equation - not magic, but math\n",
    "* Implemented it with numpy\n",
    "* RMSE to validate our model\n",
    "* Feature engineering: age, categorical features\n",
    "* Regularization to fight numerical instability"
   ]
  },
  {
   "cell_type": "markdown",
   "id": "76bdd681",
   "metadata": {},
   "source": [
    "1. Import library yang diperlukan (NumPy, Pandas, Seaborn).\n",
    "2. Muat dataset ke dalam DataFrame.\n",
    "3. Identifikasi fitur numerik dan kategorikal.\n",
    "4. Pra-pemrosesan data:\n",
    "   - Mengisi nilai yang hilang.\n",
    "   - Menambahkan fitur baru (age).\n",
    "   - Membuat variabel dummy untuk kolom kategorikal.\n",
    "5. Persiapkan matriks fitur (X) dan target (y) untuk data pelatihan dan validasi.\n",
    "6. Melatih model regresi linear:\n",
    "   - Hitung bobot dengan `train_linear_regression` atau `train_linear_regression_reg` (dengan regularisasi).\n",
    "7. Evaluasi model:\n",
    "   - Hitung prediksi pada data validasi dan uji.\n",
    "   - Hitung RMSE untuk menilai kinerja model.\n",
    "8. Gabungkan data pelatihan dan validasi untuk pelatihan akhir.\n",
    "9. Buat prediksi untuk data uji.\n",
    "10. Lakukan prediksi individual untuk entri tertentu dan kembalikan ke skala asli.\n"
   ]
  },
  {
   "cell_type": "markdown",
   "id": "6b8839e0",
   "metadata": {},
   "source": [
    "## Ringkasan Proses Regresi Linear\n",
    "\n",
    "### Persiapan Data:\n",
    "- Mengimpor pustaka yang diperlukan, termasuk NumPy dan Pandas.\n",
    "- Memuat dataset yang berisi informasi tentang mobil atau fitur yang relevan.\n",
    "- Mengidentifikasi kolom fitur yang akan digunakan dalam model regresi.\n",
    "\n",
    "### Pra-Pemrosesan:\n",
    "- Mengisi nilai yang hilang dalam dataset dengan nol.\n",
    "- Menghitung fitur baru, seperti usia kendaraan berdasarkan tahun pembuatan.\n",
    "- Membuat variabel dummy untuk fitur kategorikal.\n",
    "\n",
    "### Membangun Model Regresi Linear:\n",
    "- Membangun fungsi `train_linear_regression` untuk menghitung bobot model (koefisien) menggunakan metode Least Squares.\n",
    "- Mengimplementasikan regularisasi dengan fungsi `train_linear_regression_reg` untuk menangani multikolinearitas dengan menambahkan parameter regularisasi (r).\n",
    "\n",
    "### Pelatihan Model:\n",
    "- Mempersiapkan matriks fitur (X) dan target (y) dari data pelatihan dan validasi.\n",
    "- Melatih model dengan data pelatihan dan validasi.\n",
    "- Menghitung prediksi menggunakan model yang dilatih dan menghitung kesalahan menggunakan fungsi RMSE (Root Mean Square Error).\n",
    "\n",
    "### Evaluasi Model:\n",
    "- Menggunakan data pelatihan penuh (gabungan data pelatihan dan validasi) untuk melatih model akhir.\n",
    "- Menghitung prediksi pada dataset uji dan menghitung skor RMSE untuk mengevaluasi kinerja model.\n",
    "\n",
    "### Prediksi Individual:\n",
    "- Mengambil satu entri dari data uji untuk melakukan prediksi individual.\n",
    "- Menghitung nilai prediksi dan mengembalikannya ke skala aslinya dengan menggunakan fungsi `np.expm1`.\n"
   ]
  },
  {
   "cell_type": "markdown",
   "id": "42582b51",
   "metadata": {},
   "source": [
    "### Workflow\n",
    "1. Import library yang diperlukan (NumPy, Pandas, Seaborn).\n",
    "2. Muat dataset ke dalam DataFrame.\n",
    "3. Identifikasi fitur numerik dan kategorikal.\n",
    "4. Pra-pemrosesan data:\n",
    "   - Mengisi nilai yang hilang.\n",
    "   - Menambahkan fitur baru (age).\n",
    "   - Membuat variabel dummy untuk kolom kategorikal.\n",
    "5. Persiapkan matriks fitur (X) dan target (y) untuk data pelatihan dan validasi.\n",
    "6. Melatih model regresi linear:\n",
    "   - Hitung bobot dengan `train_linear_regression` atau `train_linear_regression_reg` (dengan regularisasi).\n",
    "7. Evaluasi model:\n",
    "   - Hitung prediksi pada data validasi dan uji.\n",
    "   - Hitung RMSE untuk menilai kinerja model.\n",
    "8. Gabungkan data pelatihan dan validasi untuk pelatihan akhir.\n",
    "9. Buat prediksi untuk data uji.\n",
    "10. Lakukan prediksi individual untuk entri tertentu dan kembalikan ke skala asli.\n"
   ]
  },
  {
   "cell_type": "markdown",
   "id": "034ac776",
   "metadata": {},
   "source": []
  }
 ],
 "metadata": {
  "kernelspec": {
   "display_name": "Python 3",
   "language": "python",
   "name": "python3"
  },
  "language_info": {
   "codemirror_mode": {
    "name": "ipython",
    "version": 3
   },
   "file_extension": ".py",
   "mimetype": "text/x-python",
   "name": "python",
   "nbconvert_exporter": "python",
   "pygments_lexer": "ipython3",
   "version": "3.10.12"
  }
 },
 "nbformat": 4,
 "nbformat_minor": 5
}
