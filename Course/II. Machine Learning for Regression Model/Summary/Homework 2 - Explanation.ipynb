{
 "cells": [
  {
   "cell_type": "markdown",
   "metadata": {},
   "source": [
    "## 2. Machine Learning for Regression Homeworks 2\n",
    "---"
   ]
  },
  {
   "cell_type": "code",
   "execution_count": 113,
   "metadata": {},
   "outputs": [],
   "source": [
    "import pandas as pd\n",
    "import numpy as np\n",
    "import matplotlib.pyplot as plt\n",
    "import seaborn as sns\n",
    "%matplotlib inline"
   ]
  },
  {
   "cell_type": "markdown",
   "metadata": {},
   "source": [
    "1. `import pandas as pd`  \n",
    "   Ini adalah perintah untuk mengimpor library pandas dan menamainya pd. pandas adalah library Python yang digunakan untuk manipulasi dan analisis data, terutama dengan tabel seperti DataFrame.\n",
    "2. `import numpy as np`  \n",
    "   Perintah ini mengimpor library numpy dan menamainya np. numpy digunakan untuk operasi pada array dan fungsi matematika yang efisien dalam Python.\n",
    "3. `import matplotlib.pyplot as plt`  \n",
    "   Library matplotlib.pyplot digunakan untuk membuat visualisasi data, seperti grafik. Dengan mengimpor ini sebagai plt, kita bisa membuat berbagai jenis grafik.\n",
    "4. `import seaborn as sns` \n",
    "   seaborn adalah library yang dibangun di atas matplotlib yang menyediakan interface untuk membuat visualisasi statistik yang lebih menarik dan informatif. \n",
    "5. `%matplotlib inline` \n",
    "   Ini adalah \"magic command\" yang digunakan di Jupyter Notebook agar semua grafik yang dibuat dengan matplotlib muncul langsung di dalam notebook, tanpa perlu perintah tambahan.\n"
   ]
  },
  {
   "cell_type": "markdown",
   "metadata": {},
   "source": [
    "### 2.1 Data Preparation\n",
    "---"
   ]
  },
  {
   "cell_type": "code",
   "execution_count": 114,
   "metadata": {},
   "outputs": [
    {
     "data": {
      "text/html": [
       "<div>\n",
       "<style scoped>\n",
       "    .dataframe tbody tr th:only-of-type {\n",
       "        vertical-align: middle;\n",
       "    }\n",
       "\n",
       "    .dataframe tbody tr th {\n",
       "        vertical-align: top;\n",
       "    }\n",
       "\n",
       "    .dataframe thead th {\n",
       "        text-align: right;\n",
       "    }\n",
       "</style>\n",
       "<table border=\"1\" class=\"dataframe\">\n",
       "  <thead>\n",
       "    <tr style=\"text-align: right;\">\n",
       "      <th></th>\n",
       "      <th>Laptop</th>\n",
       "      <th>Status</th>\n",
       "      <th>Brand</th>\n",
       "      <th>Model</th>\n",
       "      <th>CPU</th>\n",
       "      <th>RAM</th>\n",
       "      <th>Storage</th>\n",
       "      <th>Storage type</th>\n",
       "      <th>GPU</th>\n",
       "      <th>Screen</th>\n",
       "      <th>Touch</th>\n",
       "      <th>Final Price</th>\n",
       "    </tr>\n",
       "  </thead>\n",
       "  <tbody>\n",
       "    <tr>\n",
       "      <th>0</th>\n",
       "      <td>ASUS ExpertBook B1 B1502CBA-EJ0436X Intel Core...</td>\n",
       "      <td>New</td>\n",
       "      <td>Asus</td>\n",
       "      <td>ExpertBook</td>\n",
       "      <td>Intel Core i5</td>\n",
       "      <td>8</td>\n",
       "      <td>512</td>\n",
       "      <td>SSD</td>\n",
       "      <td>NaN</td>\n",
       "      <td>15.6</td>\n",
       "      <td>No</td>\n",
       "      <td>1009.00</td>\n",
       "    </tr>\n",
       "    <tr>\n",
       "      <th>1</th>\n",
       "      <td>Alurin Go Start Intel Celeron N4020/8GB/256GB ...</td>\n",
       "      <td>New</td>\n",
       "      <td>Alurin</td>\n",
       "      <td>Go</td>\n",
       "      <td>Intel Celeron</td>\n",
       "      <td>8</td>\n",
       "      <td>256</td>\n",
       "      <td>SSD</td>\n",
       "      <td>NaN</td>\n",
       "      <td>15.6</td>\n",
       "      <td>No</td>\n",
       "      <td>299.00</td>\n",
       "    </tr>\n",
       "    <tr>\n",
       "      <th>2</th>\n",
       "      <td>ASUS ExpertBook B1 B1502CBA-EJ0424X Intel Core...</td>\n",
       "      <td>New</td>\n",
       "      <td>Asus</td>\n",
       "      <td>ExpertBook</td>\n",
       "      <td>Intel Core i3</td>\n",
       "      <td>8</td>\n",
       "      <td>256</td>\n",
       "      <td>SSD</td>\n",
       "      <td>NaN</td>\n",
       "      <td>15.6</td>\n",
       "      <td>No</td>\n",
       "      <td>789.00</td>\n",
       "    </tr>\n",
       "    <tr>\n",
       "      <th>3</th>\n",
       "      <td>MSI Katana GF66 12UC-082XES Intel Core i7-1270...</td>\n",
       "      <td>New</td>\n",
       "      <td>MSI</td>\n",
       "      <td>Katana</td>\n",
       "      <td>Intel Core i7</td>\n",
       "      <td>16</td>\n",
       "      <td>1000</td>\n",
       "      <td>SSD</td>\n",
       "      <td>RTX 3050</td>\n",
       "      <td>15.6</td>\n",
       "      <td>No</td>\n",
       "      <td>1199.00</td>\n",
       "    </tr>\n",
       "    <tr>\n",
       "      <th>4</th>\n",
       "      <td>HP 15S-FQ5085NS Intel Core i5-1235U/16GB/512GB...</td>\n",
       "      <td>New</td>\n",
       "      <td>HP</td>\n",
       "      <td>15S</td>\n",
       "      <td>Intel Core i5</td>\n",
       "      <td>16</td>\n",
       "      <td>512</td>\n",
       "      <td>SSD</td>\n",
       "      <td>NaN</td>\n",
       "      <td>15.6</td>\n",
       "      <td>No</td>\n",
       "      <td>669.01</td>\n",
       "    </tr>\n",
       "    <tr>\n",
       "      <th>...</th>\n",
       "      <td>...</td>\n",
       "      <td>...</td>\n",
       "      <td>...</td>\n",
       "      <td>...</td>\n",
       "      <td>...</td>\n",
       "      <td>...</td>\n",
       "      <td>...</td>\n",
       "      <td>...</td>\n",
       "      <td>...</td>\n",
       "      <td>...</td>\n",
       "      <td>...</td>\n",
       "      <td>...</td>\n",
       "    </tr>\n",
       "    <tr>\n",
       "      <th>2155</th>\n",
       "      <td>Razer Blade 17 FHD 360Hz Intel Core i7-11800H/...</td>\n",
       "      <td>Refurbished</td>\n",
       "      <td>Razer</td>\n",
       "      <td>Blade</td>\n",
       "      <td>Intel Core i7</td>\n",
       "      <td>16</td>\n",
       "      <td>1000</td>\n",
       "      <td>SSD</td>\n",
       "      <td>RTX 3060</td>\n",
       "      <td>17.3</td>\n",
       "      <td>No</td>\n",
       "      <td>2699.99</td>\n",
       "    </tr>\n",
       "    <tr>\n",
       "      <th>2156</th>\n",
       "      <td>Razer Blade 17 FHD 360Hz Intel Core i7-11800H/...</td>\n",
       "      <td>Refurbished</td>\n",
       "      <td>Razer</td>\n",
       "      <td>Blade</td>\n",
       "      <td>Intel Core i7</td>\n",
       "      <td>16</td>\n",
       "      <td>1000</td>\n",
       "      <td>SSD</td>\n",
       "      <td>RTX 3070</td>\n",
       "      <td>17.3</td>\n",
       "      <td>No</td>\n",
       "      <td>2899.99</td>\n",
       "    </tr>\n",
       "    <tr>\n",
       "      <th>2157</th>\n",
       "      <td>Razer Blade 17 FHD 360Hz Intel Core i7-11800H/...</td>\n",
       "      <td>Refurbished</td>\n",
       "      <td>Razer</td>\n",
       "      <td>Blade</td>\n",
       "      <td>Intel Core i7</td>\n",
       "      <td>32</td>\n",
       "      <td>1000</td>\n",
       "      <td>SSD</td>\n",
       "      <td>RTX 3080</td>\n",
       "      <td>17.3</td>\n",
       "      <td>No</td>\n",
       "      <td>3399.99</td>\n",
       "    </tr>\n",
       "    <tr>\n",
       "      <th>2158</th>\n",
       "      <td>Razer Book 13 Intel Evo Core i7-1165G7/16GB/1T...</td>\n",
       "      <td>Refurbished</td>\n",
       "      <td>Razer</td>\n",
       "      <td>Book</td>\n",
       "      <td>Intel Evo Core i7</td>\n",
       "      <td>16</td>\n",
       "      <td>1000</td>\n",
       "      <td>SSD</td>\n",
       "      <td>NaN</td>\n",
       "      <td>13.4</td>\n",
       "      <td>Yes</td>\n",
       "      <td>1899.99</td>\n",
       "    </tr>\n",
       "    <tr>\n",
       "      <th>2159</th>\n",
       "      <td>Razer Book FHD+ Intel Evo Core i7-1165G7/16GB/...</td>\n",
       "      <td>Refurbished</td>\n",
       "      <td>Razer</td>\n",
       "      <td>Book</td>\n",
       "      <td>Intel Evo Core i7</td>\n",
       "      <td>16</td>\n",
       "      <td>256</td>\n",
       "      <td>SSD</td>\n",
       "      <td>NaN</td>\n",
       "      <td>13.4</td>\n",
       "      <td>Yes</td>\n",
       "      <td>1699.99</td>\n",
       "    </tr>\n",
       "  </tbody>\n",
       "</table>\n",
       "<p>2160 rows × 12 columns</p>\n",
       "</div>"
      ],
      "text/plain": [
       "                                                 Laptop       Status   Brand  \\\n",
       "0     ASUS ExpertBook B1 B1502CBA-EJ0436X Intel Core...          New    Asus   \n",
       "1     Alurin Go Start Intel Celeron N4020/8GB/256GB ...          New  Alurin   \n",
       "2     ASUS ExpertBook B1 B1502CBA-EJ0424X Intel Core...          New    Asus   \n",
       "3     MSI Katana GF66 12UC-082XES Intel Core i7-1270...          New     MSI   \n",
       "4     HP 15S-FQ5085NS Intel Core i5-1235U/16GB/512GB...          New      HP   \n",
       "...                                                 ...          ...     ...   \n",
       "2155  Razer Blade 17 FHD 360Hz Intel Core i7-11800H/...  Refurbished   Razer   \n",
       "2156  Razer Blade 17 FHD 360Hz Intel Core i7-11800H/...  Refurbished   Razer   \n",
       "2157  Razer Blade 17 FHD 360Hz Intel Core i7-11800H/...  Refurbished   Razer   \n",
       "2158  Razer Book 13 Intel Evo Core i7-1165G7/16GB/1T...  Refurbished   Razer   \n",
       "2159  Razer Book FHD+ Intel Evo Core i7-1165G7/16GB/...  Refurbished   Razer   \n",
       "\n",
       "           Model                CPU  RAM  Storage Storage type       GPU  \\\n",
       "0     ExpertBook      Intel Core i5    8      512          SSD       NaN   \n",
       "1             Go      Intel Celeron    8      256          SSD       NaN   \n",
       "2     ExpertBook      Intel Core i3    8      256          SSD       NaN   \n",
       "3         Katana      Intel Core i7   16     1000          SSD  RTX 3050   \n",
       "4            15S      Intel Core i5   16      512          SSD       NaN   \n",
       "...          ...                ...  ...      ...          ...       ...   \n",
       "2155       Blade      Intel Core i7   16     1000          SSD  RTX 3060   \n",
       "2156       Blade      Intel Core i7   16     1000          SSD  RTX 3070   \n",
       "2157       Blade      Intel Core i7   32     1000          SSD  RTX 3080   \n",
       "2158        Book  Intel Evo Core i7   16     1000          SSD       NaN   \n",
       "2159        Book  Intel Evo Core i7   16      256          SSD       NaN   \n",
       "\n",
       "      Screen Touch  Final Price  \n",
       "0       15.6    No      1009.00  \n",
       "1       15.6    No       299.00  \n",
       "2       15.6    No       789.00  \n",
       "3       15.6    No      1199.00  \n",
       "4       15.6    No       669.01  \n",
       "...      ...   ...          ...  \n",
       "2155    17.3    No      2699.99  \n",
       "2156    17.3    No      2899.99  \n",
       "2157    17.3    No      3399.99  \n",
       "2158    13.4   Yes      1899.99  \n",
       "2159    13.4   Yes      1699.99  \n",
       "\n",
       "[2160 rows x 12 columns]"
      ]
     },
     "execution_count": 114,
     "metadata": {},
     "output_type": "execute_result"
    }
   ],
   "source": [
    "df = pd.read_csv('C:\\Dimas\\Docs\\Me\\Coding\\Self Learn Bootcamp\\Language\\Github Data\\Repo\\DTC-ML-Zoomcamp\\Course\\II. Machine Learning for Regression Model\\Dataset/laptops.csv')\n",
    "df"
   ]
  },
  {
   "cell_type": "code",
   "execution_count": 115,
   "metadata": {},
   "outputs": [],
   "source": [
    "df.columns = df.columns.str.lower().str.replace(' ', '_')"
   ]
  },
  {
   "cell_type": "markdown",
   "metadata": {},
   "source": [
    "1. `df.columns`  \n",
    "   Mengacu pada kolom dalam DataFrame df.\n",
    "2. `str.lower()`  \n",
    "   Mengubah semua nama kolom menjadi huruf kecil.\n",
    "3. `str.replace(' ', '_')`  \n",
    "   Mengganti semua spasi pada nama kolom dengan underscore (_).\n",
    "Kode ini digunakan untuk membersihkan nama kolom dalam sebuah DataFrame. Dengan mengubah nama kolom menjadi huruf kecil dan mengganti spasi dengan underscore, nama kolom menjadi lebih seragam dan mudah diakses dalam pemrograman."
   ]
  },
  {
   "cell_type": "code",
   "execution_count": 158,
   "metadata": {},
   "outputs": [],
   "source": [
    "\n",
    "columns = ['ram', 'storage', 'screen'] "
   ]
  },
  {
   "cell_type": "markdown",
   "metadata": {},
   "source": [
    "1. `columns = ['ram', 'storage', 'screen']`  \n",
    "   Baris ini membuat sebuah daftar (list) yang berisi tiga elemen: 'ram', 'storage', dan 'screen'. Variabel **columns** menyimpan daftar ini, yang kemungkinan akan digunakan sebagai nama kolom dalam sebuah DataFrame atau struktur data lainnya.\n",
    "\n",
    "Daftar ini bisa digunakan untuk merepresentasikan atribut-atribut suatu objek, misalnya spesifikasi perangkat seperti RAM, penyimpanan, dan ukuran layar."
   ]
  },
  {
   "cell_type": "code",
   "execution_count": 159,
   "metadata": {},
   "outputs": [
    {
     "data": {
      "text/html": [
       "<div>\n",
       "<style scoped>\n",
       "    .dataframe tbody tr th:only-of-type {\n",
       "        vertical-align: middle;\n",
       "    }\n",
       "\n",
       "    .dataframe tbody tr th {\n",
       "        vertical-align: top;\n",
       "    }\n",
       "\n",
       "    .dataframe thead th {\n",
       "        text-align: right;\n",
       "    }\n",
       "</style>\n",
       "<table border=\"1\" class=\"dataframe\">\n",
       "  <thead>\n",
       "    <tr style=\"text-align: right;\">\n",
       "      <th></th>\n",
       "      <th>ram</th>\n",
       "      <th>storage</th>\n",
       "      <th>screen</th>\n",
       "    </tr>\n",
       "  </thead>\n",
       "  <tbody>\n",
       "    <tr>\n",
       "      <th>0</th>\n",
       "      <td>8</td>\n",
       "      <td>512</td>\n",
       "      <td>15.6</td>\n",
       "    </tr>\n",
       "    <tr>\n",
       "      <th>1</th>\n",
       "      <td>8</td>\n",
       "      <td>256</td>\n",
       "      <td>15.6</td>\n",
       "    </tr>\n",
       "    <tr>\n",
       "      <th>2</th>\n",
       "      <td>8</td>\n",
       "      <td>256</td>\n",
       "      <td>15.6</td>\n",
       "    </tr>\n",
       "    <tr>\n",
       "      <th>3</th>\n",
       "      <td>16</td>\n",
       "      <td>1000</td>\n",
       "      <td>15.6</td>\n",
       "    </tr>\n",
       "    <tr>\n",
       "      <th>4</th>\n",
       "      <td>16</td>\n",
       "      <td>512</td>\n",
       "      <td>15.6</td>\n",
       "    </tr>\n",
       "  </tbody>\n",
       "</table>\n",
       "</div>"
      ],
      "text/plain": [
       "   ram  storage  screen\n",
       "0    8      512    15.6\n",
       "1    8      256    15.6\n",
       "2    8      256    15.6\n",
       "3   16     1000    15.6\n",
       "4   16      512    15.6"
      ]
     },
     "execution_count": 159,
     "metadata": {},
     "output_type": "execute_result"
    }
   ],
   "source": [
    "df[columns].head()"
   ]
  },
  {
   "cell_type": "markdown",
   "metadata": {},
   "source": [
    "1. `df[columns]` \n",
    "   Mengakses subset dari DataFrame **df** dengan kolom-kolom yang ditentukan dalam daftar **columns**. Hanya kolom 'ram', 'storage', dan 'screen' yang akan diambil dari DataFrame.\n",
    "\n",
    "2. `head()`  \n",
    "   Fungsi **head()** digunakan untuk menampilkan beberapa baris teratas dari DataFrame yang dihasilkan. Secara default, ini akan menampilkan 5 baris pertama.\n",
    "\n",
    "\n",
    "Kode ini digunakan untuk melihat bagian awal dari DataFrame **df** yang hanya berisi kolom-kolom yang relevan (dalam hal ini, 'ram', 'storage', dan 'screen'). Ini berguna untuk memeriksa data dan memastikan kolom yang diinginkan ada dan sesuai dengan yang diharapkan."
   ]
  },
  {
   "cell_type": "code",
   "execution_count": 160,
   "metadata": {},
   "outputs": [
    {
     "name": "stdout",
     "output_type": "stream",
     "text": [
      "<class 'pandas.core.frame.DataFrame'>\n",
      "RangeIndex: 2160 entries, 0 to 2159\n",
      "Data columns (total 12 columns):\n",
      " #   Column        Non-Null Count  Dtype  \n",
      "---  ------        --------------  -----  \n",
      " 0   laptop        2160 non-null   object \n",
      " 1   status        2160 non-null   object \n",
      " 2   brand         2160 non-null   object \n",
      " 3   model         2160 non-null   object \n",
      " 4   cpu           2160 non-null   object \n",
      " 5   ram           2160 non-null   int64  \n",
      " 6   storage       2160 non-null   int64  \n",
      " 7   storage_type  2118 non-null   object \n",
      " 8   gpu           789 non-null    object \n",
      " 9   screen        2156 non-null   float64\n",
      " 10  touch         2160 non-null   object \n",
      " 11  final_price   2160 non-null   float64\n",
      "dtypes: float64(2), int64(2), object(8)\n",
      "memory usage: 202.6+ KB\n"
     ]
    }
   ],
   "source": [
    "df.info()"
   ]
  },
  {
   "cell_type": "markdown",
   "metadata": {},
   "source": [
    "## 2.2 EDA\n",
    "---"
   ]
  },
  {
   "cell_type": "code",
   "execution_count": 161,
   "metadata": {},
   "outputs": [
    {
     "name": "stdout",
     "output_type": "stream",
     "text": [
      "laptop\n",
      "['ASUS ExpertBook B1 B1502CBA-EJ0436X Intel Core i5-1235U/8GB/512GB SSD/15.6\"'\n",
      " 'Alurin Go Start Intel Celeron N4020/8GB/256GB SSD/15.6\"'\n",
      " 'ASUS ExpertBook B1 B1502CBA-EJ0424X Intel Core i3-1215U/8GB/256GB SSD/15.6\"'\n",
      " 'MSI Katana GF66 12UC-082XES Intel Core i7-12700H/16GB/1TB SSD/RTX3050/15.6\"'\n",
      " 'HP 15S-FQ5085NS Intel Core i5-1235U/16GB/512GB SSD/15.6\"']\n",
      "2160\n",
      "\n",
      "status\n",
      "['New' 'Refurbished']\n",
      "2\n",
      "\n",
      "brand\n",
      "['Asus' 'Alurin' 'MSI' 'HP' 'Lenovo']\n",
      "27\n",
      "\n",
      "model\n",
      "['ExpertBook' 'Go' 'Katana' '15S' 'Crosshair']\n",
      "121\n",
      "\n",
      "cpu\n",
      "['Intel Core i5' 'Intel Celeron' 'Intel Core i3' 'Intel Core i7'\n",
      " 'AMD Ryzen 5']\n",
      "28\n",
      "\n",
      "ram\n",
      "[ 8 16 32 12  4]\n",
      "9\n",
      "\n",
      "storage\n",
      "[ 512  256 1000   64  128]\n",
      "12\n",
      "\n",
      "storage_type\n",
      "['SSD' 'eMMC' nan]\n",
      "2\n",
      "\n",
      "gpu\n",
      "[nan 'RTX 3050' 'RTX 4060' 'RTX 4050' 'RTX 3060']\n",
      "44\n",
      "\n",
      "screen\n",
      "[15.6 17.3 14.  16.1 13.3]\n",
      "29\n",
      "\n",
      "touch\n",
      "['No' 'Yes']\n",
      "2\n",
      "\n",
      "final_price\n",
      "[1009.    299.    789.   1199.    669.01]\n",
      "1440\n",
      "\n"
     ]
    }
   ],
   "source": [
    "for col in df.columns:\n",
    "    print(col)\n",
    "    print(df[col].unique()[:5])\n",
    "    print(df[col].nunique())\n",
    "    print()"
   ]
  },
  {
   "cell_type": "markdown",
   "metadata": {},
   "source": [
    "1. `for col in df.columns:`  \n",
    "   Memulai sebuah loop yang akan iterasi melalui setiap kolom dalam DataFrame `df`. Variabel `col` akan berisi nama kolom saat ini dalam setiap iterasi.\n",
    "2. `print(col)`  \n",
    "   Mencetak nama kolom yang sedang diproses.\n",
    "3. `print(df[col].unique()[:5])`  \n",
    "   Mencetak 5 nilai unik pertama dari kolom yang sedang diproses. Fungsi `unique()` mengembalikan array nilai unik yang terdapat dalam kolom tersebut.\n",
    "4. `print(df[col].nunique())`  \n",
    "   Mencetak jumlah total nilai unik dalam kolom yang sedang diproses. Fungsi `nunique()` mengembalikan jumlah nilai unik yang ada dalam kolom tersebut.\n",
    "5. `print()`  \n",
    "   Mencetak baris kosong untuk memisahkan output dari iterasi yang berbeda agar lebih mudah dibaca.\n",
    "\n",
    "Kode ini digunakan untuk menjelajahi setiap kolom dalam DataFrame `df`. Ini memberikan informasi tentang nama kolom, nilai unik pertama yang ada di kolom tersebut, dan jumlah nilai unik di setiap kolom. Hal ini berguna untuk memahami struktur dan konten data dalam DataFrame.\n"
   ]
  },
  {
   "cell_type": "code",
   "execution_count": 162,
   "metadata": {},
   "outputs": [
    {
     "data": {
      "text/plain": [
       "laptop             0\n",
       "status             0\n",
       "brand              0\n",
       "model              0\n",
       "cpu                0\n",
       "ram                0\n",
       "storage            0\n",
       "storage_type      42\n",
       "gpu             1371\n",
       "screen             4\n",
       "touch              0\n",
       "final_price        0\n",
       "dtype: int64"
      ]
     },
     "execution_count": 162,
     "metadata": {},
     "output_type": "execute_result"
    }
   ],
   "source": [
    "df.isna().sum()"
   ]
  },
  {
   "cell_type": "markdown",
   "metadata": {},
   "source": [
    "1. `df.isna()`  \n",
    "   Fungsi ini mengembalikan DataFrame baru yang berisi nilai boolean. Setiap elemen dalam DataFrame menunjukkan apakah nilai di dalamnya adalah `NaN` (Not a Number) atau tidak. Nilai `True` menunjukkan bahwa elemen tersebut adalah `NaN`, sedangkan `False` menunjukkan bahwa elemen tersebut memiliki nilai yang valid.\n",
    "2. `sum()`  \n",
    "   Setelah menggunakan `isna()`, fungsi `sum()` digunakan untuk menjumlahkan nilai `True` di setiap kolom. Karena `True` dianggap sebagai 1 dan `False` sebagai 0, ini akan memberikan jumlah total nilai `NaN` dalam setiap kolom.\n",
    "\n",
    "Kode ini digunakan untuk menghitung dan menampilkan jumlah nilai `NaN` dalam setiap kolom dari DataFrame `df`. Ini berguna untuk mengevaluasi kualitas data dan mengetahui seberapa banyak data yang hilang dalam setiap kolom, yang bisa mempengaruhi analisis selanjutnya."
   ]
  },
  {
   "cell_type": "markdown",
   "metadata": {},
   "source": [
    "> ### Question 1\n",
    "There's one column with missing values. What is it?\n",
    "\n",
    "* `'ram'`\n",
    "* `'storage'`\n",
    "* `'screen'`\n",
    "* `'final_price'`\n",
    "\n",
    "Answer : `'screen'`"
   ]
  },
  {
   "cell_type": "code",
   "execution_count": 163,
   "metadata": {},
   "outputs": [
    {
     "data": {
      "text/plain": [
       "16.0"
      ]
     },
     "execution_count": 163,
     "metadata": {},
     "output_type": "execute_result"
    }
   ],
   "source": [
    "df['ram'].median()"
   ]
  },
  {
   "cell_type": "markdown",
   "metadata": {},
   "source": [
    "1. `df['ram']`  \n",
    "   Mengakses kolom `ram` dari DataFrame `df`. Ini memberikan serangkaian nilai yang terdapat di kolom tersebut.\n",
    "2. `median()`  \n",
    "   Fungsi ini digunakan untuk menghitung nilai median dari serangkaian nilai. Median adalah nilai tengah dari data yang terurut. Jika jumlah nilai dalam data genap, median dihitung sebagai rata-rata dari dua nilai tengah.\n",
    "\n",
    "Kode ini digunakan untuk menghitung dan mengembalikan nilai median dari kolom `ram` dalam DataFrame `df`. Ini berguna untuk memahami distribusi data dalam kolom tersebut dan dapat memberikan wawasan tentang spesifikasi RAM perangkat yang dianalisis."
   ]
  },
  {
   "cell_type": "markdown",
   "metadata": {},
   "source": [
    "> ### Question 2\n",
    "\n",
    "What's the median (50% percentile) for variable `'ram'`?\n",
    "\n",
    "- 8\n",
    "- 16\n",
    "- 24\n",
    "- 32\n",
    "\n",
    "Answer : `16`"
   ]
  },
  {
   "cell_type": "code",
   "execution_count": 164,
   "metadata": {},
   "outputs": [
    {
     "data": {
      "text/plain": [
       "<Axes: xlabel='final_price', ylabel='Count'>"
      ]
     },
     "execution_count": 164,
     "metadata": {},
     "output_type": "execute_result"
    },
    {
     "data": {
      "image/png": "[encoded data removed]",
      "text/plain": [
       "<Figure size 640x480 with 1 Axes>"
      ]
     },
     "metadata": {},
     "output_type": "display_data"
    }
   ],
   "source": [
    "sns.histplot(df.final_price, bins=50)"
   ]
  },
  {
   "cell_type": "code",
   "execution_count": 165,
   "metadata": {},
   "outputs": [],
   "source": [
    "final_price_logs = np.log1p(df.final_price)"
   ]
  },
  {
   "cell_type": "markdown",
   "metadata": {},
   "source": [
    "1. `np.log1p(df.final_price)`  \n",
    "   Fungsi ini menghitung logaritma alami dari kolom `final_price` dalam DataFrame `df` setelah menambahkan 1 pada setiap elemen. Fungsi `log1p(x)` adalah metode yang efisien untuk menghitung `log(1 + x)`, yang berguna ketika `x` memiliki nilai yang sangat kecil atau untuk menghindari masalah logaritma negatif.\n",
    "2. `final_price_logs =`  \n",
    "   Hasil dari perhitungan `np.log1p(df.final_price)` disimpan dalam variabel `final_price_logs`. Ini akan menjadi sebuah array atau Series yang berisi nilai logaritma yang dihitung.\n",
    "\n",
    "Kode ini digunakan untuk menerapkan transformasi logaritma pada kolom `final_price` dalam DataFrame `df`. Transformasi ini sering digunakan untuk mengurangi skewness (kemiringan) dalam data dan membuat distribusi lebih mendekati distribusi normal, yang dapat berguna dalam analisis data dan pemodelan statistik."
   ]
  },
  {
   "cell_type": "code",
   "execution_count": 166,
   "metadata": {},
   "outputs": [
    {
     "data": {
      "text/plain": [
       "<Axes: xlabel='final_price', ylabel='Count'>"
      ]
     },
     "execution_count": 166,
     "metadata": {},
     "output_type": "execute_result"
    },
    {
     "data": {
      "image/png": "[encoded data removed]",
      "text/plain": [
       "<Figure size 640x480 with 1 Axes>"
      ]
     },
     "metadata": {},
     "output_type": "display_data"
    }
   ],
   "source": [
    "sns.histplot(final_price_logs, bins=50)"
   ]
  },
  {
   "cell_type": "markdown",
   "metadata": {},
   "source": [
    "## 2.3 Validation framework\n",
    "---\n",
    "Prepare and split the dataset\n",
    "\n",
    "Data Preparation and Splitting\n",
    "\n",
    "- Shuffle the dataset (use the filtered dataset you’ve created earlier), applying seed `42`.\n",
    "- Split the dataset into training, validation, and test sets, with a 60%/20%/20% distribution.\n",
    "\n",
    "Use the code provided in the lessons for reference."
   ]
  },
  {
   "cell_type": "code",
   "execution_count": 167,
   "metadata": {},
   "outputs": [
    {
     "data": {
      "text/plain": [
       "2160"
      ]
     },
     "execution_count": 167,
     "metadata": {},
     "output_type": "execute_result"
    }
   ],
   "source": [
    "len(df)"
   ]
  },
  {
   "cell_type": "markdown",
   "metadata": {},
   "source": [
    "1. `len(df)`  \n",
    "   Fungsi `len()` digunakan untuk menghitung jumlah baris dalam DataFrame `df`. Ini memberikan informasi tentang banyaknya entri atau sampel yang ada dalam DataFrame tersebut.\n",
    "\n",
    "Kode ini digunakan untuk mengetahui ukuran DataFrame `df` dengan mengembalikan jumlah total baris. Ini berguna untuk mendapatkan gambaran umum tentang jumlah data yang tersedia untuk analisis atau pemodelan."
   ]
  },
  {
   "cell_type": "code",
   "execution_count": 168,
   "metadata": {},
   "outputs": [
    {
     "data": {
      "text/plain": [
       "2160"
      ]
     },
     "execution_count": 168,
     "metadata": {},
     "output_type": "execute_result"
    }
   ],
   "source": [
    "n = len(df)\n",
    "\n",
    "n_val = int(n * 0.2)\n",
    "n_test = int(n * 0.2)\n",
    "n_train = n - n_val - n_test\n",
    "n"
   ]
  },
  {
   "cell_type": "markdown",
   "metadata": {},
   "source": [
    "1. `n = len(df)`  \n",
    "   Fungsi `len()` digunakan untuk menghitung jumlah baris dalam DataFrame `df` dan hasilnya disimpan dalam variabel `n`. Variabel ini sekarang mewakili total jumlah entri dalam DataFrame.\n",
    "2. `n_val = int(n * 0.2)`  \n",
    "   Menghitung 20% dari total jumlah entri `n` dan mengonversinya menjadi bilangan bulat dengan menggunakan fungsi `int()`. Hasil ini disimpan dalam variabel `n_val`, yang akan digunakan sebagai ukuran untuk dataset validasi.\n",
    "3. `n_test = int(n * 0.2)`  \n",
    "   Sama seperti langkah sebelumnya, ini juga menghitung 20% dari total jumlah entri `n` dan menyimpannya dalam variabel `n_test`. Ini akan digunakan sebagai ukuran untuk dataset pengujian.\n",
    "4. `n_train = n - n_val - n_test`  \n",
    "   Menghitung jumlah entri yang tersisa untuk dataset pelatihan dengan mengurangi jumlah entri validasi (`n_val`) dan pengujian (`n_test`) dari total jumlah entri (`n`). Hasil ini disimpan dalam variabel `n_train`.\n",
    "5. `n`  \n",
    "   Menampilkan nilai dari variabel `n`, yang merupakan total jumlah entri dalam DataFrame `df`.\n",
    "\n",
    "Kode ini digunakan untuk membagi dataset menjadi tiga bagian: pelatihan, validasi, dan pengujian. Dengan menggunakan 20% dari total data untuk validasi dan 20% untuk pengujian, sisa data akan digunakan untuk pelatihan. Ini penting dalam pembelajaran mesin untuk memastikan model dapat dievaluasi dengan baik dan tidak overfitting pada data pelatihan.\n"
   ]
  },
  {
   "cell_type": "code",
   "execution_count": 169,
   "metadata": {},
   "outputs": [
    {
     "data": {
      "text/plain": [
       "(432, 432, 1296)"
      ]
     },
     "execution_count": 169,
     "metadata": {},
     "output_type": "execute_result"
    }
   ],
   "source": [
    "n_val, n_test, n_train"
   ]
  },
  {
   "cell_type": "markdown",
   "metadata": {},
   "source": [
    "1. `n_val`  \n",
    "   Variabel ini menyimpan jumlah entri yang digunakan untuk dataset validasi. Dalam kode sebelumnya, `n_val` dihitung sebagai 20% dari total jumlah entri dalam DataFrame `df`.\n",
    "2. `n_test`  \n",
    "   Variabel ini menyimpan jumlah entri yang digunakan untuk dataset pengujian. Sama seperti `n_val`, `n_test` juga dihitung sebagai 20% dari total jumlah entri.\n",
    "3. `n_train`  \n",
    "   Variabel ini menyimpan jumlah entri yang digunakan untuk dataset pelatihan. Nilai `n_train` dihitung sebagai sisa entri setelah mengurangi jumlah entri validasi (`n_val`) dan pengujian (`n_test`) dari total entri.\n",
    "\n",
    "Dengan menampilkan `n_val`, `n_test`, dan `n_train`, kode ini memberikan informasi tentang ukuran masing-masing dataset (validasi, pengujian, dan pelatihan) yang digunakan dalam proses pembelajaran mesin. Ini penting untuk memastikan bahwa pembagian data dilakukan secara proporsional dan sesuai dengan kebutuhan analisis model."
   ]
  },
  {
   "cell_type": "code",
   "execution_count": 170,
   "metadata": {},
   "outputs": [],
   "source": [
    "idx = np.arange(n)\n",
    "np.random.seed(42)\n",
    "np.random.shuffle(idx)"
   ]
  },
  {
   "cell_type": "markdown",
   "metadata": {},
   "source": [
    "1. `idx = np.arange(n)`  \n",
    "   Membuat array NumPy berisi nilai dari 0 hingga `n-1`, di mana `n` adalah jumlah total entri dalam DataFrame. Variabel `idx` akan berfungsi sebagai indeks untuk mengindeks data secara acak.\n",
    "2. `np.random.seed(42)`  \n",
    "   Mengatur seed untuk generator angka acak NumPy ke nilai 42. Ini bertujuan untuk memastikan hasil yang konsisten dan dapat direproduksi setiap kali kode dijalankan. Dengan menggunakan seed yang sama, urutan angka acak yang dihasilkan akan selalu sama.\n",
    "3. `np.random.shuffle(idx)`  \n",
    "   Mengacak urutan elemen dalam array `idx` secara in-place. Ini berarti bahwa elemen dalam array `idx` akan diacak, memberikan indeks acak yang dapat digunakan untuk mengakses data dalam DataFrame.\n",
    "\n",
    "Kode ini digunakan untuk mempersiapkan pengacakan data dengan membuat indeks acak dari entri dalam DataFrame. Dengan mengatur seed, proses pengacakan dapat direproduksi, sehingga hasil analisis atau pemodelan menjadi lebih dapat diandalkan. Indeks yang telah diacak ini biasanya digunakan untuk membagi dataset menjadi subset pelatihan, validasi, dan pengujian.\n"
   ]
  },
  {
   "cell_type": "code",
   "execution_count": 171,
   "metadata": {},
   "outputs": [],
   "source": [
    "df_train = df.iloc[idx[:n_train]]\n",
    "df_val = df.iloc[idx[n_train:n_train+n_val]]\n",
    "df_test = df.iloc[idx[n_train+n_val:]]"
   ]
  },
  {
   "cell_type": "markdown",
   "metadata": {},
   "source": [
    "1. `df_train = df.iloc[idx[:n_train]]`  \n",
    "   Menggunakan indeks yang telah diacak (`idx`) untuk memilih baris-baris dari DataFrame `df` yang akan digunakan sebagai dataset pelatihan. `idx[:n_train]` mengambil indeks dari awal hingga jumlah entri pelatihan (`n_train`). Hasilnya disimpan dalam variabel `df_train`.\n",
    "2. `df_val = df.iloc[idx[n_train:n_train+n_val]]`  \n",
    "   Memilih baris-baris dari DataFrame `df` yang akan digunakan sebagai dataset validasi. `idx[n_train:n_train+n_val]` mengambil indeks mulai dari `n_train` hingga `n_train + n_val`. Hasilnya disimpan dalam variabel `df_val`.\n",
    "3. `df_test = df.iloc[idx[n_train+n_val:]]`  \n",
    "   Memilih sisa baris dari DataFrame `df` yang akan digunakan sebagai dataset pengujian. `idx[n_train+n_val:]` mengambil indeks dari `n_train + n_val` hingga akhir array. Hasilnya disimpan dalam variabel `df_test`.\n",
    "\n",
    "Kode ini digunakan untuk membagi DataFrame `df` menjadi tiga subset: `df_train`, `df_val`, dan `df_test`. Dengan menggunakan indeks acak yang telah dibuat sebelumnya, data dibagi secara acak menjadi dataset pelatihan, validasi, dan pengujian. Ini penting dalam proses pembelajaran mesin untuk memastikan bahwa model dapat dilatih, divalidasi, dan diuji dengan baik."
   ]
  },
  {
   "cell_type": "code",
   "execution_count": 172,
   "metadata": {},
   "outputs": [
    {
     "data": {
      "text/plain": [
       "(1296, 432, 432)"
      ]
     },
     "execution_count": 172,
     "metadata": {},
     "output_type": "execute_result"
    }
   ],
   "source": [
    "len(df_train), len(df_val), len(df_test)"
   ]
  },
  {
   "cell_type": "markdown",
   "metadata": {},
   "source": [
    "1. `len(df_train)`  \n",
    "   Menghitung jumlah baris dalam DataFrame `df_train`, yang merupakan dataset pelatihan. Ini memberikan informasi tentang seberapa banyak data yang digunakan untuk pelatihan model.\n",
    "2. `len(df_val)`  \n",
    "   Menghitung jumlah baris dalam DataFrame `df_val`, yang merupakan dataset validasi. Ini memberikan informasi tentang seberapa banyak data yang digunakan untuk menguji model selama proses validasi.\n",
    "3. `len(df_test)`  \n",
    "   Menghitung jumlah baris dalam DataFrame `df_test`, yang merupakan dataset pengujian. Ini memberikan informasi tentang seberapa banyak data yang digunakan untuk menguji model setelah pelatihan selesai.\n",
    "\n",
    "Kode ini digunakan untuk menampilkan ukuran dari masing-masing subset dataset: pelatihan, validasi, dan pengujian. Mengetahui jumlah entri di setiap subset penting untuk memahami bagaimana data dibagi dan memastikan bahwa pembagian tersebut sesuai dengan kebutuhan analisis atau pelatihan model."
   ]
  },
  {
   "cell_type": "code",
   "execution_count": 173,
   "metadata": {},
   "outputs": [],
   "source": [
    "df_train = df_train.reset_index(drop=True)\n",
    "df_val = df_val.reset_index(drop=True)\n",
    "df_test = df_test.reset_index(drop=True)"
   ]
  },
  {
   "cell_type": "markdown",
   "metadata": {},
   "source": [
    "1. `df_train = df_train.reset_index(drop=True)`  \n",
    "   Mengatur ulang indeks DataFrame `df_train` setelah pembagian dataset. Dengan menggunakan `reset_index()`, indeks yang sebelumnya diacak akan dihapus dan digantikan dengan indeks baru yang dimulai dari 0. Argumen `drop=True` memastikan bahwa kolom indeks lama tidak ditambahkan ke DataFrame sebagai kolom baru.\n",
    "2. `df_val = df_val.reset_index(drop=True)`  \n",
    "   Sama seperti langkah sebelumnya, ini mengatur ulang indeks DataFrame `df_val`. Indeks baru akan dimulai dari 0, dan kolom indeks lama tidak akan disimpan.\n",
    "3. `df_test = df_test.reset_index(drop=True)`  \n",
    "   Mengatur ulang indeks DataFrame `df_test`, juga dengan cara yang sama seperti pada dataset pelatihan dan validasi.\n",
    "\n",
    "Kode ini digunakan untuk mereset indeks dari masing-masing subset DataFrame (pelatihan, validasi, dan pengujian) setelah pemisahan data. Ini penting untuk memastikan bahwa indeks baru dimulai dari 0 dan terurut, yang dapat memudahkan dalam manipulasi dan akses data selanjutnya. Selain itu, menghindari kolom indeks yang tidak diperlukan dalam DataFrame baru."
   ]
  },
  {
   "cell_type": "code",
   "execution_count": 174,
   "metadata": {},
   "outputs": [],
   "source": [
    "y_train = df_train['final_price'].values\n",
    "y_val = df_val['final_price'].values\n",
    "y_test = df_test['final_price'].values"
   ]
  },
  {
   "cell_type": "markdown",
   "metadata": {},
   "source": [
    "1. `y_train = df_train['final_price'].values`  \n",
    "   Mengambil nilai dari kolom `final_price` dalam DataFrame `df_train` dan menyimpannya dalam variabel `y_train`. Dengan menggunakan `.values`, kita mendapatkan array NumPy yang berisi harga akhir untuk setiap entri dalam dataset pelatihan.\n",
    "2. `y_val = df_val['final_price'].values`  \n",
    "   Mengambil nilai dari kolom `final_price` dalam DataFrame `df_val` dan menyimpannya dalam variabel `y_val`. Hasilnya adalah array NumPy yang berisi harga akhir untuk setiap entri dalam dataset validasi.\n",
    "3. `y_test = df_test['final_price'].values`  \n",
    "   Mengambil nilai dari kolom `final_price` dalam DataFrame `df_test` dan menyimpannya dalam variabel `y_test`. Ini menghasilkan array NumPy yang berisi harga akhir untuk setiap entri dalam dataset pengujian.\n",
    "\n",
    "Kode ini digunakan untuk mengekstrak nilai target (dalam hal ini, `final_price`) dari masing-masing subset DataFrame (pelatihan, validasi, dan pengujian) dan menyimpannya sebagai array NumPy. Ini penting untuk persiapan model pembelajaran mesin, di mana kita perlu memisahkan fitur dari label yang ingin diprediksi."
   ]
  },
  {
   "cell_type": "code",
   "execution_count": 175,
   "metadata": {},
   "outputs": [],
   "source": [
    "del df_train['final_price']\n",
    "del df_val['final_price']\n",
    "del df_test['final_price']"
   ]
  },
  {
   "cell_type": "markdown",
   "metadata": {},
   "source": [
    "1. `del df_train['final_price']`  \n",
    "   Menghapus kolom `final_price` dari DataFrame `df_train`. Dengan menggunakan `del`, kolom ini tidak akan lagi tersedia dalam DataFrame, sehingga hanya fitur yang tersisa untuk digunakan dalam model pelatihan.\n",
    "2. `del df_val['final_price']`  \n",
    "   Menghapus kolom `final_price` dari DataFrame `df_val`. Ini memastikan bahwa dataset validasi hanya berisi fitur tanpa label target.\n",
    "3. `del df_test['final_price']`  \n",
    "   Menghapus kolom `final_price` dari DataFrame `df_test`. Dengan cara yang sama, ini memastikan bahwa dataset pengujian hanya berisi fitur tanpa label target.\n",
    "\n",
    "Kode ini digunakan untuk menghapus kolom `final_price` dari setiap subset DataFrame (pelatihan, validasi, dan pengujian). Hal ini penting karena setelah mengekstrak nilai target ke dalam variabel terpisah (`y_train`, `y_val`, `y_test`), kolom target tidak lagi diperlukan dalam DataFrame fitur, sehingga mencegah kebingungan dan menjaga fokus pada fitur yang akan digunakan dalam model pembelajaran mesin."
   ]
  },
  {
   "cell_type": "markdown",
   "metadata": {},
   "source": [
    "## 2.4 Missing Value\n",
    "---"
   ]
  },
  {
   "cell_type": "code",
   "execution_count": 176,
   "metadata": {},
   "outputs": [],
   "source": [
    "def prepare_z_X(df):\n",
    "    df_num = df[columns]\n",
    "    df_num = df_num.fillna(0)\n",
    "    X = df_num.to_numpy()\n",
    "    return X"
   ]
  },
  {
   "cell_type": "markdown",
   "metadata": {},
   "source": [
    "1. **Definisi Fungsi**  \n",
    "   `def prepare_z_X(df):`  \n",
    "   Mendefinisikan fungsi `prepare_z_X` yang menerima satu argumen, yaitu `df`, yang merupakan DataFrame yang berisi data yang akan diproses.\n",
    "2. **Memilih Kolom Numerik**  \n",
    "   `df_num = df[columns]`  \n",
    "   Memilih kolom yang ditentukan dalam daftar `columns` dari DataFrame `df` dan menyimpannya dalam variabel `df_num`. Variabel ini akan berisi hanya kolom-kolom numerik yang diperlukan untuk analisis lebih lanjut.\n",
    "3. **Mengisi Nilai NaN**  \n",
    "   `df_num = df_num.fillna(0)`  \n",
    "   Mengganti semua nilai `NaN` dalam DataFrame `df_num` dengan 0 menggunakan metode `fillna()`. Ini berguna untuk memastikan bahwa tidak ada nilai yang hilang dalam data yang akan digunakan.\n",
    "4. **Mengonversi ke NumPy Array**  \n",
    "   `X = df_num.to_numpy()`  \n",
    "   Mengonversi DataFrame `df_num` menjadi array NumPy dan menyimpannya dalam variabel `X`. Ini penting karena banyak algoritma pembelajaran mesin memerlukan data dalam format array.\n",
    "5. **Mengembalikan Nilai**  \n",
    "   `return X`  \n",
    "   Mengembalikan array NumPy `X` sebagai output dari fungsi. Ini memungkinkan kita untuk menggunakan array ini untuk pemodelan atau analisis lebih lanjut.\n",
    "\n",
    "Fungsi `prepare_z_X` digunakan untuk mempersiapkan data numerik dari DataFrame dengan memilih kolom yang relevan, mengisi nilai hilang, dan mengonversi data menjadi format yang sesuai untuk analisis atau pemodelan lebih lanjut. Dengan menggunakan fungsi ini, kita memastikan bahwa data yang digunakan bersih dan dalam format yang tepat."
   ]
  },
  {
   "cell_type": "code",
   "execution_count": 177,
   "metadata": {},
   "outputs": [],
   "source": [
    "def prepare_m_X(df):\n",
    "    df_num = df[columns]\n",
    "    df_num = df_num.fillna(df.screen.mean())\n",
    "    X = df_num.to_numpy()\n",
    "    return X"
   ]
  },
  {
   "cell_type": "markdown",
   "metadata": {},
   "source": [
    "1. `def prepare_m_X(df):`  \n",
    "   Mendefinisikan fungsi `prepare_m_X` yang menerima satu argumen, yaitu `df`, yang merupakan DataFrame yang berisi data yang akan diproses.\n",
    "2. `df_num = df[columns]`  \n",
    "   Memilih kolom yang ditentukan dalam daftar `columns` dari DataFrame `df` dan menyimpannya dalam variabel `df_num`. Variabel ini akan berisi hanya kolom-kolom numerik yang diperlukan untuk analisis lebih lanjut.\n",
    "3. `df_num = df_num.fillna(df.screen.mean())`  \n",
    "   Mengganti semua nilai `NaN` dalam DataFrame `df_num` dengan rata-rata dari kolom `screen` menggunakan metode `fillna()`. Ini berguna untuk memastikan bahwa tidak ada nilai yang hilang dalam data yang akan digunakan, dan menggunakan rata-rata dari kolom lain dapat membantu mempertahankan distribusi data.\n",
    "4. `X = df_num.to_numpy()`  \n",
    "   Mengonversi DataFrame `df_num` menjadi array NumPy dan menyimpannya dalam variabel `X`. Ini penting karena banyak algoritma pembelajaran mesin memerlukan data dalam format array.\n",
    "5. `return X`  \n",
    "   Mengembalikan array NumPy `X` sebagai output dari fungsi. Ini memungkinkan kita untuk menggunakan array ini untuk pemodelan atau analisis lebih lanjut.\n",
    "\n",
    "Fungsi `prepare_m_X` digunakan untuk mempersiapkan data numerik dari DataFrame dengan memilih kolom yang relevan, mengisi nilai hilang dengan rata-rata dari kolom `screen`, dan mengonversi data menjadi format yang sesuai untuk analisis atau pemodelan lebih lanjut. Dengan menggunakan fungsi ini, kita memastikan bahwa data yang digunakan bersih dan dalam format yang tepat, sambil mempertahankan informasi dari kolom yang ada."
   ]
  },
  {
   "cell_type": "markdown",
   "metadata": {},
   "source": [
    "## 2.5 RSME\n",
    "---"
   ]
  },
  {
   "cell_type": "code",
   "execution_count": 178,
   "metadata": {},
   "outputs": [],
   "source": [
    "def rmse(y, y_pred):\n",
    "    error = y_pred - y\n",
    "    mse = (error ** 2).mean()\n",
    "    return np.sqrt(mse)"
   ]
  },
  {
   "cell_type": "markdown",
   "metadata": {},
   "source": [
    "1. `def rmse(y, y_pred):`  \n",
    "   Mendefinisikan fungsi `rmse` yang menerima dua argumen: `y` dan `y_pred`. `y` adalah array yang berisi nilai sebenarnya (ground truth), sedangkan `y_pred` adalah array yang berisi nilai yang diprediksi oleh model.\n",
    "2. `error = y_pred - y`  \n",
    "   Menghitung selisih antara nilai yang diprediksi (`y_pred`) dan nilai sebenarnya (`y`). Hasilnya disimpan dalam variabel `error`, yang mencerminkan kesalahan prediksi untuk setiap data.\n",
    "3. `mse = (error ** 2).mean()`  \n",
    "   Menghitung Mean Squared Error (MSE) dengan cara mengkuadratkan setiap elemen dalam `error` dan kemudian menghitung rata-ratanya. Hasil ini memberikan ukuran seberapa besar kesalahan prediksi secara kuadrat.\n",
    "4. `return np.sqrt(mse)`  \n",
    "   Mengembalikan nilai Root Mean Squared Error (RMSE) dengan mengambil akar kuadrat dari nilai MSE yang telah dihitung sebelumnya. RMSE memberikan ukuran kesalahan yang lebih mudah dipahami dalam satuan yang sama dengan data asli.\n",
    "\n",
    "Fungsi `rmse` digunakan untuk menghitung Root Mean Squared Error antara nilai yang diprediksi oleh model dan nilai sebenarnya. RMSE merupakan salah satu metrik evaluasi yang umum digunakan dalam regresi untuk menilai performa model, di mana nilai yang lebih rendah menunjukkan model yang lebih baik."
   ]
  },
  {
   "cell_type": "markdown",
   "metadata": {},
   "source": [
    "## 2.6 Linear regression\n",
    "---"
   ]
  },
  {
   "cell_type": "code",
   "execution_count": 179,
   "metadata": {},
   "outputs": [],
   "source": [
    "def train_linear_regression(X, y):\n",
    "    ones = np.ones(X.shape[0])\n",
    "    X = np.column_stack([ones, X])\n",
    "\n",
    "    XTX = X.T@X\n",
    "    XTX_inv = np.linalg.inv(XTX)\n",
    "    w_full = (XTX_inv@X.T).dot(y)\n",
    "    \n",
    "    # returning tuple, bias term and weights\n",
    "    return w_full[0], w_full[1:]"
   ]
  },
  {
   "cell_type": "markdown",
   "metadata": {},
   "source": [
    "1. `def train_linear_regression(X, y):`  \n",
    "   Mendefinisikan fungsi `train_linear_regression` yang menerima dua argumen: `X`, yang merupakan array fitur, dan `y`, yang merupakan array target (nilai yang ingin diprediksi).\n",
    "2. `ones = np.ones(X.shape[0])`  \n",
    "   Membuat array `ones` yang berisi bilangan 1 sebanyak jumlah baris dalam `X`. Array ini akan digunakan untuk menambahkan bias term ke dalam model regresi linier.\n",
    "3. `X = np.column_stack([ones, X])`  \n",
    "   Menggabungkan array `ones` dengan array `X` untuk membuat array fitur baru yang mencakup bias term. Ini penting untuk menghitung koefisien regresi secara tepat.\n",
    "4. `XTX = X.T@X`  \n",
    "   Menghitung hasil kali matriks transpose dari `X` dengan `X` itu sendiri. Hasil ini disimpan dalam variabel `XTX`.\n",
    "5. `XTX_inv = np.linalg.inv(XTX)`  \n",
    "   Menghitung invers dari matriks `XTX` dan menyimpannya dalam variabel `XTX_inv`. Invers ini akan digunakan untuk menghitung koefisien regresi.\n",
    "6. `w_full = (XTX_inv@X.T).dot(y)`  \n",
    "   Menghitung koefisien regresi linier lengkap dengan menggunakan rumus regresi linier, yaitu \\( w = (X^TX)^{-1}X^Ty \\). Hasil ini disimpan dalam variabel `w_full`.\n",
    "7. `return w_full[0], w_full[1:]`  \n",
    "   Mengembalikan dua nilai: bias term (intercept) dan koefisien (weights) untuk fitur. Bias term adalah elemen pertama dari `w_full`, sedangkan sisa elemen merupakan bobot untuk setiap fitur.\n",
    "\n",
    "Fungsi `train_linear_regression` digunakan untuk melatih model regresi linier menggunakan metode Least Squares. Fungsi ini menghitung koefisien regresi dan bias term berdasarkan data fitur dan target yang diberikan, sehingga model dapat digunakan untuk melakukan prediksi."
   ]
  },
  {
   "cell_type": "markdown",
   "metadata": {},
   "source": [
    "## 2.7 Regularize Linear Regression\n",
    "---"
   ]
  },
  {
   "cell_type": "code",
   "execution_count": 180,
   "metadata": {},
   "outputs": [],
   "source": [
    "def train_linear_regression_reg(X, y, r=0.001):\n",
    "    \n",
    "    ones = np.ones(X.shape[0])\n",
    "    X = np.column_stack([ones, X])\n",
    "\n",
    "    XTX = X.T@X\n",
    "    XTX += r * np.eye(XTX.shape[0])\n",
    "    \n",
    "    XTX_inv = np.linalg.inv(XTX)\n",
    "    w_full = (XTX_inv@X.T).dot(y)\n",
    "\n",
    "    # returning tuple, bias term and weights\n",
    "    return w_full[0], w_full[1:]"
   ]
  },
  {
   "cell_type": "markdown",
   "metadata": {},
   "source": [
    "1. `def train_linear_regression_reg(X, y, r=0.001):`  \n",
    "   Mendefinisikan fungsi `train_linear_regression_reg` yang menerima tiga argumen: `X`, yang merupakan array fitur; `y`, yang merupakan array target (nilai yang ingin diprediksi); dan `r`, yang merupakan parameter regularisasi (defaultnya adalah 0.001).\n",
    "2. `ones = np.ones(X.shape[0])`  \n",
    "   Membuat array `ones` yang berisi bilangan 1 sebanyak jumlah baris dalam `X`. Ini digunakan untuk menambahkan bias term ke dalam model regresi linier.\n",
    "3. `X = np.column_stack([ones, X])`  \n",
    "   Menggabungkan array `ones` dengan array `X` untuk membuat array fitur baru yang mencakup bias term. Ini penting untuk menghitung koefisien regresi secara tepat.\n",
    "4. `XTX = X.T@X`  \n",
    "   Menghitung hasil kali matriks transpose dari `X` dengan `X` itu sendiri. Hasil ini disimpan dalam variabel `XTX`.\n",
    "5. `XTX += r * np.eye(XTX.shape[0])`  \n",
    "   Menambahkan `r` dikalikan dengan matriks identitas ke `XTX`. Ini adalah langkah regularisasi yang digunakan untuk mencegah overfitting dengan menambahkan penalti pada koefisien regresi.\n",
    "6. `XTX_inv = np.linalg.inv(XTX)`  \n",
    "   Menghitung invers dari matriks `XTX` yang telah diregulasi dan menyimpannya dalam variabel `XTX_inv`. Invers ini akan digunakan untuk menghitung koefisien regresi.\n",
    "7. `w_full = (XTX_inv@X.T).dot(y)`  \n",
    "   Menghitung koefisien regresi linier lengkap menggunakan rumus regresi linier dengan regularisasi, yaitu \\( w = (X^TX + rI)^{-1}X^Ty \\). Hasil ini disimpan dalam variabel `w_full`.\n",
    "8. `return w_full[0], w_full[1:]`  \n",
    "   Mengembalikan dua nilai: bias term (intercept) dan koefisien (weights) untuk fitur. Bias term adalah elemen pertama dari `w_full`, sedangkan sisa elemen merupakan bobot untuk setiap fitur.\n",
    "\n",
    "Fungsi `train_linear_regression_reg` digunakan untuk melatih model regresi linier dengan regularisasi menggunakan metode Least Squares. Fungsi ini menghitung koefisien regresi dan bias term berdasarkan data fitur dan target yang diberikan, serta menambahkan penalti untuk mencegah overfitting, sehingga model dapat digunakan untuk melakukan prediksi dengan lebih baik."
   ]
  },
  {
   "cell_type": "code",
   "execution_count": 181,
   "metadata": {},
   "outputs": [
    {
     "name": "stdout",
     "output_type": "stream",
     "text": [
      "Zeros:\n",
      "597.36\n",
      "Mean:\n",
      "600.26\n"
     ]
    }
   ],
   "source": [
    "# train dataset\n",
    "X_train = prepare_z_X(df_train)\n",
    "w0, w = train_linear_regression(X_train, y_train)\n",
    "\n",
    "# validate dataset\n",
    "X_val = prepare_z_X(df_val)\n",
    "y_pred = w0 + X_val.dot(w)\n",
    "\n",
    "score = rmse(y_val, y_pred)\n",
    "\n",
    "print('Zeros:')\n",
    "print(round(score, 2))\n",
    "\n",
    "# train dataset\n",
    "X_train = prepare_m_X(df_train)\n",
    "w0, w = train_linear_regression(X_train, y_train)\n",
    "\n",
    "# validate dataset\n",
    "X_val = prepare_m_X(df_val)\n",
    "y_pred = w0 + X_val.dot(w)\n",
    "\n",
    "score = rmse(y_val, y_pred)\n",
    "\n",
    "print('Mean:')\n",
    "print(round(score, 2))"
   ]
  },
  {
   "cell_type": "markdown",
   "metadata": {},
   "source": [
    "1. `# train dataset`  \n",
    "   Komentar yang menunjukkan bahwa bagian kode berikutnya digunakan untuk melatih model menggunakan dataset pelatihan.\n",
    "2. `X_train = prepare_z_X(df_train)`  \n",
    "   Memanggil fungsi `prepare_z_X` dengan argumen `df_train` untuk mempersiapkan data fitur dari dataset pelatihan. Hasilnya disimpan dalam variabel `X_train`, yang merupakan array NumPy dari fitur-fitur yang akan digunakan untuk melatih model.\n",
    "3. `w0, w = train_linear_regression(X_train, y_train)`  \n",
    "   Memanggil fungsi `train_linear_regression` dengan argumen `X_train` dan `y_train` untuk melatih model regresi linier. Fungsi ini mengembalikan bias term (`w0`) dan koefisien (`w`) untuk fitur-fitur. Nilai-nilai ini disimpan untuk digunakan dalam prediksi selanjutnya.\n",
    "4. `# validate dataset`  \n",
    "   Komentar yang menunjukkan bahwa bagian kode berikutnya digunakan untuk memvalidasi model menggunakan dataset validasi.\n",
    "5. `X_val = prepare_z_X(df_val)`  \n",
    "   Memanggil fungsi `prepare_z_X` dengan argumen `df_val` untuk mempersiapkan data fitur dari dataset validasi. Hasilnya disimpan dalam variabel `X_val`.\n",
    "6. `y_pred = w0 + X_val.dot(w)`  \n",
    "   Menghitung prediksi (`y_pred`) menggunakan bias term (`w0`) dan hasil kali antara data fitur validasi (`X_val`) dengan koefisien (`w`). Ini menghasilkan nilai yang diprediksi untuk dataset validasi.\n",
    "7. `score = rmse(y_val, y_pred)`  \n",
    "   Menghitung Root Mean Squared Error (RMSE) antara nilai sebenarnya dari dataset validasi (`y_val`) dan nilai yang diprediksi (`y_pred`) dengan menggunakan fungsi `rmse`. Hasilnya disimpan dalam variabel `score`.\n",
    "8. `print('Zeros:')`  \n",
    "   Menampilkan teks 'Zeros:' di konsol sebagai label untuk hasil yang akan ditampilkan berikutnya.\n",
    "9. `print(round(score, 2))`  \n",
    "   Mencetak nilai `score` (RMSE) yang telah dibulatkan hingga dua desimal ke konsol. Ini memberikan gambaran tentang seberapa baik model dalam melakukan prediksi pada dataset validasi.\n",
    "\n",
    "---\n",
    "\n",
    "1. `# train dataset`  \n",
    "   Komentar yang menunjukkan bahwa bagian kode berikutnya digunakan untuk melatih model menggunakan dataset pelatihan.\n",
    "2. `X_train = prepare_m_X(df_train)`  \n",
    "   Memanggil fungsi `prepare_m_X` dengan argumen `df_train` untuk mempersiapkan data fitur dari dataset pelatihan. Hasilnya disimpan dalam variabel `X_train`, yang merupakan array NumPy dari fitur-fitur yang akan digunakan untuk melatih model. Dalam fungsi ini, nilai yang hilang diisi dengan rata-rata dari kolom `screen`.\n",
    "3. `w0, w = train_linear_regression(X_train, y_train)`  \n",
    "   Memanggil fungsi `train_linear_regression` dengan argumen `X_train` dan `y_train` untuk melatih model regresi linier. Fungsi ini mengembalikan bias term (`w0`) dan koefisien (`w`) untuk fitur-fitur. Nilai-nilai ini disimpan untuk digunakan dalam prediksi selanjutnya.\n",
    "4. `# validate dataset`  \n",
    "   Komentar yang menunjukkan bahwa bagian kode berikutnya digunakan untuk memvalidasi model menggunakan dataset validasi.\n",
    "5. `X_val = prepare_m_X(df_val)`  \n",
    "   Memanggil fungsi `prepare_m_X` dengan argumen `df_val` untuk mempersiapkan data fitur dari dataset validasi. Hasilnya disimpan dalam variabel `X_val`, dengan cara yang sama seperti pada dataset pelatihan, yaitu mengisi nilai yang hilang dengan rata-rata dari kolom `screen`.\n",
    "6. `y_pred = w0 + X_val.dot(w)`  \n",
    "   Menghitung prediksi (`y_pred`) menggunakan bias term (`w0`) dan hasil kali antara data fitur validasi (`X_val`) dengan koefisien (`w`). Ini menghasilkan nilai yang diprediksi untuk dataset validasi.\n",
    "7. `score = rmse(y_val, y_pred)`  \n",
    "   Menghitung Root Mean Squared Error (RMSE) antara nilai sebenarnya dari dataset validasi (`y_val`) dan nilai yang diprediksi (`y_pred`) dengan menggunakan fungsi `rmse`. Hasilnya disimpan dalam variabel `score`.\n",
    "8. `print('Mean:')`  \n",
    "   Menampilkan teks 'Mean:' di konsol sebagai label untuk hasil yang akan ditampilkan berikutnya.\n",
    "9. `print(round(score, 2))`  \n",
    "   Mencetak nilai `score` (RMSE) yang telah dibulatkan hingga dua desimal ke konsol. Ini memberikan gambaran tentang seberapa baik model dalam melakukan prediksi pada dataset validasi.\n",
    "\n",
    "Kode ini melatih model regresi linier dengan menggunakan dataset pelatihan dan kemudian memvalidasi model tersebut dengan dataset validasi. Dengan menghitung RMSE dari prediksi pada dataset validasi, kita dapat mengevaluasi performa model dan mengetahui seberapa baik model dalam memprediksi nilai yang benar. Pada bagian kedua, pengisian nilai yang hilang dilakukan dengan rata-rata pada kolom `screen`.\n"
   ]
  },
  {
   "cell_type": "markdown",
   "metadata": {},
   "source": [
    "> ### Question 3\n",
    "\n",
    "Which method provides the better RMSE?\n",
    "\n",
    "- Fill with 0\n",
    "- Fill with mean\n",
    "- Both options are equally effective\n",
    "\n",
    "Answer : `597.36`"
   ]
  },
  {
   "cell_type": "code",
   "execution_count": 182,
   "metadata": {},
   "outputs": [
    {
     "name": "stdout",
     "output_type": "stream",
     "text": [
      "0\n",
      "597.36\n",
      "0.01\n",
      "597.36\n",
      "0.1\n",
      "597.35\n",
      "1\n",
      "597.21\n",
      "5\n",
      "597.01\n",
      "10\n",
      "597.06\n",
      "100\n",
      "597.9\n"
     ]
    }
   ],
   "source": [
    "r = [0, 0.01, 0.1, 1, 5, 10, 100]\n",
    "\n",
    "for i in r:\n",
    "    # train dataset\n",
    "    X_train = prepare_z_X(df_train)\n",
    "    w0, w = train_linear_regression_reg(X_train, y_train, i)\n",
    "    \n",
    "    # validate dataset\n",
    "    X_val = prepare_z_X(df_val)\n",
    "    y_pred = w0 + X_val.dot(w)\n",
    "    \n",
    "    score = rmse(y_val, y_pred)\n",
    "    \n",
    "    print(i)\n",
    "    print(round(score, 2))"
   ]
  },
  {
   "cell_type": "markdown",
   "metadata": {},
   "source": [
    "1. `r = [0, 0.01, 0.1, 1, 5, 10, 100]`  \n",
    "   Mendefinisikan daftar `r` yang berisi nilai regularisasi yang akan digunakan dalam pelatihan model regresi linier. Nilai-nilai ini akan dieksplorasi untuk mengetahui dampaknya terhadap performa model.\n",
    "2. `for i in r:`  \n",
    "   Memulai loop untuk setiap nilai `i` dalam daftar `r`. Di dalam loop ini, model akan dilatih dan divalidasi menggunakan nilai regularisasi yang berbeda.\n",
    "3. `# train dataset`  \n",
    "   Komentar yang menunjukkan bahwa bagian kode berikutnya digunakan untuk melatih model menggunakan dataset pelatihan.\n",
    "4. `X_train = prepare_z_X(df_train)`  \n",
    "   Memanggil fungsi `prepare_z_X` dengan argumen `df_train` untuk mempersiapkan data fitur dari dataset pelatihan. Hasilnya disimpan dalam variabel `X_train`, yang merupakan array NumPy dari fitur-fitur yang akan digunakan untuk melatih model.\n",
    "5. `w0, w = train_linear_regression_reg(X_train, y_train, i)`  \n",
    "   Memanggil fungsi `train_linear_regression_reg` dengan argumen `X_train`, `y_train`, dan nilai regularisasi `i` untuk melatih model regresi linier dengan regularisasi. Fungsi ini mengembalikan bias term (`w0`) dan koefisien (`w`) untuk fitur-fitur. Nilai-nilai ini disimpan untuk digunakan dalam prediksi selanjutnya.\n",
    "6. `# validate dataset`  \n",
    "   Komentar yang menunjukkan bahwa bagian kode berikutnya digunakan untuk memvalidasi model menggunakan dataset validasi.\n",
    "7. `X_val = prepare_z_X(df_val)`  \n",
    "   Memanggil fungsi `prepare_z_X` dengan argumen `df_val` untuk mempersiapkan data fitur dari dataset validasi. Hasilnya disimpan dalam variabel `X_val`.\n",
    "8. `y_pred = w0 + X_val.dot(w)`  \n",
    "   Menghitung prediksi (`y_pred`) menggunakan bias term (`w0`) dan hasil kali antara data fitur validasi (`X_val`) dengan koefisien (`w`). Ini menghasilkan nilai yang diprediksi untuk dataset validasi.\n",
    "9. `score = rmse(y_val, y_pred)`  \n",
    "   Menghitung Root Mean Squared Error (RMSE) antara nilai sebenarnya dari dataset validasi (`y_val`) dan nilai yang diprediksi (`y_pred`) dengan menggunakan fungsi `rmse`. Hasilnya disimpan dalam variabel `score`.\n",
    "10. `print(i)`  \n",
    "    Mencetak nilai regularisasi saat ini (`i`) ke konsol untuk menunjukkan nilai yang sedang digunakan.\n",
    "11. `print(round(score, 2))`  \n",
    "    Mencetak nilai `score` (RMSE) yang telah dibulatkan hingga dua desimal ke konsol. Ini memberikan gambaran tentang seberapa baik model dalam melakukan prediksi pada dataset validasi dengan nilai regularisasi tersebut.\n",
    "\n",
    "Kode ini melakukan pelatihan dan validasi model regresi linier dengan menerapkan variasi nilai regularisasi. Dengan menggunakan RMSE dari prediksi pada dataset validasi, kita dapat mengevaluasi pengaruh setiap nilai regularisasi terhadap performa model, sehingga membantu dalam memilih nilai regularisasi yang optimal.\n"
   ]
  },
  {
   "cell_type": "markdown",
   "metadata": {},
   "source": [
    "> ### Question 4\n",
    "\n",
    "Which `r` value gives the best RMSE? If multiple values result in similar RMSE, select the smallest `r`.\n",
    "\n",
    "- 0\n",
    "- 0.01\n",
    "- 1\n",
    "- 10\n",
    "- 100\n",
    "\n",
    "Answer : `10`"
   ]
  },
  {
   "cell_type": "markdown",
   "metadata": {},
   "source": [
    "## 2.8 Standard Deviation of multiple scores based on different seeds\n",
    "---"
   ]
  },
  {
   "cell_type": "code",
   "execution_count": 183,
   "metadata": {},
   "outputs": [
    {
     "data": {
      "text/plain": [
       "29.176"
      ]
     },
     "execution_count": 183,
     "metadata": {},
     "output_type": "execute_result"
    }
   ],
   "source": [
    "seeds = [0, 1, 2, 3, 4, 5, 6, 7, 8, 9]\n",
    "\n",
    "results = []\n",
    "\n",
    "for seed in seeds:\n",
    "\n",
    "    np.random.seed(seed)\n",
    "    idx = np.arange(n)\n",
    "    np.random.shuffle(idx)\n",
    "    \n",
    "    df_train = df.iloc[idx[ : n_train]]\n",
    "    df_val = df.iloc[idx[n_train : n_train+n_val]]\n",
    "    df_test = df.iloc[idx[n_train+n_val : ]]\n",
    "\n",
    "    y_train = df_train['final_price'].values\n",
    "    y_val = df_val['final_price'].values\n",
    "    y_test = df_test['final_price'].values\n",
    "    \n",
    "    del df_train['final_price']\n",
    "    del df_val['final_price']\n",
    "    del df_test['final_price']\n",
    "\n",
    "    # train dataset\n",
    "    X_train = prepare_z_X(df_train)\n",
    "    w0, w = train_linear_regression(X_train, y_train)\n",
    "    \n",
    "    # validate dataset\n",
    "    X_val = prepare_z_X(df_val)\n",
    "    y_pred = w0 + X_val.dot(w)\n",
    "    \n",
    "    score = rmse(y_val, y_pred)\n",
    "\n",
    "    results = np.append(results, score)\n",
    "\n",
    "std = np.std(results)\n",
    "\n",
    "round(std, 3)"
   ]
  },
  {
   "cell_type": "markdown",
   "metadata": {},
   "source": [
    "1. `seeds = [0, 1, 2, 3, 4, 5, 6, 7, 8, 9]`  \n",
    "   Mendefinisikan daftar `seeds` yang berisi nilai-nilai benih (seed) yang akan digunakan untuk memastikan reproduktifitas hasil randomisasi data.\n",
    "2. `results = []`  \n",
    "   Menginisialisasi list kosong `results` untuk menyimpan hasil RMSE dari setiap iterasi pelatihan dan validasi model.\n",
    "3. `for seed in seeds:`  \n",
    "   Memulai loop untuk setiap nilai `seed` dalam daftar `seeds`. Di dalam loop ini, dataset akan diacak dan model akan dilatih dan divalidasi.\n",
    "4. `np.random.seed(seed)`  \n",
    "   Mengatur seed untuk generator angka acak NumPy sesuai dengan nilai `seed` saat ini, sehingga hasil randomisasi dapat direproduksi.\n",
    "5. `idx = np.arange(n)`  \n",
    "   Membuat array `idx` yang berisi indeks dari 0 hingga `n` (total jumlah data).\n",
    "6. `np.random.shuffle(idx)`  \n",
    "   Mengacak urutan elemen dalam array `idx` untuk membuat pembagian acak dari dataset.\n",
    "7. `df_train = df.iloc[idx[ : n_train]]`  \n",
    "   Memilih subset dari DataFrame `df` untuk dataset pelatihan (`df_train`) menggunakan indeks yang sudah diacak.\n",
    "8. `df_val = df.iloc[idx[n_train : n_train+n_val]]`  \n",
    "   Memilih subset dari DataFrame `df` untuk dataset validasi (`df_val`) berdasarkan indeks yang sudah diacak.\n",
    "9. `df_test = df.iloc[idx[n_train+n_val : ]]`  \n",
    "   Memilih subset dari DataFrame `df` untuk dataset pengujian (`df_test`) berdasarkan indeks yang sudah diacak.\n",
    "10. `y_train = df_train['final_price'].values`  \n",
    "    Mengambil nilai `final_price` dari dataset pelatihan dan menyimpannya dalam array `y_train`.\n",
    "11. `y_val = df_val['final_price'].values`  \n",
    "    Mengambil nilai `final_price` dari dataset validasi dan menyimpannya dalam array `y_val`.\n",
    "12. `y_test = df_test['final_price'].values`  \n",
    "    Mengambil nilai `final_price` dari dataset pengujian dan menyimpannya dalam array `y_test`.\n",
    "13. `del df_train['final_price']`  \n",
    "    Menghapus kolom `final_price` dari dataset pelatihan untuk hanya menyisakan fitur-fitur yang diperlukan.\n",
    "14. `del df_val['final_price']`  \n",
    "    Menghapus kolom `final_price` dari dataset validasi untuk hanya menyisakan fitur-fitur yang diperlukan.\n",
    "15. `del df_test['final_price']`  \n",
    "    Menghapus kolom `final_price` dari dataset pengujian untuk hanya menyisakan fitur-fitur yang diperlukan.\n",
    "16. `# train dataset`  \n",
    "    Komentar yang menunjukkan bahwa bagian kode berikutnya digunakan untuk melatih model menggunakan dataset pelatihan.\n",
    "17. `X_train = prepare_z_X(df_train)`  \n",
    "    Memanggil fungsi `prepare_z_X` dengan argumen `df_train` untuk mempersiapkan data fitur dari dataset pelatihan. Hasilnya disimpan dalam variabel `X_train`.\n",
    "18. `w0, w = train_linear_regression(X_train, y_train)`  \n",
    "    Memanggil fungsi `train_linear_regression` dengan argumen `X_train` dan `y_train` untuk melatih model regresi linier. Fungsi ini mengembalikan bias term (`w0`) dan koefisien (`w`).\n",
    "19. `# validate dataset`  \n",
    "    Komentar yang menunjukkan bahwa bagian kode berikutnya digunakan untuk memvalidasi model menggunakan dataset validasi.\n",
    "20. `X_val = prepare_z_X(df_val)`  \n",
    "    Memanggil fungsi `prepare_z_X` dengan argumen `df_val` untuk mempersiapkan data fitur dari dataset validasi. Hasilnya disimpan dalam variabel `X_val`.\n",
    "21. `y_pred = w0 + X_val.dot(w)`  \n",
    "    Menghitung prediksi (`y_pred`) menggunakan bias term (`w0`) dan hasil kali antara data fitur validasi (`X_val`) dengan koefisien (`w`).\n",
    "22. `score = rmse(y_val, y_pred)`  \n",
    "    Menghitung Root Mean Squared Error (RMSE) antara nilai sebenarnya dari dataset validasi (`y_val`) dan nilai yang diprediksi (`y_pred`) dengan menggunakan fungsi `rmse`. Hasilnya disimpan dalam variabel `score`.\n",
    "23. `results = np.append(results, score)`  \n",
    "    Menambahkan nilai `score` (RMSE) ke dalam list `results` untuk mencatat hasil dari iterasi saat ini.\n",
    "24. `std = np.std(results)`  \n",
    "    Menghitung deviasi standar dari hasil RMSE yang disimpan dalam `results`. Ini memberikan informasi tentang variabilitas performa model di antara berbagai pembagian data.\n",
    "25. `round(std, 3)`  \n",
    "    Mengembalikan nilai deviasi standar yang telah dibulatkan hingga tiga desimal. Ini memberikan ringkasan dari konsistensi model di berbagai iterasi dengan seed yang berbeda.\n",
    "\n",
    "Kode ini membagi dataset menjadi subset pelatihan, validasi, dan pengujian dengan cara yang acak berdasarkan beberapa nilai seed. Model regresi linier dilatih dan divalidasi pada setiap pembagian data, dan deviasi standar dari RMSE dihitung untuk mengevaluasi stabilitas performa model di berbagai pembagian data yang berbeda. "
   ]
  },
  {
   "cell_type": "markdown",
   "metadata": {},
   "source": [
    "> ### Question 5\n",
    "\n",
    "What is the standard deviation of the RMSE values?\n",
    "\n",
    "- 19.176\n",
    "- 29.176\n",
    "- 39.176\n",
    "- 49.176\n",
    "\n",
    "Answer : `29.176`"
   ]
  },
  {
   "cell_type": "code",
   "execution_count": 184,
   "metadata": {},
   "outputs": [
    {
     "data": {
      "text/plain": [
       "608.61"
      ]
     },
     "execution_count": 184,
     "metadata": {},
     "output_type": "execute_result"
    }
   ],
   "source": [
    "np.random.seed(9)\n",
    "idx = np.arange(n)\n",
    "np.random.shuffle(idx)\n",
    "\n",
    "df_train = df.iloc[idx[ : n_train]]\n",
    "df_val = df.iloc[idx[n_train : n_train+n_val]]\n",
    "df_test = df.iloc[idx[n_train+n_val : ]]\n",
    "\n",
    "y_train = df_train['final_price'].values\n",
    "y_val = df_val['final_price'].values\n",
    "y_test = df_test['final_price'].values\n",
    "\n",
    "del df_train['final_price']\n",
    "del df_val['final_price']\n",
    "del df_test['final_price']\n",
    "\n",
    "df_full_train = pd.concat([df_train, df_val])\n",
    "\n",
    "df_full_train = df_full_train.reset_index(drop=True)\n",
    "\n",
    "X_full_train = prepare_z_X(df_full_train)\n",
    "\n",
    "y_full_train = np.concatenate([y_train, y_val])\n",
    "\n",
    "# test dataset\n",
    "X_test = prepare_z_X(df_test)\n",
    "w0, w = train_linear_regression_reg(X_full_train, y_full_train, r=0.001)\n",
    "\n",
    "y_pred = w0 + X_test.dot(w)\n",
    "\n",
    "score = rmse(y_test, y_pred)\n",
    "\n",
    "round(score,2)"
   ]
  },
  {
   "cell_type": "markdown",
   "metadata": {},
   "source": [
    "1. `np.random.seed(9)`  \n",
    "   Mengatur seed untuk generator angka acak NumPy dengan nilai 9. Ini memastikan bahwa setiap kali kode ini dijalankan, hasil pengacakan akan selalu sama. Ini penting untuk reproduktifitas, terutama saat melakukan eksperimen atau pelatihan model, karena kita ingin dapat mengulangi hasil yang sama jika diperlukan.\n",
    "2. `idx = np.arange(n)`  \n",
    "   Membuat array `idx` yang berisi urutan angka dari 0 hingga `n-1`. Fungsi `np.arange(n)` menghasilkan array dengan nilai yang dimulai dari 0 hingga `n` (total jumlah data) secara berurutan. Misalnya, jika `n` adalah 5, maka `idx` akan menjadi `[0, 1, 2, 3, 4]`.\n",
    "3. `np.random.shuffle(idx)`  \n",
    "   Mengacak urutan elemen dalam array `idx` secara in-place. Ini mengubah urutan elemen di dalam `idx`, sehingga setiap kali kode dijalankan, urutan ini akan berbeda (tetapi tetap sama jika menggunakan seed yang sama). Hasilnya adalah pengacakan indeks yang dapat digunakan untuk membagi dataset menjadi subset pelatihan, validasi, dan pengujian secara acak.\n",
    "\n",
    "Pembagian Dataset\n",
    "\n",
    "4. `df_train = df.iloc[idx[ : n_train]]`  \n",
    "   Menggunakan `iloc` untuk memilih subset dari DataFrame `df` berdasarkan indeks acak yang telah diacak sebelumnya dalam `idx`. Baris ini memilih semua baris dari indeks 0 hingga `n_train`, yang akan menjadi dataset pelatihan. Hasilnya disimpan dalam variabel `df_train`.\n",
    "5. `df_val = df.iloc[idx[n_train : n_train+n_val]]`  \n",
    "   Memilih subset dari DataFrame `df` untuk dataset validasi. Baris ini mengambil semua baris dari indeks `n_train` hingga `n_train + n_val`, yang akan menjadi dataset validasi. Hasilnya disimpan dalam variabel `df_val`.\n",
    "6. `df_test = df.iloc[idx[n_train+n_val : ]]`  \n",
    "   Memilih subset dari DataFrame `df` untuk dataset pengujian. Baris ini mengambil semua baris dari indeks `n_train + n_val` hingga akhir DataFrame, yang akan menjadi dataset pengujian. Hasilnya disimpan dalam variabel `df_test`.\n",
    "\n",
    "Menyiapkan Target\n",
    "\n",
    "7. `y_train = df_train['final_price'].values`  \n",
    "   Mengambil nilai dari kolom `final_price` dalam DataFrame `df_train` dan menyimpannya dalam variabel `y_train`. Ini akan menjadi target yang ingin diprediksi oleh model selama proses pelatihan.\n",
    "8. `y_val = df_val['final_price'].values`  \n",
    "   Mengambil nilai dari kolom `final_price` dalam DataFrame `df_val` dan menyimpannya dalam variabel `y_val`. Ini akan menjadi target untuk evaluasi model selama proses validasi.\n",
    "9. `y_test = df_test['final_price'].values`  \n",
    "   Mengambil nilai dari kolom `final_price` dalam DataFrame `df_test` dan menyimpannya dalam variabel `y_test`. Ini akan menjadi target untuk evaluasi model setelah pelatihan dan validasi, saat menguji model pada dataset pengujian.\n",
    "10. `del df_train['final_price']`  \n",
    "    Menghapus kolom `final_price` dari DataFrame `df_train`. Hal ini dilakukan agar DataFrame hanya berisi fitur yang akan digunakan untuk melatih model, tanpa mencampurkan target yang ingin diprediksi.\n",
    "11. `del df_val['final_price']`  \n",
    "    Menghapus kolom `final_price` dari DataFrame `df_val` untuk memastikan bahwa hanya fitur yang tersisa yang digunakan untuk validasi model.\n",
    "12. `del df_test['final_price']`  \n",
    "    Menghapus kolom `final_price` dari DataFrame `df_test` sehingga DataFrame ini hanya berisi fitur untuk pengujian model, menjamin bahwa prediksi hanya didasarkan pada fitur-fitur tersebut.\n",
    "\n",
    "Menggabungkan Dataset Pelatihan dan Validasi\n",
    "\n",
    "13. `df_full_train = pd.concat([df_train, df_val])`  \n",
    "    Menggabungkan DataFrame `df_train` dan `df_val` menjadi satu DataFrame baru yang disebut `df_full_train`. Penggabungan ini dilakukan untuk menggabungkan data pelatihan dan validasi menjadi satu set data penuh yang akan digunakan untuk pelatihan model lebih lanjut.\n",
    "14. `df_full_train = df_full_train.reset_index(drop=True)`  \n",
    "    Mengatur ulang indeks dari DataFrame `df_full_train` setelah penggabungan. Parameter `drop=True` memastikan bahwa indeks lama tidak ditambahkan sebagai kolom baru. Hal ini memberikan indeks yang bersih dan berurutan pada DataFrame yang baru.\n",
    "15. `X_full_train = prepare_z_X(df_full_train)`  \n",
    "    Memanggil fungsi `prepare_z_X` dengan argumen `df_full_train` untuk mempersiapkan data fitur dari DataFrame gabungan. Hasilnya disimpan dalam variabel `X_full_train`, yang merupakan array NumPy dari fitur-fitur yang akan digunakan untuk melatih model.\n",
    "16. `y_full_train = np.concatenate([y_train, y_val])`  \n",
    "    Menggabungkan array target `y_train` dan `y_val` menggunakan `np.concatenate`. Hasilnya disimpan dalam variabel `y_full_train`, yang merupakan array yang berisi nilai target lengkap dari dataset pelatihan dan validasi.\n",
    "\n",
    "Menyiapkan Dataset Pengujian\n",
    "\n",
    "17. `X_test = prepare_z_X(df_test)`  \n",
    "    Memanggil fungsi `prepare_z_X` dengan argumen `df_test` untuk mempersiapkan data fitur dari dataset pengujian. Hasilnya disimpan dalam variabel `X_test`, yang merupakan array NumPy dari fitur-fitur yang akan digunakan untuk prediksi.\n",
    "\n",
    "Melatih Model Regresi Linier\n",
    "\n",
    "18. `w0, w = train_linear_regression_reg(X_full_train, y_full_train, r=0.001)`  \n",
    "    Memanggil fungsi `train_linear_regression_reg` dengan argumen `X_full_train`, `y_full_train`, dan `r=0.001` untuk melatih model regresi linier dengan regularisasi L2. Fungsi ini mengembalikan bias term (`w0`) dan koefisien (`w`) untuk fitur-fitur. Nilai-nilai ini digunakan untuk prediksi pada data pengujian.\n",
    "19. `y_pred = w0 + X_test.dot(w)`  \n",
    "    Menghitung prediksi (`y_pred`) menggunakan bias term (`w0`) dan hasil kali antara data fitur pengujian (`X_test`) dengan koefisien (`w`). Ini menghasilkan nilai yang diprediksi untuk dataset pengujian.\n",
    "20. `score = rmse(y_test, y_pred)`  \n",
    "    Menghitung Root Mean Squared Error (RMSE) antara nilai sebenarnya dari dataset pengujian (`y_test`) dan nilai yang diprediksi (`y_pred`) dengan menggunakan fungsi `rmse`. Hasilnya disimpan dalam variabel `score`.\n",
    "21. `round(score, 2)`  \n",
    "    Mengembalikan nilai `score` (RMSE) yang telah dibulatkan hingga dua desimal. Ini memberikan gambaran tentang seberapa baik model dalam melakukan prediksi pada dataset pengujian.\n",
    "\n",
    "Kode ini digunakan untuk melakukan prediksi pada dataset pengujian menggunakan model regresi linier yang telah dilatih dengan data pelatihan dan validasi. Dengan menghitung RMSE dari prediksi pada dataset pengujian, kita dapat mengevaluasi performa akhir model dalam memprediksi nilai yang benar.\n"
   ]
  },
  {
   "cell_type": "markdown",
   "metadata": {},
   "source": [
    "> ### Question 6\n",
    "\n",
    "What is the RMSE on the test dataset?\n",
    "\n",
    "- 598.60\n",
    "- 608.60\n",
    "- 618.60\n",
    "- 628.60\n",
    "\n",
    "Answer : `608.61`"
   ]
  }
 ],
 "metadata": {
  "kernelspec": {
   "display_name": "Python 3",
   "language": "python",
   "name": "python3"
  },
  "language_info": {
   "codemirror_mode": {
    "name": "ipython",
    "version": 3
   },
   "file_extension": ".py",
   "mimetype": "text/x-python",
   "name": "python",
   "nbconvert_exporter": "python",
   "pygments_lexer": "ipython3",
   "version": "3.10.12"
  }
 },
 "nbformat": 4,
 "nbformat_minor": 2
}
